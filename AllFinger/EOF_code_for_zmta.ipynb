{
 "cells": [
  {
   "cell_type": "code",
   "execution_count": 1,
   "id": "572d4df4-c13a-4bc6-981b-5afd6f48e07c",
   "metadata": {
    "ExecuteTime": {
     "end_time": "2024-03-03T04:30:14.761980Z",
     "start_time": "2024-03-03T04:30:06.481636Z"
    }
   },
   "outputs": [],
   "source": [
    "import time as clocktime\n",
    "import glob\n",
    "import xcdat as xc\n",
    "import xarray as xr\n",
    "import numpy as np\n",
    "import os\n",
    "\n",
    "# principal component analysis\n",
    "from eofs.xarray import Eof\n",
    "\n",
    "# define a lambda function to perform natural sort\n",
    "import re\n",
    "natsort = lambda s: [int(t) if t.isdigit() else t.lower() for t in re.split(\"(\\d+)\", s)]"
   ]
  },
  {
   "cell_type": "code",
   "execution_count": 2,
   "id": "2f50aad5-30d5-40c0-b3b0-cfee87301b62",
   "metadata": {
    "ExecuteTime": {
     "end_time": "2024-03-03T04:30:14.769689Z",
     "start_time": "2024-03-03T04:30:14.764104Z"
    }
   },
   "outputs": [],
   "source": [
    "cmipTable = {\n",
    "    \"pr\": \"Amon\",\n",
    "    \"psl\": \"Amon\",\n",
    "    \"tas\": \"Amon\",\n",
    "    \"zmta\": \"Amon\",\n",
    "    \"tos\": \"Omon\",\n",
    "    \"siconc\": \"OImon\",\n",
    "    \"monmaxpr\": \"Aday\",\n",
    "    \"monmaxtasmax\": \"Aday\",\n",
    "    \"monmintasmin\": \"Aday\",\n",
    "}\n",
    "cmipVar = {\n",
    "    \"pr\": \"pr\",\n",
    "    \"psl\": \"psl\",\n",
    "    \"tas\": \"tas\",\n",
    "    \"zmta\": \"ta\",\n",
    "    \"tos\": \"tos\",\n",
    "    \"siconc\": \"siconc\",\n",
    "    \"monmaxpr\": \"pr\",\n",
    "    \"monmaxtasmax\": \"tasmax\",\n",
    "    \"monmintasmin\": \"tasmin\",\n",
    "}\n",
    "nlat = 72\n",
    "nlon = 144"
   ]
  },
  {
   "cell_type": "code",
   "execution_count": 3,
   "id": "ab5d5595-0192-43e9-89db-b1af5c20039d",
   "metadata": {
    "ExecuteTime": {
     "end_time": "2024-03-03T04:30:14.775499Z",
     "start_time": "2024-03-03T04:30:14.772481Z"
    }
   },
   "outputs": [],
   "source": [
    "# User parameters\n",
    "# root_dir = \"/net/krypton/climdyn_nobackup/FTP/ForceSMIP/\"  # path to forcesmip data (ETH)\n",
    "root_dir = \"/Volumes/R1/ForceSMIP/\"  # path to forcesmip data (NCAR)\n",
    "ncvar = \"zmta\"  # variable to be used: pr, psl, tas, zmta, tos, siconc, monmaxpr, monmaxtasmax, monmintasmin\n",
    "vid = cmipVar[ncvar]  # the variable id in the netcdf file differs – this maps to the standard CMIP variable name\n",
    "reference_period = (\"1950-01-01\", \"2023-01-01\") # climatological period (for anomaly calculations)\n",
    "\n",
    "# choose evaluation data\n",
    "eval_tier = \"Tier1\"  # Tier1, Tier2, or Tier3\n",
    "tv_time_period = (\"1950-01-01\", \"2023-01-01\")"
   ]
  },
  {
   "cell_type": "code",
   "execution_count": 4,
   "id": "2f87f515-2c4c-4d6b-803f-2314d8f79cb6",
   "metadata": {
    "ExecuteTime": {
     "end_time": "2024-03-03T04:34:25.039133Z",
     "start_time": "2024-03-03T04:30:14.778529Z"
    },
    "scrolled": true
   },
   "outputs": [
    {
     "name": "stdout",
     "output_type": "stream",
     "text": [
      "1 / 5: CESM2 (50 members)\n",
      "."
     ]
    },
    {
     "name": "stderr",
     "output_type": "stream",
     "text": [
      "2024-03-02 23:30:15,188 [WARNING]: bounds.py(add_missing_bounds:188) >> Cannot generate bounds for coordinate variable 'lon' which has a length <= 1 (singleton).\n",
      "2024-03-02 23:30:15,188 [WARNING]: bounds.py(add_missing_bounds:188) >> Cannot generate bounds for coordinate variable 'lon' which has a length <= 1 (singleton).\n"
     ]
    },
    {
     "name": "stdout",
     "output_type": "stream",
     "text": [
      "."
     ]
    },
    {
     "name": "stderr",
     "output_type": "stream",
     "text": [
      "2024-03-02 23:30:15,982 [WARNING]: bounds.py(add_missing_bounds:188) >> Cannot generate bounds for coordinate variable 'lon' which has a length <= 1 (singleton).\n",
      "2024-03-02 23:30:15,982 [WARNING]: bounds.py(add_missing_bounds:188) >> Cannot generate bounds for coordinate variable 'lon' which has a length <= 1 (singleton).\n"
     ]
    },
    {
     "name": "stdout",
     "output_type": "stream",
     "text": [
      "."
     ]
    },
    {
     "name": "stderr",
     "output_type": "stream",
     "text": [
      "2024-03-02 23:30:16,571 [WARNING]: bounds.py(add_missing_bounds:188) >> Cannot generate bounds for coordinate variable 'lon' which has a length <= 1 (singleton).\n",
      "2024-03-02 23:30:16,571 [WARNING]: bounds.py(add_missing_bounds:188) >> Cannot generate bounds for coordinate variable 'lon' which has a length <= 1 (singleton).\n"
     ]
    },
    {
     "name": "stdout",
     "output_type": "stream",
     "text": [
      "."
     ]
    },
    {
     "name": "stderr",
     "output_type": "stream",
     "text": [
      "2024-03-02 23:30:17,218 [WARNING]: bounds.py(add_missing_bounds:188) >> Cannot generate bounds for coordinate variable 'lon' which has a length <= 1 (singleton).\n",
      "2024-03-02 23:30:17,218 [WARNING]: bounds.py(add_missing_bounds:188) >> Cannot generate bounds for coordinate variable 'lon' which has a length <= 1 (singleton).\n"
     ]
    },
    {
     "name": "stdout",
     "output_type": "stream",
     "text": [
      "."
     ]
    },
    {
     "name": "stderr",
     "output_type": "stream",
     "text": [
      "2024-03-02 23:30:17,855 [WARNING]: bounds.py(add_missing_bounds:188) >> Cannot generate bounds for coordinate variable 'lon' which has a length <= 1 (singleton).\n",
      "2024-03-02 23:30:17,855 [WARNING]: bounds.py(add_missing_bounds:188) >> Cannot generate bounds for coordinate variable 'lon' which has a length <= 1 (singleton).\n"
     ]
    },
    {
     "name": "stdout",
     "output_type": "stream",
     "text": [
      "."
     ]
    },
    {
     "name": "stderr",
     "output_type": "stream",
     "text": [
      "2024-03-02 23:30:18,477 [WARNING]: bounds.py(add_missing_bounds:188) >> Cannot generate bounds for coordinate variable 'lon' which has a length <= 1 (singleton).\n",
      "2024-03-02 23:30:18,477 [WARNING]: bounds.py(add_missing_bounds:188) >> Cannot generate bounds for coordinate variable 'lon' which has a length <= 1 (singleton).\n"
     ]
    },
    {
     "name": "stdout",
     "output_type": "stream",
     "text": [
      "."
     ]
    },
    {
     "name": "stderr",
     "output_type": "stream",
     "text": [
      "2024-03-02 23:30:19,159 [WARNING]: bounds.py(add_missing_bounds:188) >> Cannot generate bounds for coordinate variable 'lon' which has a length <= 1 (singleton).\n",
      "2024-03-02 23:30:19,159 [WARNING]: bounds.py(add_missing_bounds:188) >> Cannot generate bounds for coordinate variable 'lon' which has a length <= 1 (singleton).\n"
     ]
    },
    {
     "name": "stdout",
     "output_type": "stream",
     "text": [
      "."
     ]
    },
    {
     "name": "stderr",
     "output_type": "stream",
     "text": [
      "2024-03-02 23:30:19,786 [WARNING]: bounds.py(add_missing_bounds:188) >> Cannot generate bounds for coordinate variable 'lon' which has a length <= 1 (singleton).\n",
      "2024-03-02 23:30:19,786 [WARNING]: bounds.py(add_missing_bounds:188) >> Cannot generate bounds for coordinate variable 'lon' which has a length <= 1 (singleton).\n"
     ]
    },
    {
     "name": "stdout",
     "output_type": "stream",
     "text": [
      "."
     ]
    },
    {
     "name": "stderr",
     "output_type": "stream",
     "text": [
      "2024-03-02 23:30:20,438 [WARNING]: bounds.py(add_missing_bounds:188) >> Cannot generate bounds for coordinate variable 'lon' which has a length <= 1 (singleton).\n",
      "2024-03-02 23:30:20,438 [WARNING]: bounds.py(add_missing_bounds:188) >> Cannot generate bounds for coordinate variable 'lon' which has a length <= 1 (singleton).\n"
     ]
    },
    {
     "name": "stdout",
     "output_type": "stream",
     "text": [
      "."
     ]
    },
    {
     "name": "stderr",
     "output_type": "stream",
     "text": [
      "2024-03-02 23:30:21,018 [WARNING]: bounds.py(add_missing_bounds:188) >> Cannot generate bounds for coordinate variable 'lon' which has a length <= 1 (singleton).\n",
      "2024-03-02 23:30:21,018 [WARNING]: bounds.py(add_missing_bounds:188) >> Cannot generate bounds for coordinate variable 'lon' which has a length <= 1 (singleton).\n"
     ]
    },
    {
     "name": "stdout",
     "output_type": "stream",
     "text": [
      "."
     ]
    },
    {
     "name": "stderr",
     "output_type": "stream",
     "text": [
      "2024-03-02 23:30:21,680 [WARNING]: bounds.py(add_missing_bounds:188) >> Cannot generate bounds for coordinate variable 'lon' which has a length <= 1 (singleton).\n",
      "2024-03-02 23:30:21,680 [WARNING]: bounds.py(add_missing_bounds:188) >> Cannot generate bounds for coordinate variable 'lon' which has a length <= 1 (singleton).\n"
     ]
    },
    {
     "name": "stdout",
     "output_type": "stream",
     "text": [
      "."
     ]
    },
    {
     "name": "stderr",
     "output_type": "stream",
     "text": [
      "2024-03-02 23:30:22,444 [WARNING]: bounds.py(add_missing_bounds:188) >> Cannot generate bounds for coordinate variable 'lon' which has a length <= 1 (singleton).\n",
      "2024-03-02 23:30:22,444 [WARNING]: bounds.py(add_missing_bounds:188) >> Cannot generate bounds for coordinate variable 'lon' which has a length <= 1 (singleton).\n"
     ]
    },
    {
     "name": "stdout",
     "output_type": "stream",
     "text": [
      "."
     ]
    },
    {
     "name": "stderr",
     "output_type": "stream",
     "text": [
      "2024-03-02 23:30:23,103 [WARNING]: bounds.py(add_missing_bounds:188) >> Cannot generate bounds for coordinate variable 'lon' which has a length <= 1 (singleton).\n",
      "2024-03-02 23:30:23,103 [WARNING]: bounds.py(add_missing_bounds:188) >> Cannot generate bounds for coordinate variable 'lon' which has a length <= 1 (singleton).\n"
     ]
    },
    {
     "name": "stdout",
     "output_type": "stream",
     "text": [
      "."
     ]
    },
    {
     "name": "stderr",
     "output_type": "stream",
     "text": [
      "2024-03-02 23:30:23,860 [WARNING]: bounds.py(add_missing_bounds:188) >> Cannot generate bounds for coordinate variable 'lon' which has a length <= 1 (singleton).\n",
      "2024-03-02 23:30:23,860 [WARNING]: bounds.py(add_missing_bounds:188) >> Cannot generate bounds for coordinate variable 'lon' which has a length <= 1 (singleton).\n"
     ]
    },
    {
     "name": "stdout",
     "output_type": "stream",
     "text": [
      "."
     ]
    },
    {
     "name": "stderr",
     "output_type": "stream",
     "text": [
      "2024-03-02 23:30:24,454 [WARNING]: bounds.py(add_missing_bounds:188) >> Cannot generate bounds for coordinate variable 'lon' which has a length <= 1 (singleton).\n",
      "2024-03-02 23:30:24,454 [WARNING]: bounds.py(add_missing_bounds:188) >> Cannot generate bounds for coordinate variable 'lon' which has a length <= 1 (singleton).\n"
     ]
    },
    {
     "name": "stdout",
     "output_type": "stream",
     "text": [
      "."
     ]
    },
    {
     "name": "stderr",
     "output_type": "stream",
     "text": [
      "2024-03-02 23:30:25,089 [WARNING]: bounds.py(add_missing_bounds:188) >> Cannot generate bounds for coordinate variable 'lon' which has a length <= 1 (singleton).\n",
      "2024-03-02 23:30:25,089 [WARNING]: bounds.py(add_missing_bounds:188) >> Cannot generate bounds for coordinate variable 'lon' which has a length <= 1 (singleton).\n"
     ]
    },
    {
     "name": "stdout",
     "output_type": "stream",
     "text": [
      "."
     ]
    },
    {
     "name": "stderr",
     "output_type": "stream",
     "text": [
      "2024-03-02 23:30:25,748 [WARNING]: bounds.py(add_missing_bounds:188) >> Cannot generate bounds for coordinate variable 'lon' which has a length <= 1 (singleton).\n",
      "2024-03-02 23:30:25,748 [WARNING]: bounds.py(add_missing_bounds:188) >> Cannot generate bounds for coordinate variable 'lon' which has a length <= 1 (singleton).\n"
     ]
    },
    {
     "name": "stdout",
     "output_type": "stream",
     "text": [
      "."
     ]
    },
    {
     "name": "stderr",
     "output_type": "stream",
     "text": [
      "2024-03-02 23:30:26,497 [WARNING]: bounds.py(add_missing_bounds:188) >> Cannot generate bounds for coordinate variable 'lon' which has a length <= 1 (singleton).\n",
      "2024-03-02 23:30:26,497 [WARNING]: bounds.py(add_missing_bounds:188) >> Cannot generate bounds for coordinate variable 'lon' which has a length <= 1 (singleton).\n"
     ]
    },
    {
     "name": "stdout",
     "output_type": "stream",
     "text": [
      "."
     ]
    },
    {
     "name": "stderr",
     "output_type": "stream",
     "text": [
      "2024-03-02 23:30:27,224 [WARNING]: bounds.py(add_missing_bounds:188) >> Cannot generate bounds for coordinate variable 'lon' which has a length <= 1 (singleton).\n",
      "2024-03-02 23:30:27,224 [WARNING]: bounds.py(add_missing_bounds:188) >> Cannot generate bounds for coordinate variable 'lon' which has a length <= 1 (singleton).\n"
     ]
    },
    {
     "name": "stdout",
     "output_type": "stream",
     "text": [
      "."
     ]
    },
    {
     "name": "stderr",
     "output_type": "stream",
     "text": [
      "2024-03-02 23:30:27,933 [WARNING]: bounds.py(add_missing_bounds:188) >> Cannot generate bounds for coordinate variable 'lon' which has a length <= 1 (singleton).\n",
      "2024-03-02 23:30:27,933 [WARNING]: bounds.py(add_missing_bounds:188) >> Cannot generate bounds for coordinate variable 'lon' which has a length <= 1 (singleton).\n"
     ]
    },
    {
     "name": "stdout",
     "output_type": "stream",
     "text": [
      "."
     ]
    },
    {
     "name": "stderr",
     "output_type": "stream",
     "text": [
      "2024-03-02 23:30:28,644 [WARNING]: bounds.py(add_missing_bounds:188) >> Cannot generate bounds for coordinate variable 'lon' which has a length <= 1 (singleton).\n",
      "2024-03-02 23:30:28,644 [WARNING]: bounds.py(add_missing_bounds:188) >> Cannot generate bounds for coordinate variable 'lon' which has a length <= 1 (singleton).\n"
     ]
    },
    {
     "name": "stdout",
     "output_type": "stream",
     "text": [
      "."
     ]
    },
    {
     "name": "stderr",
     "output_type": "stream",
     "text": [
      "2024-03-02 23:30:29,279 [WARNING]: bounds.py(add_missing_bounds:188) >> Cannot generate bounds for coordinate variable 'lon' which has a length <= 1 (singleton).\n",
      "2024-03-02 23:30:29,279 [WARNING]: bounds.py(add_missing_bounds:188) >> Cannot generate bounds for coordinate variable 'lon' which has a length <= 1 (singleton).\n"
     ]
    },
    {
     "name": "stdout",
     "output_type": "stream",
     "text": [
      "."
     ]
    },
    {
     "name": "stderr",
     "output_type": "stream",
     "text": [
      "2024-03-02 23:30:30,005 [WARNING]: bounds.py(add_missing_bounds:188) >> Cannot generate bounds for coordinate variable 'lon' which has a length <= 1 (singleton).\n",
      "2024-03-02 23:30:30,005 [WARNING]: bounds.py(add_missing_bounds:188) >> Cannot generate bounds for coordinate variable 'lon' which has a length <= 1 (singleton).\n"
     ]
    },
    {
     "name": "stdout",
     "output_type": "stream",
     "text": [
      "."
     ]
    },
    {
     "name": "stderr",
     "output_type": "stream",
     "text": [
      "2024-03-02 23:30:30,717 [WARNING]: bounds.py(add_missing_bounds:188) >> Cannot generate bounds for coordinate variable 'lon' which has a length <= 1 (singleton).\n",
      "2024-03-02 23:30:30,717 [WARNING]: bounds.py(add_missing_bounds:188) >> Cannot generate bounds for coordinate variable 'lon' which has a length <= 1 (singleton).\n"
     ]
    },
    {
     "name": "stdout",
     "output_type": "stream",
     "text": [
      "."
     ]
    },
    {
     "name": "stderr",
     "output_type": "stream",
     "text": [
      "2024-03-02 23:30:31,405 [WARNING]: bounds.py(add_missing_bounds:188) >> Cannot generate bounds for coordinate variable 'lon' which has a length <= 1 (singleton).\n",
      "2024-03-02 23:30:31,405 [WARNING]: bounds.py(add_missing_bounds:188) >> Cannot generate bounds for coordinate variable 'lon' which has a length <= 1 (singleton).\n"
     ]
    },
    {
     "name": "stdout",
     "output_type": "stream",
     "text": [
      "."
     ]
    },
    {
     "name": "stderr",
     "output_type": "stream",
     "text": [
      "2024-03-02 23:30:32,024 [WARNING]: bounds.py(add_missing_bounds:188) >> Cannot generate bounds for coordinate variable 'lon' which has a length <= 1 (singleton).\n",
      "2024-03-02 23:30:32,024 [WARNING]: bounds.py(add_missing_bounds:188) >> Cannot generate bounds for coordinate variable 'lon' which has a length <= 1 (singleton).\n"
     ]
    },
    {
     "name": "stdout",
     "output_type": "stream",
     "text": [
      "."
     ]
    },
    {
     "name": "stderr",
     "output_type": "stream",
     "text": [
      "2024-03-02 23:30:32,784 [WARNING]: bounds.py(add_missing_bounds:188) >> Cannot generate bounds for coordinate variable 'lon' which has a length <= 1 (singleton).\n",
      "2024-03-02 23:30:32,784 [WARNING]: bounds.py(add_missing_bounds:188) >> Cannot generate bounds for coordinate variable 'lon' which has a length <= 1 (singleton).\n"
     ]
    },
    {
     "name": "stdout",
     "output_type": "stream",
     "text": [
      "."
     ]
    },
    {
     "name": "stderr",
     "output_type": "stream",
     "text": [
      "2024-03-02 23:30:33,447 [WARNING]: bounds.py(add_missing_bounds:188) >> Cannot generate bounds for coordinate variable 'lon' which has a length <= 1 (singleton).\n",
      "2024-03-02 23:30:33,447 [WARNING]: bounds.py(add_missing_bounds:188) >> Cannot generate bounds for coordinate variable 'lon' which has a length <= 1 (singleton).\n"
     ]
    },
    {
     "name": "stdout",
     "output_type": "stream",
     "text": [
      "."
     ]
    },
    {
     "name": "stderr",
     "output_type": "stream",
     "text": [
      "2024-03-02 23:30:34,091 [WARNING]: bounds.py(add_missing_bounds:188) >> Cannot generate bounds for coordinate variable 'lon' which has a length <= 1 (singleton).\n",
      "2024-03-02 23:30:34,091 [WARNING]: bounds.py(add_missing_bounds:188) >> Cannot generate bounds for coordinate variable 'lon' which has a length <= 1 (singleton).\n"
     ]
    },
    {
     "name": "stdout",
     "output_type": "stream",
     "text": [
      "."
     ]
    },
    {
     "name": "stderr",
     "output_type": "stream",
     "text": [
      "2024-03-02 23:30:34,831 [WARNING]: bounds.py(add_missing_bounds:188) >> Cannot generate bounds for coordinate variable 'lon' which has a length <= 1 (singleton).\n",
      "2024-03-02 23:30:34,831 [WARNING]: bounds.py(add_missing_bounds:188) >> Cannot generate bounds for coordinate variable 'lon' which has a length <= 1 (singleton).\n"
     ]
    },
    {
     "name": "stdout",
     "output_type": "stream",
     "text": [
      "."
     ]
    },
    {
     "name": "stderr",
     "output_type": "stream",
     "text": [
      "2024-03-02 23:30:35,517 [WARNING]: bounds.py(add_missing_bounds:188) >> Cannot generate bounds for coordinate variable 'lon' which has a length <= 1 (singleton).\n",
      "2024-03-02 23:30:35,517 [WARNING]: bounds.py(add_missing_bounds:188) >> Cannot generate bounds for coordinate variable 'lon' which has a length <= 1 (singleton).\n"
     ]
    },
    {
     "name": "stdout",
     "output_type": "stream",
     "text": [
      "."
     ]
    },
    {
     "name": "stderr",
     "output_type": "stream",
     "text": [
      "2024-03-02 23:30:36,182 [WARNING]: bounds.py(add_missing_bounds:188) >> Cannot generate bounds for coordinate variable 'lon' which has a length <= 1 (singleton).\n",
      "2024-03-02 23:30:36,182 [WARNING]: bounds.py(add_missing_bounds:188) >> Cannot generate bounds for coordinate variable 'lon' which has a length <= 1 (singleton).\n"
     ]
    },
    {
     "name": "stdout",
     "output_type": "stream",
     "text": [
      "."
     ]
    },
    {
     "name": "stderr",
     "output_type": "stream",
     "text": [
      "2024-03-02 23:30:36,883 [WARNING]: bounds.py(add_missing_bounds:188) >> Cannot generate bounds for coordinate variable 'lon' which has a length <= 1 (singleton).\n",
      "2024-03-02 23:30:36,883 [WARNING]: bounds.py(add_missing_bounds:188) >> Cannot generate bounds for coordinate variable 'lon' which has a length <= 1 (singleton).\n"
     ]
    },
    {
     "name": "stdout",
     "output_type": "stream",
     "text": [
      "."
     ]
    },
    {
     "name": "stderr",
     "output_type": "stream",
     "text": [
      "2024-03-02 23:30:37,577 [WARNING]: bounds.py(add_missing_bounds:188) >> Cannot generate bounds for coordinate variable 'lon' which has a length <= 1 (singleton).\n",
      "2024-03-02 23:30:37,577 [WARNING]: bounds.py(add_missing_bounds:188) >> Cannot generate bounds for coordinate variable 'lon' which has a length <= 1 (singleton).\n"
     ]
    },
    {
     "name": "stdout",
     "output_type": "stream",
     "text": [
      "."
     ]
    },
    {
     "name": "stderr",
     "output_type": "stream",
     "text": [
      "2024-03-02 23:30:38,279 [WARNING]: bounds.py(add_missing_bounds:188) >> Cannot generate bounds for coordinate variable 'lon' which has a length <= 1 (singleton).\n",
      "2024-03-02 23:30:38,279 [WARNING]: bounds.py(add_missing_bounds:188) >> Cannot generate bounds for coordinate variable 'lon' which has a length <= 1 (singleton).\n"
     ]
    },
    {
     "name": "stdout",
     "output_type": "stream",
     "text": [
      "."
     ]
    },
    {
     "name": "stderr",
     "output_type": "stream",
     "text": [
      "2024-03-02 23:30:39,138 [WARNING]: bounds.py(add_missing_bounds:188) >> Cannot generate bounds for coordinate variable 'lon' which has a length <= 1 (singleton).\n",
      "2024-03-02 23:30:39,138 [WARNING]: bounds.py(add_missing_bounds:188) >> Cannot generate bounds for coordinate variable 'lon' which has a length <= 1 (singleton).\n"
     ]
    },
    {
     "name": "stdout",
     "output_type": "stream",
     "text": [
      "."
     ]
    },
    {
     "name": "stderr",
     "output_type": "stream",
     "text": [
      "2024-03-02 23:30:39,831 [WARNING]: bounds.py(add_missing_bounds:188) >> Cannot generate bounds for coordinate variable 'lon' which has a length <= 1 (singleton).\n",
      "2024-03-02 23:30:39,831 [WARNING]: bounds.py(add_missing_bounds:188) >> Cannot generate bounds for coordinate variable 'lon' which has a length <= 1 (singleton).\n"
     ]
    },
    {
     "name": "stdout",
     "output_type": "stream",
     "text": [
      "."
     ]
    },
    {
     "name": "stderr",
     "output_type": "stream",
     "text": [
      "2024-03-02 23:30:40,649 [WARNING]: bounds.py(add_missing_bounds:188) >> Cannot generate bounds for coordinate variable 'lon' which has a length <= 1 (singleton).\n",
      "2024-03-02 23:30:40,649 [WARNING]: bounds.py(add_missing_bounds:188) >> Cannot generate bounds for coordinate variable 'lon' which has a length <= 1 (singleton).\n"
     ]
    },
    {
     "name": "stdout",
     "output_type": "stream",
     "text": [
      "."
     ]
    },
    {
     "name": "stderr",
     "output_type": "stream",
     "text": [
      "2024-03-02 23:30:41,365 [WARNING]: bounds.py(add_missing_bounds:188) >> Cannot generate bounds for coordinate variable 'lon' which has a length <= 1 (singleton).\n",
      "2024-03-02 23:30:41,365 [WARNING]: bounds.py(add_missing_bounds:188) >> Cannot generate bounds for coordinate variable 'lon' which has a length <= 1 (singleton).\n"
     ]
    },
    {
     "name": "stdout",
     "output_type": "stream",
     "text": [
      "."
     ]
    },
    {
     "name": "stderr",
     "output_type": "stream",
     "text": [
      "2024-03-02 23:30:42,085 [WARNING]: bounds.py(add_missing_bounds:188) >> Cannot generate bounds for coordinate variable 'lon' which has a length <= 1 (singleton).\n",
      "2024-03-02 23:30:42,085 [WARNING]: bounds.py(add_missing_bounds:188) >> Cannot generate bounds for coordinate variable 'lon' which has a length <= 1 (singleton).\n"
     ]
    },
    {
     "name": "stdout",
     "output_type": "stream",
     "text": [
      "."
     ]
    },
    {
     "name": "stderr",
     "output_type": "stream",
     "text": [
      "2024-03-02 23:30:42,816 [WARNING]: bounds.py(add_missing_bounds:188) >> Cannot generate bounds for coordinate variable 'lon' which has a length <= 1 (singleton).\n",
      "2024-03-02 23:30:42,816 [WARNING]: bounds.py(add_missing_bounds:188) >> Cannot generate bounds for coordinate variable 'lon' which has a length <= 1 (singleton).\n"
     ]
    },
    {
     "name": "stdout",
     "output_type": "stream",
     "text": [
      "."
     ]
    },
    {
     "name": "stderr",
     "output_type": "stream",
     "text": [
      "2024-03-02 23:30:43,570 [WARNING]: bounds.py(add_missing_bounds:188) >> Cannot generate bounds for coordinate variable 'lon' which has a length <= 1 (singleton).\n",
      "2024-03-02 23:30:43,570 [WARNING]: bounds.py(add_missing_bounds:188) >> Cannot generate bounds for coordinate variable 'lon' which has a length <= 1 (singleton).\n"
     ]
    },
    {
     "name": "stdout",
     "output_type": "stream",
     "text": [
      "."
     ]
    },
    {
     "name": "stderr",
     "output_type": "stream",
     "text": [
      "2024-03-02 23:30:44,451 [WARNING]: bounds.py(add_missing_bounds:188) >> Cannot generate bounds for coordinate variable 'lon' which has a length <= 1 (singleton).\n",
      "2024-03-02 23:30:44,451 [WARNING]: bounds.py(add_missing_bounds:188) >> Cannot generate bounds for coordinate variable 'lon' which has a length <= 1 (singleton).\n"
     ]
    },
    {
     "name": "stdout",
     "output_type": "stream",
     "text": [
      "."
     ]
    },
    {
     "name": "stderr",
     "output_type": "stream",
     "text": [
      "2024-03-02 23:30:45,177 [WARNING]: bounds.py(add_missing_bounds:188) >> Cannot generate bounds for coordinate variable 'lon' which has a length <= 1 (singleton).\n",
      "2024-03-02 23:30:45,177 [WARNING]: bounds.py(add_missing_bounds:188) >> Cannot generate bounds for coordinate variable 'lon' which has a length <= 1 (singleton).\n"
     ]
    },
    {
     "name": "stdout",
     "output_type": "stream",
     "text": [
      "."
     ]
    },
    {
     "name": "stderr",
     "output_type": "stream",
     "text": [
      "2024-03-02 23:30:45,947 [WARNING]: bounds.py(add_missing_bounds:188) >> Cannot generate bounds for coordinate variable 'lon' which has a length <= 1 (singleton).\n",
      "2024-03-02 23:30:45,947 [WARNING]: bounds.py(add_missing_bounds:188) >> Cannot generate bounds for coordinate variable 'lon' which has a length <= 1 (singleton).\n"
     ]
    },
    {
     "name": "stdout",
     "output_type": "stream",
     "text": [
      "."
     ]
    },
    {
     "name": "stderr",
     "output_type": "stream",
     "text": [
      "2024-03-02 23:30:46,693 [WARNING]: bounds.py(add_missing_bounds:188) >> Cannot generate bounds for coordinate variable 'lon' which has a length <= 1 (singleton).\n",
      "2024-03-02 23:30:46,693 [WARNING]: bounds.py(add_missing_bounds:188) >> Cannot generate bounds for coordinate variable 'lon' which has a length <= 1 (singleton).\n"
     ]
    },
    {
     "name": "stdout",
     "output_type": "stream",
     "text": [
      "."
     ]
    },
    {
     "name": "stderr",
     "output_type": "stream",
     "text": [
      "2024-03-02 23:30:47,446 [WARNING]: bounds.py(add_missing_bounds:188) >> Cannot generate bounds for coordinate variable 'lon' which has a length <= 1 (singleton).\n",
      "2024-03-02 23:30:47,446 [WARNING]: bounds.py(add_missing_bounds:188) >> Cannot generate bounds for coordinate variable 'lon' which has a length <= 1 (singleton).\n"
     ]
    },
    {
     "name": "stdout",
     "output_type": "stream",
     "text": [
      "."
     ]
    },
    {
     "name": "stderr",
     "output_type": "stream",
     "text": [
      "2024-03-02 23:30:48,203 [WARNING]: bounds.py(add_missing_bounds:188) >> Cannot generate bounds for coordinate variable 'lon' which has a length <= 1 (singleton).\n",
      "2024-03-02 23:30:48,203 [WARNING]: bounds.py(add_missing_bounds:188) >> Cannot generate bounds for coordinate variable 'lon' which has a length <= 1 (singleton).\n"
     ]
    },
    {
     "name": "stdout",
     "output_type": "stream",
     "text": [
      "."
     ]
    },
    {
     "name": "stderr",
     "output_type": "stream",
     "text": [
      "2024-03-02 23:30:48,971 [WARNING]: bounds.py(add_missing_bounds:188) >> Cannot generate bounds for coordinate variable 'lon' which has a length <= 1 (singleton).\n",
      "2024-03-02 23:30:48,971 [WARNING]: bounds.py(add_missing_bounds:188) >> Cannot generate bounds for coordinate variable 'lon' which has a length <= 1 (singleton).\n"
     ]
    },
    {
     "name": "stdout",
     "output_type": "stream",
     "text": [
      "."
     ]
    },
    {
     "name": "stderr",
     "output_type": "stream",
     "text": [
      "2024-03-02 23:30:49,906 [WARNING]: bounds.py(add_missing_bounds:188) >> Cannot generate bounds for coordinate variable 'lon' which has a length <= 1 (singleton).\n",
      "2024-03-02 23:30:49,906 [WARNING]: bounds.py(add_missing_bounds:188) >> Cannot generate bounds for coordinate variable 'lon' which has a length <= 1 (singleton).\n",
      "2024-03-02 23:30:50,680 [WARNING]: bounds.py(add_missing_bounds:188) >> Cannot generate bounds for coordinate variable 'lon' which has a length <= 1 (singleton).\n",
      "2024-03-02 23:30:50,680 [WARNING]: bounds.py(add_missing_bounds:188) >> Cannot generate bounds for coordinate variable 'lon' which has a length <= 1 (singleton).\n"
     ]
    },
    {
     "name": "stdout",
     "output_type": "stream",
     "text": [
      "\n",
      "Time elapsed: 35.67357635498047 seconds\n",
      "\n",
      "2 / 5: MPI-ESM1-2-LR (30 members)\n",
      "."
     ]
    },
    {
     "name": "stderr",
     "output_type": "stream",
     "text": [
      "2024-03-02 23:30:52,181 [WARNING]: bounds.py(add_missing_bounds:188) >> Cannot generate bounds for coordinate variable 'lon' which has a length <= 1 (singleton).\n",
      "2024-03-02 23:30:52,181 [WARNING]: bounds.py(add_missing_bounds:188) >> Cannot generate bounds for coordinate variable 'lon' which has a length <= 1 (singleton).\n"
     ]
    },
    {
     "name": "stdout",
     "output_type": "stream",
     "text": [
      "."
     ]
    },
    {
     "name": "stderr",
     "output_type": "stream",
     "text": [
      "2024-03-02 23:30:53,651 [WARNING]: bounds.py(add_missing_bounds:188) >> Cannot generate bounds for coordinate variable 'lon' which has a length <= 1 (singleton).\n",
      "2024-03-02 23:30:53,651 [WARNING]: bounds.py(add_missing_bounds:188) >> Cannot generate bounds for coordinate variable 'lon' which has a length <= 1 (singleton).\n"
     ]
    },
    {
     "name": "stdout",
     "output_type": "stream",
     "text": [
      "."
     ]
    },
    {
     "name": "stderr",
     "output_type": "stream",
     "text": [
      "2024-03-02 23:30:55,088 [WARNING]: bounds.py(add_missing_bounds:188) >> Cannot generate bounds for coordinate variable 'lon' which has a length <= 1 (singleton).\n",
      "2024-03-02 23:30:55,088 [WARNING]: bounds.py(add_missing_bounds:188) >> Cannot generate bounds for coordinate variable 'lon' which has a length <= 1 (singleton).\n"
     ]
    },
    {
     "name": "stdout",
     "output_type": "stream",
     "text": [
      "."
     ]
    },
    {
     "name": "stderr",
     "output_type": "stream",
     "text": [
      "2024-03-02 23:30:56,540 [WARNING]: bounds.py(add_missing_bounds:188) >> Cannot generate bounds for coordinate variable 'lon' which has a length <= 1 (singleton).\n",
      "2024-03-02 23:30:56,540 [WARNING]: bounds.py(add_missing_bounds:188) >> Cannot generate bounds for coordinate variable 'lon' which has a length <= 1 (singleton).\n"
     ]
    },
    {
     "name": "stdout",
     "output_type": "stream",
     "text": [
      "."
     ]
    },
    {
     "name": "stderr",
     "output_type": "stream",
     "text": [
      "2024-03-02 23:30:58,053 [WARNING]: bounds.py(add_missing_bounds:188) >> Cannot generate bounds for coordinate variable 'lon' which has a length <= 1 (singleton).\n",
      "2024-03-02 23:30:58,053 [WARNING]: bounds.py(add_missing_bounds:188) >> Cannot generate bounds for coordinate variable 'lon' which has a length <= 1 (singleton).\n"
     ]
    },
    {
     "name": "stdout",
     "output_type": "stream",
     "text": [
      "."
     ]
    },
    {
     "name": "stderr",
     "output_type": "stream",
     "text": [
      "2024-03-02 23:30:59,675 [WARNING]: bounds.py(add_missing_bounds:188) >> Cannot generate bounds for coordinate variable 'lon' which has a length <= 1 (singleton).\n",
      "2024-03-02 23:30:59,675 [WARNING]: bounds.py(add_missing_bounds:188) >> Cannot generate bounds for coordinate variable 'lon' which has a length <= 1 (singleton).\n"
     ]
    },
    {
     "name": "stdout",
     "output_type": "stream",
     "text": [
      "."
     ]
    },
    {
     "name": "stderr",
     "output_type": "stream",
     "text": [
      "2024-03-02 23:31:01,193 [WARNING]: bounds.py(add_missing_bounds:188) >> Cannot generate bounds for coordinate variable 'lon' which has a length <= 1 (singleton).\n",
      "2024-03-02 23:31:01,193 [WARNING]: bounds.py(add_missing_bounds:188) >> Cannot generate bounds for coordinate variable 'lon' which has a length <= 1 (singleton).\n"
     ]
    },
    {
     "name": "stdout",
     "output_type": "stream",
     "text": [
      "."
     ]
    },
    {
     "name": "stderr",
     "output_type": "stream",
     "text": [
      "2024-03-02 23:31:02,622 [WARNING]: bounds.py(add_missing_bounds:188) >> Cannot generate bounds for coordinate variable 'lon' which has a length <= 1 (singleton).\n",
      "2024-03-02 23:31:02,622 [WARNING]: bounds.py(add_missing_bounds:188) >> Cannot generate bounds for coordinate variable 'lon' which has a length <= 1 (singleton).\n"
     ]
    },
    {
     "name": "stdout",
     "output_type": "stream",
     "text": [
      "."
     ]
    },
    {
     "name": "stderr",
     "output_type": "stream",
     "text": [
      "2024-03-02 23:31:04,161 [WARNING]: bounds.py(add_missing_bounds:188) >> Cannot generate bounds for coordinate variable 'lon' which has a length <= 1 (singleton).\n",
      "2024-03-02 23:31:04,161 [WARNING]: bounds.py(add_missing_bounds:188) >> Cannot generate bounds for coordinate variable 'lon' which has a length <= 1 (singleton).\n"
     ]
    },
    {
     "name": "stdout",
     "output_type": "stream",
     "text": [
      ".."
     ]
    },
    {
     "name": "stderr",
     "output_type": "stream",
     "text": [
      "2024-03-02 23:31:05,689 [WARNING]: bounds.py(add_missing_bounds:188) >> Cannot generate bounds for coordinate variable 'lon' which has a length <= 1 (singleton).\n",
      "2024-03-02 23:31:05,689 [WARNING]: bounds.py(add_missing_bounds:188) >> Cannot generate bounds for coordinate variable 'lon' which has a length <= 1 (singleton).\n",
      "2024-03-02 23:31:07,171 [WARNING]: bounds.py(add_missing_bounds:188) >> Cannot generate bounds for coordinate variable 'lon' which has a length <= 1 (singleton).\n",
      "2024-03-02 23:31:07,171 [WARNING]: bounds.py(add_missing_bounds:188) >> Cannot generate bounds for coordinate variable 'lon' which has a length <= 1 (singleton).\n"
     ]
    },
    {
     "name": "stdout",
     "output_type": "stream",
     "text": [
      "."
     ]
    },
    {
     "name": "stderr",
     "output_type": "stream",
     "text": [
      "2024-03-02 23:31:08,837 [WARNING]: bounds.py(add_missing_bounds:188) >> Cannot generate bounds for coordinate variable 'lon' which has a length <= 1 (singleton).\n",
      "2024-03-02 23:31:08,837 [WARNING]: bounds.py(add_missing_bounds:188) >> Cannot generate bounds for coordinate variable 'lon' which has a length <= 1 (singleton).\n"
     ]
    },
    {
     "name": "stdout",
     "output_type": "stream",
     "text": [
      "."
     ]
    },
    {
     "name": "stderr",
     "output_type": "stream",
     "text": [
      "2024-03-02 23:31:10,384 [WARNING]: bounds.py(add_missing_bounds:188) >> Cannot generate bounds for coordinate variable 'lon' which has a length <= 1 (singleton).\n",
      "2024-03-02 23:31:10,384 [WARNING]: bounds.py(add_missing_bounds:188) >> Cannot generate bounds for coordinate variable 'lon' which has a length <= 1 (singleton).\n"
     ]
    },
    {
     "name": "stdout",
     "output_type": "stream",
     "text": [
      "."
     ]
    },
    {
     "name": "stderr",
     "output_type": "stream",
     "text": [
      "2024-03-02 23:31:11,884 [WARNING]: bounds.py(add_missing_bounds:188) >> Cannot generate bounds for coordinate variable 'lon' which has a length <= 1 (singleton).\n",
      "2024-03-02 23:31:11,884 [WARNING]: bounds.py(add_missing_bounds:188) >> Cannot generate bounds for coordinate variable 'lon' which has a length <= 1 (singleton).\n"
     ]
    },
    {
     "name": "stdout",
     "output_type": "stream",
     "text": [
      "."
     ]
    },
    {
     "name": "stderr",
     "output_type": "stream",
     "text": [
      "2024-03-02 23:31:13,446 [WARNING]: bounds.py(add_missing_bounds:188) >> Cannot generate bounds for coordinate variable 'lon' which has a length <= 1 (singleton).\n",
      "2024-03-02 23:31:13,446 [WARNING]: bounds.py(add_missing_bounds:188) >> Cannot generate bounds for coordinate variable 'lon' which has a length <= 1 (singleton).\n"
     ]
    },
    {
     "name": "stdout",
     "output_type": "stream",
     "text": [
      ".."
     ]
    },
    {
     "name": "stderr",
     "output_type": "stream",
     "text": [
      "2024-03-02 23:31:15,020 [WARNING]: bounds.py(add_missing_bounds:188) >> Cannot generate bounds for coordinate variable 'lon' which has a length <= 1 (singleton).\n",
      "2024-03-02 23:31:15,020 [WARNING]: bounds.py(add_missing_bounds:188) >> Cannot generate bounds for coordinate variable 'lon' which has a length <= 1 (singleton).\n",
      "2024-03-02 23:31:16,641 [WARNING]: bounds.py(add_missing_bounds:188) >> Cannot generate bounds for coordinate variable 'lon' which has a length <= 1 (singleton).\n",
      "2024-03-02 23:31:16,641 [WARNING]: bounds.py(add_missing_bounds:188) >> Cannot generate bounds for coordinate variable 'lon' which has a length <= 1 (singleton).\n"
     ]
    },
    {
     "name": "stdout",
     "output_type": "stream",
     "text": [
      "."
     ]
    },
    {
     "name": "stderr",
     "output_type": "stream",
     "text": [
      "2024-03-02 23:31:18,258 [WARNING]: bounds.py(add_missing_bounds:188) >> Cannot generate bounds for coordinate variable 'lon' which has a length <= 1 (singleton).\n"
     ]
    },
    {
     "name": "stdout",
     "output_type": "stream",
     "text": [
      "."
     ]
    },
    {
     "name": "stderr",
     "output_type": "stream",
     "text": [
      "2024-03-02 23:31:18,258 [WARNING]: bounds.py(add_missing_bounds:188) >> Cannot generate bounds for coordinate variable 'lon' which has a length <= 1 (singleton).\n",
      "2024-03-02 23:31:19,791 [WARNING]: bounds.py(add_missing_bounds:188) >> Cannot generate bounds for coordinate variable 'lon' which has a length <= 1 (singleton).\n",
      "2024-03-02 23:31:19,791 [WARNING]: bounds.py(add_missing_bounds:188) >> Cannot generate bounds for coordinate variable 'lon' which has a length <= 1 (singleton).\n"
     ]
    },
    {
     "name": "stdout",
     "output_type": "stream",
     "text": [
      "."
     ]
    },
    {
     "name": "stderr",
     "output_type": "stream",
     "text": [
      "2024-03-02 23:31:21,348 [WARNING]: bounds.py(add_missing_bounds:188) >> Cannot generate bounds for coordinate variable 'lon' which has a length <= 1 (singleton).\n",
      "2024-03-02 23:31:21,348 [WARNING]: bounds.py(add_missing_bounds:188) >> Cannot generate bounds for coordinate variable 'lon' which has a length <= 1 (singleton).\n"
     ]
    },
    {
     "name": "stdout",
     "output_type": "stream",
     "text": [
      "."
     ]
    },
    {
     "name": "stderr",
     "output_type": "stream",
     "text": [
      "2024-03-02 23:31:22,939 [WARNING]: bounds.py(add_missing_bounds:188) >> Cannot generate bounds for coordinate variable 'lon' which has a length <= 1 (singleton).\n",
      "2024-03-02 23:31:22,939 [WARNING]: bounds.py(add_missing_bounds:188) >> Cannot generate bounds for coordinate variable 'lon' which has a length <= 1 (singleton).\n"
     ]
    },
    {
     "name": "stdout",
     "output_type": "stream",
     "text": [
      "."
     ]
    },
    {
     "name": "stderr",
     "output_type": "stream",
     "text": [
      "2024-03-02 23:31:24,472 [WARNING]: bounds.py(add_missing_bounds:188) >> Cannot generate bounds for coordinate variable 'lon' which has a length <= 1 (singleton).\n",
      "2024-03-02 23:31:24,472 [WARNING]: bounds.py(add_missing_bounds:188) >> Cannot generate bounds for coordinate variable 'lon' which has a length <= 1 (singleton).\n"
     ]
    },
    {
     "name": "stdout",
     "output_type": "stream",
     "text": [
      "."
     ]
    },
    {
     "name": "stderr",
     "output_type": "stream",
     "text": [
      "2024-03-02 23:31:26,140 [WARNING]: bounds.py(add_missing_bounds:188) >> Cannot generate bounds for coordinate variable 'lon' which has a length <= 1 (singleton).\n",
      "2024-03-02 23:31:26,140 [WARNING]: bounds.py(add_missing_bounds:188) >> Cannot generate bounds for coordinate variable 'lon' which has a length <= 1 (singleton).\n"
     ]
    },
    {
     "name": "stdout",
     "output_type": "stream",
     "text": [
      "."
     ]
    },
    {
     "name": "stderr",
     "output_type": "stream",
     "text": [
      "2024-03-02 23:31:27,666 [WARNING]: bounds.py(add_missing_bounds:188) >> Cannot generate bounds for coordinate variable 'lon' which has a length <= 1 (singleton).\n",
      "2024-03-02 23:31:27,666 [WARNING]: bounds.py(add_missing_bounds:188) >> Cannot generate bounds for coordinate variable 'lon' which has a length <= 1 (singleton).\n"
     ]
    },
    {
     "name": "stdout",
     "output_type": "stream",
     "text": [
      "."
     ]
    },
    {
     "name": "stderr",
     "output_type": "stream",
     "text": [
      "2024-03-02 23:31:29,127 [WARNING]: bounds.py(add_missing_bounds:188) >> Cannot generate bounds for coordinate variable 'lon' which has a length <= 1 (singleton).\n",
      "2024-03-02 23:31:29,127 [WARNING]: bounds.py(add_missing_bounds:188) >> Cannot generate bounds for coordinate variable 'lon' which has a length <= 1 (singleton).\n"
     ]
    },
    {
     "name": "stdout",
     "output_type": "stream",
     "text": [
      "."
     ]
    },
    {
     "name": "stderr",
     "output_type": "stream",
     "text": [
      "2024-03-02 23:31:30,745 [WARNING]: bounds.py(add_missing_bounds:188) >> Cannot generate bounds for coordinate variable 'lon' which has a length <= 1 (singleton).\n",
      "2024-03-02 23:31:30,745 [WARNING]: bounds.py(add_missing_bounds:188) >> Cannot generate bounds for coordinate variable 'lon' which has a length <= 1 (singleton).\n"
     ]
    },
    {
     "name": "stdout",
     "output_type": "stream",
     "text": [
      "."
     ]
    },
    {
     "name": "stderr",
     "output_type": "stream",
     "text": [
      "2024-03-02 23:31:32,395 [WARNING]: bounds.py(add_missing_bounds:188) >> Cannot generate bounds for coordinate variable 'lon' which has a length <= 1 (singleton).\n",
      "2024-03-02 23:31:32,395 [WARNING]: bounds.py(add_missing_bounds:188) >> Cannot generate bounds for coordinate variable 'lon' which has a length <= 1 (singleton).\n"
     ]
    },
    {
     "name": "stdout",
     "output_type": "stream",
     "text": [
      ".."
     ]
    },
    {
     "name": "stderr",
     "output_type": "stream",
     "text": [
      "2024-03-02 23:31:34,099 [WARNING]: bounds.py(add_missing_bounds:188) >> Cannot generate bounds for coordinate variable 'lon' which has a length <= 1 (singleton).\n",
      "2024-03-02 23:31:34,099 [WARNING]: bounds.py(add_missing_bounds:188) >> Cannot generate bounds for coordinate variable 'lon' which has a length <= 1 (singleton).\n",
      "2024-03-02 23:31:35,879 [WARNING]: bounds.py(add_missing_bounds:188) >> Cannot generate bounds for coordinate variable 'lon' which has a length <= 1 (singleton).\n",
      "2024-03-02 23:31:35,879 [WARNING]: bounds.py(add_missing_bounds:188) >> Cannot generate bounds for coordinate variable 'lon' which has a length <= 1 (singleton).\n"
     ]
    },
    {
     "name": "stdout",
     "output_type": "stream",
     "text": [
      ".\n",
      "Time elapsed: 47.015783071517944 seconds\n",
      "\n",
      "3 / 5: MIROC6 (50 members)\n",
      "."
     ]
    },
    {
     "name": "stderr",
     "output_type": "stream",
     "text": [
      "2024-03-02 23:31:37,784 [WARNING]: bounds.py(add_missing_bounds:188) >> Cannot generate bounds for coordinate variable 'lon' which has a length <= 1 (singleton).\n",
      "2024-03-02 23:31:37,784 [WARNING]: bounds.py(add_missing_bounds:188) >> Cannot generate bounds for coordinate variable 'lon' which has a length <= 1 (singleton).\n",
      "2024-03-02 23:31:39,397 [WARNING]: bounds.py(add_missing_bounds:188) >> Cannot generate bounds for coordinate variable 'lon' which has a length <= 1 (singleton).\n",
      "2024-03-02 23:31:39,397 [WARNING]: bounds.py(add_missing_bounds:188) >> Cannot generate bounds for coordinate variable 'lon' which has a length <= 1 (singleton).\n"
     ]
    },
    {
     "name": "stdout",
     "output_type": "stream",
     "text": [
      "."
     ]
    },
    {
     "name": "stderr",
     "output_type": "stream",
     "text": [
      "2024-03-02 23:31:40,860 [WARNING]: bounds.py(add_missing_bounds:188) >> Cannot generate bounds for coordinate variable 'lon' which has a length <= 1 (singleton).\n",
      "2024-03-02 23:31:40,860 [WARNING]: bounds.py(add_missing_bounds:188) >> Cannot generate bounds for coordinate variable 'lon' which has a length <= 1 (singleton).\n"
     ]
    },
    {
     "name": "stdout",
     "output_type": "stream",
     "text": [
      "."
     ]
    },
    {
     "name": "stderr",
     "output_type": "stream",
     "text": [
      "2024-03-02 23:31:42,431 [WARNING]: bounds.py(add_missing_bounds:188) >> Cannot generate bounds for coordinate variable 'lon' which has a length <= 1 (singleton).\n",
      "2024-03-02 23:31:42,431 [WARNING]: bounds.py(add_missing_bounds:188) >> Cannot generate bounds for coordinate variable 'lon' which has a length <= 1 (singleton).\n"
     ]
    },
    {
     "name": "stdout",
     "output_type": "stream",
     "text": [
      "."
     ]
    },
    {
     "name": "stderr",
     "output_type": "stream",
     "text": [
      "2024-03-02 23:31:44,035 [WARNING]: bounds.py(add_missing_bounds:188) >> Cannot generate bounds for coordinate variable 'lon' which has a length <= 1 (singleton).\n",
      "2024-03-02 23:31:44,035 [WARNING]: bounds.py(add_missing_bounds:188) >> Cannot generate bounds for coordinate variable 'lon' which has a length <= 1 (singleton).\n"
     ]
    },
    {
     "name": "stdout",
     "output_type": "stream",
     "text": [
      "."
     ]
    },
    {
     "name": "stderr",
     "output_type": "stream",
     "text": [
      "2024-03-02 23:31:45,621 [WARNING]: bounds.py(add_missing_bounds:188) >> Cannot generate bounds for coordinate variable 'lon' which has a length <= 1 (singleton).\n",
      "2024-03-02 23:31:45,621 [WARNING]: bounds.py(add_missing_bounds:188) >> Cannot generate bounds for coordinate variable 'lon' which has a length <= 1 (singleton).\n"
     ]
    },
    {
     "name": "stdout",
     "output_type": "stream",
     "text": [
      "."
     ]
    },
    {
     "name": "stderr",
     "output_type": "stream",
     "text": [
      "2024-03-02 23:31:47,185 [WARNING]: bounds.py(add_missing_bounds:188) >> Cannot generate bounds for coordinate variable 'lon' which has a length <= 1 (singleton).\n",
      "2024-03-02 23:31:47,185 [WARNING]: bounds.py(add_missing_bounds:188) >> Cannot generate bounds for coordinate variable 'lon' which has a length <= 1 (singleton).\n"
     ]
    },
    {
     "name": "stdout",
     "output_type": "stream",
     "text": [
      "."
     ]
    },
    {
     "name": "stderr",
     "output_type": "stream",
     "text": [
      "2024-03-02 23:31:48,741 [WARNING]: bounds.py(add_missing_bounds:188) >> Cannot generate bounds for coordinate variable 'lon' which has a length <= 1 (singleton).\n",
      "2024-03-02 23:31:48,741 [WARNING]: bounds.py(add_missing_bounds:188) >> Cannot generate bounds for coordinate variable 'lon' which has a length <= 1 (singleton).\n"
     ]
    },
    {
     "name": "stdout",
     "output_type": "stream",
     "text": [
      "."
     ]
    },
    {
     "name": "stderr",
     "output_type": "stream",
     "text": [
      "2024-03-02 23:31:50,276 [WARNING]: bounds.py(add_missing_bounds:188) >> Cannot generate bounds for coordinate variable 'lon' which has a length <= 1 (singleton).\n",
      "2024-03-02 23:31:50,276 [WARNING]: bounds.py(add_missing_bounds:188) >> Cannot generate bounds for coordinate variable 'lon' which has a length <= 1 (singleton).\n"
     ]
    },
    {
     "name": "stdout",
     "output_type": "stream",
     "text": [
      "."
     ]
    },
    {
     "name": "stderr",
     "output_type": "stream",
     "text": [
      "2024-03-02 23:31:51,862 [WARNING]: bounds.py(add_missing_bounds:188) >> Cannot generate bounds for coordinate variable 'lon' which has a length <= 1 (singleton).\n",
      "2024-03-02 23:31:51,862 [WARNING]: bounds.py(add_missing_bounds:188) >> Cannot generate bounds for coordinate variable 'lon' which has a length <= 1 (singleton).\n"
     ]
    },
    {
     "name": "stdout",
     "output_type": "stream",
     "text": [
      "."
     ]
    },
    {
     "name": "stderr",
     "output_type": "stream",
     "text": [
      "2024-03-02 23:31:53,444 [WARNING]: bounds.py(add_missing_bounds:188) >> Cannot generate bounds for coordinate variable 'lon' which has a length <= 1 (singleton).\n",
      "2024-03-02 23:31:53,444 [WARNING]: bounds.py(add_missing_bounds:188) >> Cannot generate bounds for coordinate variable 'lon' which has a length <= 1 (singleton).\n"
     ]
    },
    {
     "name": "stdout",
     "output_type": "stream",
     "text": [
      "."
     ]
    },
    {
     "name": "stderr",
     "output_type": "stream",
     "text": [
      "2024-03-02 23:31:55,180 [WARNING]: bounds.py(add_missing_bounds:188) >> Cannot generate bounds for coordinate variable 'lon' which has a length <= 1 (singleton).\n",
      "2024-03-02 23:31:55,180 [WARNING]: bounds.py(add_missing_bounds:188) >> Cannot generate bounds for coordinate variable 'lon' which has a length <= 1 (singleton).\n"
     ]
    },
    {
     "name": "stdout",
     "output_type": "stream",
     "text": [
      ".."
     ]
    },
    {
     "name": "stderr",
     "output_type": "stream",
     "text": [
      "2024-03-02 23:31:56,804 [WARNING]: bounds.py(add_missing_bounds:188) >> Cannot generate bounds for coordinate variable 'lon' which has a length <= 1 (singleton).\n",
      "2024-03-02 23:31:56,804 [WARNING]: bounds.py(add_missing_bounds:188) >> Cannot generate bounds for coordinate variable 'lon' which has a length <= 1 (singleton).\n",
      "2024-03-02 23:31:58,428 [WARNING]: bounds.py(add_missing_bounds:188) >> Cannot generate bounds for coordinate variable 'lon' which has a length <= 1 (singleton).\n",
      "2024-03-02 23:31:58,428 [WARNING]: bounds.py(add_missing_bounds:188) >> Cannot generate bounds for coordinate variable 'lon' which has a length <= 1 (singleton).\n"
     ]
    },
    {
     "name": "stdout",
     "output_type": "stream",
     "text": [
      "."
     ]
    },
    {
     "name": "stderr",
     "output_type": "stream",
     "text": [
      "2024-03-02 23:31:59,927 [WARNING]: bounds.py(add_missing_bounds:188) >> Cannot generate bounds for coordinate variable 'lon' which has a length <= 1 (singleton).\n",
      "2024-03-02 23:31:59,927 [WARNING]: bounds.py(add_missing_bounds:188) >> Cannot generate bounds for coordinate variable 'lon' which has a length <= 1 (singleton).\n"
     ]
    },
    {
     "name": "stdout",
     "output_type": "stream",
     "text": [
      "."
     ]
    },
    {
     "name": "stderr",
     "output_type": "stream",
     "text": [
      "2024-03-02 23:32:01,469 [WARNING]: bounds.py(add_missing_bounds:188) >> Cannot generate bounds for coordinate variable 'lon' which has a length <= 1 (singleton).\n",
      "2024-03-02 23:32:01,469 [WARNING]: bounds.py(add_missing_bounds:188) >> Cannot generate bounds for coordinate variable 'lon' which has a length <= 1 (singleton).\n"
     ]
    },
    {
     "name": "stdout",
     "output_type": "stream",
     "text": [
      "."
     ]
    },
    {
     "name": "stderr",
     "output_type": "stream",
     "text": [
      "2024-03-02 23:32:03,025 [WARNING]: bounds.py(add_missing_bounds:188) >> Cannot generate bounds for coordinate variable 'lon' which has a length <= 1 (singleton).\n",
      "2024-03-02 23:32:03,025 [WARNING]: bounds.py(add_missing_bounds:188) >> Cannot generate bounds for coordinate variable 'lon' which has a length <= 1 (singleton).\n"
     ]
    },
    {
     "name": "stdout",
     "output_type": "stream",
     "text": [
      "."
     ]
    },
    {
     "name": "stderr",
     "output_type": "stream",
     "text": [
      "2024-03-02 23:32:04,746 [WARNING]: bounds.py(add_missing_bounds:188) >> Cannot generate bounds for coordinate variable 'lon' which has a length <= 1 (singleton).\n",
      "2024-03-02 23:32:04,746 [WARNING]: bounds.py(add_missing_bounds:188) >> Cannot generate bounds for coordinate variable 'lon' which has a length <= 1 (singleton).\n"
     ]
    },
    {
     "name": "stdout",
     "output_type": "stream",
     "text": [
      "."
     ]
    },
    {
     "name": "stderr",
     "output_type": "stream",
     "text": [
      "2024-03-02 23:32:06,282 [WARNING]: bounds.py(add_missing_bounds:188) >> Cannot generate bounds for coordinate variable 'lon' which has a length <= 1 (singleton).\n",
      "2024-03-02 23:32:06,282 [WARNING]: bounds.py(add_missing_bounds:188) >> Cannot generate bounds for coordinate variable 'lon' which has a length <= 1 (singleton).\n"
     ]
    },
    {
     "name": "stdout",
     "output_type": "stream",
     "text": [
      "."
     ]
    },
    {
     "name": "stderr",
     "output_type": "stream",
     "text": [
      "2024-03-02 23:32:07,797 [WARNING]: bounds.py(add_missing_bounds:188) >> Cannot generate bounds for coordinate variable 'lon' which has a length <= 1 (singleton).\n",
      "2024-03-02 23:32:07,797 [WARNING]: bounds.py(add_missing_bounds:188) >> Cannot generate bounds for coordinate variable 'lon' which has a length <= 1 (singleton).\n"
     ]
    },
    {
     "name": "stdout",
     "output_type": "stream",
     "text": [
      "."
     ]
    },
    {
     "name": "stderr",
     "output_type": "stream",
     "text": [
      "2024-03-02 23:32:09,341 [WARNING]: bounds.py(add_missing_bounds:188) >> Cannot generate bounds for coordinate variable 'lon' which has a length <= 1 (singleton).\n",
      "2024-03-02 23:32:09,341 [WARNING]: bounds.py(add_missing_bounds:188) >> Cannot generate bounds for coordinate variable 'lon' which has a length <= 1 (singleton).\n"
     ]
    },
    {
     "name": "stdout",
     "output_type": "stream",
     "text": [
      "."
     ]
    },
    {
     "name": "stderr",
     "output_type": "stream",
     "text": [
      "2024-03-02 23:32:10,901 [WARNING]: bounds.py(add_missing_bounds:188) >> Cannot generate bounds for coordinate variable 'lon' which has a length <= 1 (singleton).\n",
      "2024-03-02 23:32:10,901 [WARNING]: bounds.py(add_missing_bounds:188) >> Cannot generate bounds for coordinate variable 'lon' which has a length <= 1 (singleton).\n"
     ]
    },
    {
     "name": "stdout",
     "output_type": "stream",
     "text": [
      "."
     ]
    },
    {
     "name": "stderr",
     "output_type": "stream",
     "text": [
      "2024-03-02 23:32:12,497 [WARNING]: bounds.py(add_missing_bounds:188) >> Cannot generate bounds for coordinate variable 'lon' which has a length <= 1 (singleton).\n",
      "2024-03-02 23:32:12,497 [WARNING]: bounds.py(add_missing_bounds:188) >> Cannot generate bounds for coordinate variable 'lon' which has a length <= 1 (singleton).\n"
     ]
    },
    {
     "name": "stdout",
     "output_type": "stream",
     "text": [
      "."
     ]
    },
    {
     "name": "stderr",
     "output_type": "stream",
     "text": [
      "2024-03-02 23:32:14,206 [WARNING]: bounds.py(add_missing_bounds:188) >> Cannot generate bounds for coordinate variable 'lon' which has a length <= 1 (singleton).\n",
      "2024-03-02 23:32:14,206 [WARNING]: bounds.py(add_missing_bounds:188) >> Cannot generate bounds for coordinate variable 'lon' which has a length <= 1 (singleton).\n"
     ]
    },
    {
     "name": "stdout",
     "output_type": "stream",
     "text": [
      "."
     ]
    },
    {
     "name": "stderr",
     "output_type": "stream",
     "text": [
      "2024-03-02 23:32:15,792 [WARNING]: bounds.py(add_missing_bounds:188) >> Cannot generate bounds for coordinate variable 'lon' which has a length <= 1 (singleton).\n",
      "2024-03-02 23:32:15,792 [WARNING]: bounds.py(add_missing_bounds:188) >> Cannot generate bounds for coordinate variable 'lon' which has a length <= 1 (singleton).\n"
     ]
    },
    {
     "name": "stdout",
     "output_type": "stream",
     "text": [
      "."
     ]
    },
    {
     "name": "stderr",
     "output_type": "stream",
     "text": [
      "2024-03-02 23:32:17,404 [WARNING]: bounds.py(add_missing_bounds:188) >> Cannot generate bounds for coordinate variable 'lon' which has a length <= 1 (singleton).\n",
      "2024-03-02 23:32:17,404 [WARNING]: bounds.py(add_missing_bounds:188) >> Cannot generate bounds for coordinate variable 'lon' which has a length <= 1 (singleton).\n"
     ]
    },
    {
     "name": "stdout",
     "output_type": "stream",
     "text": [
      "."
     ]
    },
    {
     "name": "stderr",
     "output_type": "stream",
     "text": [
      "2024-03-02 23:32:19,093 [WARNING]: bounds.py(add_missing_bounds:188) >> Cannot generate bounds for coordinate variable 'lon' which has a length <= 1 (singleton).\n",
      "2024-03-02 23:32:19,093 [WARNING]: bounds.py(add_missing_bounds:188) >> Cannot generate bounds for coordinate variable 'lon' which has a length <= 1 (singleton).\n"
     ]
    },
    {
     "name": "stdout",
     "output_type": "stream",
     "text": [
      "."
     ]
    },
    {
     "name": "stderr",
     "output_type": "stream",
     "text": [
      "2024-03-02 23:32:20,656 [WARNING]: bounds.py(add_missing_bounds:188) >> Cannot generate bounds for coordinate variable 'lon' which has a length <= 1 (singleton).\n",
      "2024-03-02 23:32:20,656 [WARNING]: bounds.py(add_missing_bounds:188) >> Cannot generate bounds for coordinate variable 'lon' which has a length <= 1 (singleton).\n"
     ]
    },
    {
     "name": "stdout",
     "output_type": "stream",
     "text": [
      "."
     ]
    },
    {
     "name": "stderr",
     "output_type": "stream",
     "text": [
      "2024-03-02 23:32:22,277 [WARNING]: bounds.py(add_missing_bounds:188) >> Cannot generate bounds for coordinate variable 'lon' which has a length <= 1 (singleton).\n",
      "2024-03-02 23:32:22,277 [WARNING]: bounds.py(add_missing_bounds:188) >> Cannot generate bounds for coordinate variable 'lon' which has a length <= 1 (singleton).\n"
     ]
    },
    {
     "name": "stdout",
     "output_type": "stream",
     "text": [
      "."
     ]
    },
    {
     "name": "stderr",
     "output_type": "stream",
     "text": [
      "2024-03-02 23:32:24,136 [WARNING]: bounds.py(add_missing_bounds:188) >> Cannot generate bounds for coordinate variable 'lon' which has a length <= 1 (singleton).\n",
      "2024-03-02 23:32:24,136 [WARNING]: bounds.py(add_missing_bounds:188) >> Cannot generate bounds for coordinate variable 'lon' which has a length <= 1 (singleton).\n"
     ]
    },
    {
     "name": "stdout",
     "output_type": "stream",
     "text": [
      "."
     ]
    },
    {
     "name": "stderr",
     "output_type": "stream",
     "text": [
      "2024-03-02 23:32:25,849 [WARNING]: bounds.py(add_missing_bounds:188) >> Cannot generate bounds for coordinate variable 'lon' which has a length <= 1 (singleton).\n",
      "2024-03-02 23:32:25,849 [WARNING]: bounds.py(add_missing_bounds:188) >> Cannot generate bounds for coordinate variable 'lon' which has a length <= 1 (singleton).\n"
     ]
    },
    {
     "name": "stdout",
     "output_type": "stream",
     "text": [
      "."
     ]
    },
    {
     "name": "stderr",
     "output_type": "stream",
     "text": [
      "2024-03-02 23:32:27,622 [WARNING]: bounds.py(add_missing_bounds:188) >> Cannot generate bounds for coordinate variable 'lon' which has a length <= 1 (singleton).\n",
      "2024-03-02 23:32:27,622 [WARNING]: bounds.py(add_missing_bounds:188) >> Cannot generate bounds for coordinate variable 'lon' which has a length <= 1 (singleton).\n"
     ]
    },
    {
     "name": "stdout",
     "output_type": "stream",
     "text": [
      "."
     ]
    },
    {
     "name": "stderr",
     "output_type": "stream",
     "text": [
      "2024-03-02 23:32:29,255 [WARNING]: bounds.py(add_missing_bounds:188) >> Cannot generate bounds for coordinate variable 'lon' which has a length <= 1 (singleton).\n",
      "2024-03-02 23:32:29,255 [WARNING]: bounds.py(add_missing_bounds:188) >> Cannot generate bounds for coordinate variable 'lon' which has a length <= 1 (singleton).\n"
     ]
    },
    {
     "name": "stdout",
     "output_type": "stream",
     "text": [
      "."
     ]
    },
    {
     "name": "stderr",
     "output_type": "stream",
     "text": [
      "2024-03-02 23:32:30,925 [WARNING]: bounds.py(add_missing_bounds:188) >> Cannot generate bounds for coordinate variable 'lon' which has a length <= 1 (singleton).\n",
      "2024-03-02 23:32:30,925 [WARNING]: bounds.py(add_missing_bounds:188) >> Cannot generate bounds for coordinate variable 'lon' which has a length <= 1 (singleton).\n"
     ]
    },
    {
     "name": "stdout",
     "output_type": "stream",
     "text": [
      "."
     ]
    },
    {
     "name": "stderr",
     "output_type": "stream",
     "text": [
      "2024-03-02 23:32:32,530 [WARNING]: bounds.py(add_missing_bounds:188) >> Cannot generate bounds for coordinate variable 'lon' which has a length <= 1 (singleton).\n",
      "2024-03-02 23:32:32,530 [WARNING]: bounds.py(add_missing_bounds:188) >> Cannot generate bounds for coordinate variable 'lon' which has a length <= 1 (singleton).\n"
     ]
    },
    {
     "name": "stdout",
     "output_type": "stream",
     "text": [
      "."
     ]
    },
    {
     "name": "stderr",
     "output_type": "stream",
     "text": [
      "2024-03-02 23:32:34,454 [WARNING]: bounds.py(add_missing_bounds:188) >> Cannot generate bounds for coordinate variable 'lon' which has a length <= 1 (singleton).\n",
      "2024-03-02 23:32:34,454 [WARNING]: bounds.py(add_missing_bounds:188) >> Cannot generate bounds for coordinate variable 'lon' which has a length <= 1 (singleton).\n"
     ]
    },
    {
     "name": "stdout",
     "output_type": "stream",
     "text": [
      "."
     ]
    },
    {
     "name": "stderr",
     "output_type": "stream",
     "text": [
      "2024-03-02 23:32:36,211 [WARNING]: bounds.py(add_missing_bounds:188) >> Cannot generate bounds for coordinate variable 'lon' which has a length <= 1 (singleton).\n",
      "2024-03-02 23:32:36,211 [WARNING]: bounds.py(add_missing_bounds:188) >> Cannot generate bounds for coordinate variable 'lon' which has a length <= 1 (singleton).\n"
     ]
    },
    {
     "name": "stdout",
     "output_type": "stream",
     "text": [
      "."
     ]
    },
    {
     "name": "stderr",
     "output_type": "stream",
     "text": [
      "2024-03-02 23:32:37,831 [WARNING]: bounds.py(add_missing_bounds:188) >> Cannot generate bounds for coordinate variable 'lon' which has a length <= 1 (singleton).\n",
      "2024-03-02 23:32:37,831 [WARNING]: bounds.py(add_missing_bounds:188) >> Cannot generate bounds for coordinate variable 'lon' which has a length <= 1 (singleton).\n"
     ]
    },
    {
     "name": "stdout",
     "output_type": "stream",
     "text": [
      "."
     ]
    },
    {
     "name": "stderr",
     "output_type": "stream",
     "text": [
      "2024-03-02 23:32:39,495 [WARNING]: bounds.py(add_missing_bounds:188) >> Cannot generate bounds for coordinate variable 'lon' which has a length <= 1 (singleton).\n",
      "2024-03-02 23:32:39,495 [WARNING]: bounds.py(add_missing_bounds:188) >> Cannot generate bounds for coordinate variable 'lon' which has a length <= 1 (singleton).\n"
     ]
    },
    {
     "name": "stdout",
     "output_type": "stream",
     "text": [
      "."
     ]
    },
    {
     "name": "stderr",
     "output_type": "stream",
     "text": [
      "2024-03-02 23:32:41,250 [WARNING]: bounds.py(add_missing_bounds:188) >> Cannot generate bounds for coordinate variable 'lon' which has a length <= 1 (singleton).\n",
      "2024-03-02 23:32:41,250 [WARNING]: bounds.py(add_missing_bounds:188) >> Cannot generate bounds for coordinate variable 'lon' which has a length <= 1 (singleton).\n"
     ]
    },
    {
     "name": "stdout",
     "output_type": "stream",
     "text": [
      "."
     ]
    },
    {
     "name": "stderr",
     "output_type": "stream",
     "text": [
      "2024-03-02 23:32:43,041 [WARNING]: bounds.py(add_missing_bounds:188) >> Cannot generate bounds for coordinate variable 'lon' which has a length <= 1 (singleton).\n",
      "2024-03-02 23:32:43,041 [WARNING]: bounds.py(add_missing_bounds:188) >> Cannot generate bounds for coordinate variable 'lon' which has a length <= 1 (singleton).\n"
     ]
    },
    {
     "name": "stdout",
     "output_type": "stream",
     "text": [
      "."
     ]
    },
    {
     "name": "stderr",
     "output_type": "stream",
     "text": [
      "2024-03-02 23:32:44,775 [WARNING]: bounds.py(add_missing_bounds:188) >> Cannot generate bounds for coordinate variable 'lon' which has a length <= 1 (singleton).\n",
      "2024-03-02 23:32:44,775 [WARNING]: bounds.py(add_missing_bounds:188) >> Cannot generate bounds for coordinate variable 'lon' which has a length <= 1 (singleton).\n"
     ]
    },
    {
     "name": "stdout",
     "output_type": "stream",
     "text": [
      "."
     ]
    },
    {
     "name": "stderr",
     "output_type": "stream",
     "text": [
      "2024-03-02 23:32:46,685 [WARNING]: bounds.py(add_missing_bounds:188) >> Cannot generate bounds for coordinate variable 'lon' which has a length <= 1 (singleton).\n",
      "2024-03-02 23:32:46,685 [WARNING]: bounds.py(add_missing_bounds:188) >> Cannot generate bounds for coordinate variable 'lon' which has a length <= 1 (singleton).\n"
     ]
    },
    {
     "name": "stdout",
     "output_type": "stream",
     "text": [
      "."
     ]
    },
    {
     "name": "stderr",
     "output_type": "stream",
     "text": [
      "2024-03-02 23:32:48,449 [WARNING]: bounds.py(add_missing_bounds:188) >> Cannot generate bounds for coordinate variable 'lon' which has a length <= 1 (singleton).\n",
      "2024-03-02 23:32:48,449 [WARNING]: bounds.py(add_missing_bounds:188) >> Cannot generate bounds for coordinate variable 'lon' which has a length <= 1 (singleton).\n"
     ]
    },
    {
     "name": "stdout",
     "output_type": "stream",
     "text": [
      "."
     ]
    },
    {
     "name": "stderr",
     "output_type": "stream",
     "text": [
      "2024-03-02 23:32:50,351 [WARNING]: bounds.py(add_missing_bounds:188) >> Cannot generate bounds for coordinate variable 'lon' which has a length <= 1 (singleton).\n",
      "2024-03-02 23:32:50,351 [WARNING]: bounds.py(add_missing_bounds:188) >> Cannot generate bounds for coordinate variable 'lon' which has a length <= 1 (singleton).\n"
     ]
    },
    {
     "name": "stdout",
     "output_type": "stream",
     "text": [
      ".."
     ]
    },
    {
     "name": "stderr",
     "output_type": "stream",
     "text": [
      "2024-03-02 23:32:52,308 [WARNING]: bounds.py(add_missing_bounds:188) >> Cannot generate bounds for coordinate variable 'lon' which has a length <= 1 (singleton).\n",
      "2024-03-02 23:32:52,308 [WARNING]: bounds.py(add_missing_bounds:188) >> Cannot generate bounds for coordinate variable 'lon' which has a length <= 1 (singleton).\n",
      "2024-03-02 23:32:54,143 [WARNING]: bounds.py(add_missing_bounds:188) >> Cannot generate bounds for coordinate variable 'lon' which has a length <= 1 (singleton).\n",
      "2024-03-02 23:32:54,143 [WARNING]: bounds.py(add_missing_bounds:188) >> Cannot generate bounds for coordinate variable 'lon' which has a length <= 1 (singleton).\n"
     ]
    },
    {
     "name": "stdout",
     "output_type": "stream",
     "text": [
      "."
     ]
    },
    {
     "name": "stderr",
     "output_type": "stream",
     "text": [
      "2024-03-02 23:32:55,809 [WARNING]: bounds.py(add_missing_bounds:188) >> Cannot generate bounds for coordinate variable 'lon' which has a length <= 1 (singleton).\n",
      "2024-03-02 23:32:55,809 [WARNING]: bounds.py(add_missing_bounds:188) >> Cannot generate bounds for coordinate variable 'lon' which has a length <= 1 (singleton).\n"
     ]
    },
    {
     "name": "stdout",
     "output_type": "stream",
     "text": [
      "."
     ]
    },
    {
     "name": "stderr",
     "output_type": "stream",
     "text": [
      "2024-03-02 23:32:57,507 [WARNING]: bounds.py(add_missing_bounds:188) >> Cannot generate bounds for coordinate variable 'lon' which has a length <= 1 (singleton).\n",
      "2024-03-02 23:32:57,507 [WARNING]: bounds.py(add_missing_bounds:188) >> Cannot generate bounds for coordinate variable 'lon' which has a length <= 1 (singleton).\n"
     ]
    },
    {
     "name": "stdout",
     "output_type": "stream",
     "text": [
      "."
     ]
    },
    {
     "name": "stderr",
     "output_type": "stream",
     "text": [
      "2024-03-02 23:32:59,385 [WARNING]: bounds.py(add_missing_bounds:188) >> Cannot generate bounds for coordinate variable 'lon' which has a length <= 1 (singleton).\n",
      "2024-03-02 23:32:59,385 [WARNING]: bounds.py(add_missing_bounds:188) >> Cannot generate bounds for coordinate variable 'lon' which has a length <= 1 (singleton).\n"
     ]
    },
    {
     "name": "stdout",
     "output_type": "stream",
     "text": [
      "."
     ]
    },
    {
     "name": "stderr",
     "output_type": "stream",
     "text": [
      "2024-03-02 23:33:01,242 [WARNING]: bounds.py(add_missing_bounds:188) >> Cannot generate bounds for coordinate variable 'lon' which has a length <= 1 (singleton).\n",
      "2024-03-02 23:33:01,242 [WARNING]: bounds.py(add_missing_bounds:188) >> Cannot generate bounds for coordinate variable 'lon' which has a length <= 1 (singleton).\n"
     ]
    },
    {
     "name": "stdout",
     "output_type": "stream",
     "text": [
      "\n",
      "Time elapsed: 83.49214100837708 seconds\n",
      "\n",
      "4 / 5: CanESM5 (25 members)\n",
      "."
     ]
    },
    {
     "name": "stderr",
     "output_type": "stream",
     "text": [
      "2024-03-02 23:33:02,687 [WARNING]: bounds.py(add_missing_bounds:188) >> Cannot generate bounds for coordinate variable 'lon' which has a length <= 1 (singleton).\n",
      "2024-03-02 23:33:02,687 [WARNING]: bounds.py(add_missing_bounds:188) >> Cannot generate bounds for coordinate variable 'lon' which has a length <= 1 (singleton).\n"
     ]
    },
    {
     "name": "stdout",
     "output_type": "stream",
     "text": [
      "."
     ]
    },
    {
     "name": "stderr",
     "output_type": "stream",
     "text": [
      "2024-03-02 23:33:04,193 [WARNING]: bounds.py(add_missing_bounds:188) >> Cannot generate bounds for coordinate variable 'lon' which has a length <= 1 (singleton).\n",
      "2024-03-02 23:33:04,193 [WARNING]: bounds.py(add_missing_bounds:188) >> Cannot generate bounds for coordinate variable 'lon' which has a length <= 1 (singleton).\n"
     ]
    },
    {
     "name": "stdout",
     "output_type": "stream",
     "text": [
      "."
     ]
    },
    {
     "name": "stderr",
     "output_type": "stream",
     "text": [
      "2024-03-02 23:33:05,598 [WARNING]: bounds.py(add_missing_bounds:188) >> Cannot generate bounds for coordinate variable 'lon' which has a length <= 1 (singleton).\n",
      "2024-03-02 23:33:05,598 [WARNING]: bounds.py(add_missing_bounds:188) >> Cannot generate bounds for coordinate variable 'lon' which has a length <= 1 (singleton).\n"
     ]
    },
    {
     "name": "stdout",
     "output_type": "stream",
     "text": [
      "."
     ]
    },
    {
     "name": "stderr",
     "output_type": "stream",
     "text": [
      "2024-03-02 23:33:07,004 [WARNING]: bounds.py(add_missing_bounds:188) >> Cannot generate bounds for coordinate variable 'lon' which has a length <= 1 (singleton).\n",
      "2024-03-02 23:33:07,004 [WARNING]: bounds.py(add_missing_bounds:188) >> Cannot generate bounds for coordinate variable 'lon' which has a length <= 1 (singleton).\n"
     ]
    },
    {
     "name": "stdout",
     "output_type": "stream",
     "text": [
      ".."
     ]
    },
    {
     "name": "stderr",
     "output_type": "stream",
     "text": [
      "2024-03-02 23:33:08,519 [WARNING]: bounds.py(add_missing_bounds:188) >> Cannot generate bounds for coordinate variable 'lon' which has a length <= 1 (singleton).\n",
      "2024-03-02 23:33:08,519 [WARNING]: bounds.py(add_missing_bounds:188) >> Cannot generate bounds for coordinate variable 'lon' which has a length <= 1 (singleton).\n",
      "2024-03-02 23:33:10,343 [WARNING]: bounds.py(add_missing_bounds:188) >> Cannot generate bounds for coordinate variable 'lon' which has a length <= 1 (singleton).\n",
      "2024-03-02 23:33:10,343 [WARNING]: bounds.py(add_missing_bounds:188) >> Cannot generate bounds for coordinate variable 'lon' which has a length <= 1 (singleton).\n"
     ]
    },
    {
     "name": "stdout",
     "output_type": "stream",
     "text": [
      ".."
     ]
    },
    {
     "name": "stderr",
     "output_type": "stream",
     "text": [
      "2024-03-02 23:33:11,901 [WARNING]: bounds.py(add_missing_bounds:188) >> Cannot generate bounds for coordinate variable 'lon' which has a length <= 1 (singleton).\n",
      "2024-03-02 23:33:11,901 [WARNING]: bounds.py(add_missing_bounds:188) >> Cannot generate bounds for coordinate variable 'lon' which has a length <= 1 (singleton).\n",
      "2024-03-02 23:33:13,416 [WARNING]: bounds.py(add_missing_bounds:188) >> Cannot generate bounds for coordinate variable 'lon' which has a length <= 1 (singleton).\n",
      "2024-03-02 23:33:13,416 [WARNING]: bounds.py(add_missing_bounds:188) >> Cannot generate bounds for coordinate variable 'lon' which has a length <= 1 (singleton).\n"
     ]
    },
    {
     "name": "stdout",
     "output_type": "stream",
     "text": [
      "."
     ]
    },
    {
     "name": "stderr",
     "output_type": "stream",
     "text": [
      "2024-03-02 23:33:14,847 [WARNING]: bounds.py(add_missing_bounds:188) >> Cannot generate bounds for coordinate variable 'lon' which has a length <= 1 (singleton).\n",
      "2024-03-02 23:33:14,847 [WARNING]: bounds.py(add_missing_bounds:188) >> Cannot generate bounds for coordinate variable 'lon' which has a length <= 1 (singleton).\n"
     ]
    },
    {
     "name": "stdout",
     "output_type": "stream",
     "text": [
      ".."
     ]
    },
    {
     "name": "stderr",
     "output_type": "stream",
     "text": [
      "2024-03-02 23:33:16,361 [WARNING]: bounds.py(add_missing_bounds:188) >> Cannot generate bounds for coordinate variable 'lon' which has a length <= 1 (singleton).\n",
      "2024-03-02 23:33:16,361 [WARNING]: bounds.py(add_missing_bounds:188) >> Cannot generate bounds for coordinate variable 'lon' which has a length <= 1 (singleton).\n",
      "2024-03-02 23:33:17,828 [WARNING]: bounds.py(add_missing_bounds:188) >> Cannot generate bounds for coordinate variable 'lon' which has a length <= 1 (singleton).\n",
      "2024-03-02 23:33:17,828 [WARNING]: bounds.py(add_missing_bounds:188) >> Cannot generate bounds for coordinate variable 'lon' which has a length <= 1 (singleton).\n"
     ]
    },
    {
     "name": "stdout",
     "output_type": "stream",
     "text": [
      "."
     ]
    },
    {
     "name": "stderr",
     "output_type": "stream",
     "text": [
      "2024-03-02 23:33:19,440 [WARNING]: bounds.py(add_missing_bounds:188) >> Cannot generate bounds for coordinate variable 'lon' which has a length <= 1 (singleton).\n",
      "2024-03-02 23:33:19,440 [WARNING]: bounds.py(add_missing_bounds:188) >> Cannot generate bounds for coordinate variable 'lon' which has a length <= 1 (singleton).\n"
     ]
    },
    {
     "name": "stdout",
     "output_type": "stream",
     "text": [
      "."
     ]
    },
    {
     "name": "stderr",
     "output_type": "stream",
     "text": [
      "2024-03-02 23:33:20,883 [WARNING]: bounds.py(add_missing_bounds:188) >> Cannot generate bounds for coordinate variable 'lon' which has a length <= 1 (singleton).\n",
      "2024-03-02 23:33:20,883 [WARNING]: bounds.py(add_missing_bounds:188) >> Cannot generate bounds for coordinate variable 'lon' which has a length <= 1 (singleton).\n"
     ]
    },
    {
     "name": "stdout",
     "output_type": "stream",
     "text": [
      "."
     ]
    },
    {
     "name": "stderr",
     "output_type": "stream",
     "text": [
      "2024-03-02 23:33:22,292 [WARNING]: bounds.py(add_missing_bounds:188) >> Cannot generate bounds for coordinate variable 'lon' which has a length <= 1 (singleton).\n",
      "2024-03-02 23:33:22,292 [WARNING]: bounds.py(add_missing_bounds:188) >> Cannot generate bounds for coordinate variable 'lon' which has a length <= 1 (singleton).\n"
     ]
    },
    {
     "name": "stdout",
     "output_type": "stream",
     "text": [
      "."
     ]
    },
    {
     "name": "stderr",
     "output_type": "stream",
     "text": [
      "2024-03-02 23:33:23,799 [WARNING]: bounds.py(add_missing_bounds:188) >> Cannot generate bounds for coordinate variable 'lon' which has a length <= 1 (singleton).\n",
      "2024-03-02 23:33:23,799 [WARNING]: bounds.py(add_missing_bounds:188) >> Cannot generate bounds for coordinate variable 'lon' which has a length <= 1 (singleton).\n"
     ]
    },
    {
     "name": "stdout",
     "output_type": "stream",
     "text": [
      "."
     ]
    },
    {
     "name": "stderr",
     "output_type": "stream",
     "text": [
      "2024-03-02 23:33:25,344 [WARNING]: bounds.py(add_missing_bounds:188) >> Cannot generate bounds for coordinate variable 'lon' which has a length <= 1 (singleton).\n",
      "2024-03-02 23:33:25,344 [WARNING]: bounds.py(add_missing_bounds:188) >> Cannot generate bounds for coordinate variable 'lon' which has a length <= 1 (singleton).\n"
     ]
    },
    {
     "name": "stdout",
     "output_type": "stream",
     "text": [
      ".."
     ]
    },
    {
     "name": "stderr",
     "output_type": "stream",
     "text": [
      "2024-03-02 23:33:26,910 [WARNING]: bounds.py(add_missing_bounds:188) >> Cannot generate bounds for coordinate variable 'lon' which has a length <= 1 (singleton).\n",
      "2024-03-02 23:33:26,910 [WARNING]: bounds.py(add_missing_bounds:188) >> Cannot generate bounds for coordinate variable 'lon' which has a length <= 1 (singleton).\n",
      "2024-03-02 23:33:28,527 [WARNING]: bounds.py(add_missing_bounds:188) >> Cannot generate bounds for coordinate variable 'lon' which has a length <= 1 (singleton).\n",
      "2024-03-02 23:33:28,527 [WARNING]: bounds.py(add_missing_bounds:188) >> Cannot generate bounds for coordinate variable 'lon' which has a length <= 1 (singleton).\n"
     ]
    },
    {
     "name": "stdout",
     "output_type": "stream",
     "text": [
      "."
     ]
    },
    {
     "name": "stderr",
     "output_type": "stream",
     "text": [
      "2024-03-02 23:33:30,066 [WARNING]: bounds.py(add_missing_bounds:188) >> Cannot generate bounds for coordinate variable 'lon' which has a length <= 1 (singleton).\n",
      "2024-03-02 23:33:30,066 [WARNING]: bounds.py(add_missing_bounds:188) >> Cannot generate bounds for coordinate variable 'lon' which has a length <= 1 (singleton).\n"
     ]
    },
    {
     "name": "stdout",
     "output_type": "stream",
     "text": [
      "."
     ]
    },
    {
     "name": "stderr",
     "output_type": "stream",
     "text": [
      "2024-03-02 23:33:31,520 [WARNING]: bounds.py(add_missing_bounds:188) >> Cannot generate bounds for coordinate variable 'lon' which has a length <= 1 (singleton).\n",
      "2024-03-02 23:33:31,520 [WARNING]: bounds.py(add_missing_bounds:188) >> Cannot generate bounds for coordinate variable 'lon' which has a length <= 1 (singleton).\n"
     ]
    },
    {
     "name": "stdout",
     "output_type": "stream",
     "text": [
      "."
     ]
    },
    {
     "name": "stderr",
     "output_type": "stream",
     "text": [
      "2024-03-02 23:33:33,091 [WARNING]: bounds.py(add_missing_bounds:188) >> Cannot generate bounds for coordinate variable 'lon' which has a length <= 1 (singleton).\n",
      "2024-03-02 23:33:33,091 [WARNING]: bounds.py(add_missing_bounds:188) >> Cannot generate bounds for coordinate variable 'lon' which has a length <= 1 (singleton).\n"
     ]
    },
    {
     "name": "stdout",
     "output_type": "stream",
     "text": [
      "."
     ]
    },
    {
     "name": "stderr",
     "output_type": "stream",
     "text": [
      "2024-03-02 23:33:34,595 [WARNING]: bounds.py(add_missing_bounds:188) >> Cannot generate bounds for coordinate variable 'lon' which has a length <= 1 (singleton).\n",
      "2024-03-02 23:33:34,595 [WARNING]: bounds.py(add_missing_bounds:188) >> Cannot generate bounds for coordinate variable 'lon' which has a length <= 1 (singleton).\n"
     ]
    },
    {
     "name": "stdout",
     "output_type": "stream",
     "text": [
      "."
     ]
    },
    {
     "name": "stderr",
     "output_type": "stream",
     "text": [
      "2024-03-02 23:33:36,149 [WARNING]: bounds.py(add_missing_bounds:188) >> Cannot generate bounds for coordinate variable 'lon' which has a length <= 1 (singleton).\n",
      "2024-03-02 23:33:36,149 [WARNING]: bounds.py(add_missing_bounds:188) >> Cannot generate bounds for coordinate variable 'lon' which has a length <= 1 (singleton).\n"
     ]
    },
    {
     "name": "stdout",
     "output_type": "stream",
     "text": [
      "."
     ]
    },
    {
     "name": "stderr",
     "output_type": "stream",
     "text": [
      "2024-03-02 23:33:37,810 [WARNING]: bounds.py(add_missing_bounds:188) >> Cannot generate bounds for coordinate variable 'lon' which has a length <= 1 (singleton).\n"
     ]
    },
    {
     "name": "stdout",
     "output_type": "stream",
     "text": [
      "."
     ]
    },
    {
     "name": "stderr",
     "output_type": "stream",
     "text": [
      "2024-03-02 23:33:37,810 [WARNING]: bounds.py(add_missing_bounds:188) >> Cannot generate bounds for coordinate variable 'lon' which has a length <= 1 (singleton).\n"
     ]
    },
    {
     "name": "stdout",
     "output_type": "stream",
     "text": [
      "\n",
      "Time elapsed: 38.27353501319885 seconds\n",
      "\n",
      "5 / 5: MIROC-ES2L (30 members)\n",
      "."
     ]
    },
    {
     "name": "stderr",
     "output_type": "stream",
     "text": [
      "2024-03-02 23:33:39,534 [WARNING]: bounds.py(add_missing_bounds:188) >> Cannot generate bounds for coordinate variable 'lon' which has a length <= 1 (singleton).\n",
      "2024-03-02 23:33:39,534 [WARNING]: bounds.py(add_missing_bounds:188) >> Cannot generate bounds for coordinate variable 'lon' which has a length <= 1 (singleton).\n",
      "2024-03-02 23:33:41,010 [WARNING]: bounds.py(add_missing_bounds:188) >> Cannot generate bounds for coordinate variable 'lon' which has a length <= 1 (singleton).\n",
      "2024-03-02 23:33:41,010 [WARNING]: bounds.py(add_missing_bounds:188) >> Cannot generate bounds for coordinate variable 'lon' which has a length <= 1 (singleton).\n"
     ]
    },
    {
     "name": "stdout",
     "output_type": "stream",
     "text": [
      "."
     ]
    },
    {
     "name": "stderr",
     "output_type": "stream",
     "text": [
      "2024-03-02 23:33:42,416 [WARNING]: bounds.py(add_missing_bounds:188) >> Cannot generate bounds for coordinate variable 'lon' which has a length <= 1 (singleton).\n",
      "2024-03-02 23:33:42,416 [WARNING]: bounds.py(add_missing_bounds:188) >> Cannot generate bounds for coordinate variable 'lon' which has a length <= 1 (singleton).\n"
     ]
    },
    {
     "name": "stdout",
     "output_type": "stream",
     "text": [
      "."
     ]
    },
    {
     "name": "stderr",
     "output_type": "stream",
     "text": [
      "2024-03-02 23:33:43,971 [WARNING]: bounds.py(add_missing_bounds:188) >> Cannot generate bounds for coordinate variable 'lon' which has a length <= 1 (singleton).\n",
      "2024-03-02 23:33:43,971 [WARNING]: bounds.py(add_missing_bounds:188) >> Cannot generate bounds for coordinate variable 'lon' which has a length <= 1 (singleton).\n"
     ]
    },
    {
     "name": "stdout",
     "output_type": "stream",
     "text": [
      ".."
     ]
    },
    {
     "name": "stderr",
     "output_type": "stream",
     "text": [
      "2024-03-02 23:33:45,488 [WARNING]: bounds.py(add_missing_bounds:188) >> Cannot generate bounds for coordinate variable 'lon' which has a length <= 1 (singleton).\n",
      "2024-03-02 23:33:45,488 [WARNING]: bounds.py(add_missing_bounds:188) >> Cannot generate bounds for coordinate variable 'lon' which has a length <= 1 (singleton).\n",
      "2024-03-02 23:33:46,988 [WARNING]: bounds.py(add_missing_bounds:188) >> Cannot generate bounds for coordinate variable 'lon' which has a length <= 1 (singleton).\n",
      "2024-03-02 23:33:46,988 [WARNING]: bounds.py(add_missing_bounds:188) >> Cannot generate bounds for coordinate variable 'lon' which has a length <= 1 (singleton).\n"
     ]
    },
    {
     "name": "stdout",
     "output_type": "stream",
     "text": [
      "."
     ]
    },
    {
     "name": "stderr",
     "output_type": "stream",
     "text": [
      "2024-03-02 23:33:48,491 [WARNING]: bounds.py(add_missing_bounds:188) >> Cannot generate bounds for coordinate variable 'lon' which has a length <= 1 (singleton).\n",
      "2024-03-02 23:33:48,491 [WARNING]: bounds.py(add_missing_bounds:188) >> Cannot generate bounds for coordinate variable 'lon' which has a length <= 1 (singleton).\n"
     ]
    },
    {
     "name": "stdout",
     "output_type": "stream",
     "text": [
      "."
     ]
    },
    {
     "name": "stderr",
     "output_type": "stream",
     "text": [
      "2024-03-02 23:33:49,929 [WARNING]: bounds.py(add_missing_bounds:188) >> Cannot generate bounds for coordinate variable 'lon' which has a length <= 1 (singleton).\n",
      "2024-03-02 23:33:49,929 [WARNING]: bounds.py(add_missing_bounds:188) >> Cannot generate bounds for coordinate variable 'lon' which has a length <= 1 (singleton).\n"
     ]
    },
    {
     "name": "stdout",
     "output_type": "stream",
     "text": [
      "."
     ]
    },
    {
     "name": "stderr",
     "output_type": "stream",
     "text": [
      "2024-03-02 23:33:51,322 [WARNING]: bounds.py(add_missing_bounds:188) >> Cannot generate bounds for coordinate variable 'lon' which has a length <= 1 (singleton).\n",
      "2024-03-02 23:33:51,322 [WARNING]: bounds.py(add_missing_bounds:188) >> Cannot generate bounds for coordinate variable 'lon' which has a length <= 1 (singleton).\n"
     ]
    },
    {
     "name": "stdout",
     "output_type": "stream",
     "text": [
      "."
     ]
    },
    {
     "name": "stderr",
     "output_type": "stream",
     "text": [
      "2024-03-02 23:33:52,729 [WARNING]: bounds.py(add_missing_bounds:188) >> Cannot generate bounds for coordinate variable 'lon' which has a length <= 1 (singleton).\n",
      "2024-03-02 23:33:52,729 [WARNING]: bounds.py(add_missing_bounds:188) >> Cannot generate bounds for coordinate variable 'lon' which has a length <= 1 (singleton).\n"
     ]
    },
    {
     "name": "stdout",
     "output_type": "stream",
     "text": [
      "."
     ]
    },
    {
     "name": "stderr",
     "output_type": "stream",
     "text": [
      "2024-03-02 23:33:54,225 [WARNING]: bounds.py(add_missing_bounds:188) >> Cannot generate bounds for coordinate variable 'lon' which has a length <= 1 (singleton).\n",
      "2024-03-02 23:33:54,225 [WARNING]: bounds.py(add_missing_bounds:188) >> Cannot generate bounds for coordinate variable 'lon' which has a length <= 1 (singleton).\n"
     ]
    },
    {
     "name": "stdout",
     "output_type": "stream",
     "text": [
      "."
     ]
    },
    {
     "name": "stderr",
     "output_type": "stream",
     "text": [
      "2024-03-02 23:33:55,782 [WARNING]: bounds.py(add_missing_bounds:188) >> Cannot generate bounds for coordinate variable 'lon' which has a length <= 1 (singleton).\n",
      "2024-03-02 23:33:55,782 [WARNING]: bounds.py(add_missing_bounds:188) >> Cannot generate bounds for coordinate variable 'lon' which has a length <= 1 (singleton).\n"
     ]
    },
    {
     "name": "stdout",
     "output_type": "stream",
     "text": [
      "."
     ]
    },
    {
     "name": "stderr",
     "output_type": "stream",
     "text": [
      "2024-03-02 23:33:57,232 [WARNING]: bounds.py(add_missing_bounds:188) >> Cannot generate bounds for coordinate variable 'lon' which has a length <= 1 (singleton).\n",
      "2024-03-02 23:33:57,232 [WARNING]: bounds.py(add_missing_bounds:188) >> Cannot generate bounds for coordinate variable 'lon' which has a length <= 1 (singleton).\n"
     ]
    },
    {
     "name": "stdout",
     "output_type": "stream",
     "text": [
      ".."
     ]
    },
    {
     "name": "stderr",
     "output_type": "stream",
     "text": [
      "2024-03-02 23:33:58,760 [WARNING]: bounds.py(add_missing_bounds:188) >> Cannot generate bounds for coordinate variable 'lon' which has a length <= 1 (singleton).\n",
      "2024-03-02 23:33:58,760 [WARNING]: bounds.py(add_missing_bounds:188) >> Cannot generate bounds for coordinate variable 'lon' which has a length <= 1 (singleton).\n",
      "2024-03-02 23:34:00,272 [WARNING]: bounds.py(add_missing_bounds:188) >> Cannot generate bounds for coordinate variable 'lon' which has a length <= 1 (singleton).\n",
      "2024-03-02 23:34:00,272 [WARNING]: bounds.py(add_missing_bounds:188) >> Cannot generate bounds for coordinate variable 'lon' which has a length <= 1 (singleton).\n"
     ]
    },
    {
     "name": "stdout",
     "output_type": "stream",
     "text": [
      "."
     ]
    },
    {
     "name": "stderr",
     "output_type": "stream",
     "text": [
      "2024-03-02 23:34:01,761 [WARNING]: bounds.py(add_missing_bounds:188) >> Cannot generate bounds for coordinate variable 'lon' which has a length <= 1 (singleton).\n",
      "2024-03-02 23:34:01,761 [WARNING]: bounds.py(add_missing_bounds:188) >> Cannot generate bounds for coordinate variable 'lon' which has a length <= 1 (singleton).\n"
     ]
    },
    {
     "name": "stdout",
     "output_type": "stream",
     "text": [
      "."
     ]
    },
    {
     "name": "stderr",
     "output_type": "stream",
     "text": [
      "2024-03-02 23:34:03,213 [WARNING]: bounds.py(add_missing_bounds:188) >> Cannot generate bounds for coordinate variable 'lon' which has a length <= 1 (singleton).\n",
      "2024-03-02 23:34:03,213 [WARNING]: bounds.py(add_missing_bounds:188) >> Cannot generate bounds for coordinate variable 'lon' which has a length <= 1 (singleton).\n"
     ]
    },
    {
     "name": "stdout",
     "output_type": "stream",
     "text": [
      "."
     ]
    },
    {
     "name": "stderr",
     "output_type": "stream",
     "text": [
      "2024-03-02 23:34:04,821 [WARNING]: bounds.py(add_missing_bounds:188) >> Cannot generate bounds for coordinate variable 'lon' which has a length <= 1 (singleton).\n",
      "2024-03-02 23:34:04,821 [WARNING]: bounds.py(add_missing_bounds:188) >> Cannot generate bounds for coordinate variable 'lon' which has a length <= 1 (singleton).\n"
     ]
    },
    {
     "name": "stdout",
     "output_type": "stream",
     "text": [
      "."
     ]
    },
    {
     "name": "stderr",
     "output_type": "stream",
     "text": [
      "2024-03-02 23:34:06,330 [WARNING]: bounds.py(add_missing_bounds:188) >> Cannot generate bounds for coordinate variable 'lon' which has a length <= 1 (singleton).\n",
      "2024-03-02 23:34:06,330 [WARNING]: bounds.py(add_missing_bounds:188) >> Cannot generate bounds for coordinate variable 'lon' which has a length <= 1 (singleton).\n"
     ]
    },
    {
     "name": "stdout",
     "output_type": "stream",
     "text": [
      "."
     ]
    },
    {
     "name": "stderr",
     "output_type": "stream",
     "text": [
      "2024-03-02 23:34:07,861 [WARNING]: bounds.py(add_missing_bounds:188) >> Cannot generate bounds for coordinate variable 'lon' which has a length <= 1 (singleton).\n",
      "2024-03-02 23:34:07,861 [WARNING]: bounds.py(add_missing_bounds:188) >> Cannot generate bounds for coordinate variable 'lon' which has a length <= 1 (singleton).\n"
     ]
    },
    {
     "name": "stdout",
     "output_type": "stream",
     "text": [
      "."
     ]
    },
    {
     "name": "stderr",
     "output_type": "stream",
     "text": [
      "2024-03-02 23:34:09,299 [WARNING]: bounds.py(add_missing_bounds:188) >> Cannot generate bounds for coordinate variable 'lon' which has a length <= 1 (singleton).\n",
      "2024-03-02 23:34:09,299 [WARNING]: bounds.py(add_missing_bounds:188) >> Cannot generate bounds for coordinate variable 'lon' which has a length <= 1 (singleton).\n"
     ]
    },
    {
     "name": "stdout",
     "output_type": "stream",
     "text": [
      "."
     ]
    },
    {
     "name": "stderr",
     "output_type": "stream",
     "text": [
      "2024-03-02 23:34:10,843 [WARNING]: bounds.py(add_missing_bounds:188) >> Cannot generate bounds for coordinate variable 'lon' which has a length <= 1 (singleton).\n",
      "2024-03-02 23:34:10,843 [WARNING]: bounds.py(add_missing_bounds:188) >> Cannot generate bounds for coordinate variable 'lon' which has a length <= 1 (singleton).\n"
     ]
    },
    {
     "name": "stdout",
     "output_type": "stream",
     "text": [
      "."
     ]
    },
    {
     "name": "stderr",
     "output_type": "stream",
     "text": [
      "2024-03-02 23:34:12,372 [WARNING]: bounds.py(add_missing_bounds:188) >> Cannot generate bounds for coordinate variable 'lon' which has a length <= 1 (singleton).\n",
      "2024-03-02 23:34:12,372 [WARNING]: bounds.py(add_missing_bounds:188) >> Cannot generate bounds for coordinate variable 'lon' which has a length <= 1 (singleton).\n"
     ]
    },
    {
     "name": "stdout",
     "output_type": "stream",
     "text": [
      ".."
     ]
    },
    {
     "name": "stderr",
     "output_type": "stream",
     "text": [
      "2024-03-02 23:34:14,095 [WARNING]: bounds.py(add_missing_bounds:188) >> Cannot generate bounds for coordinate variable 'lon' which has a length <= 1 (singleton).\n",
      "2024-03-02 23:34:14,095 [WARNING]: bounds.py(add_missing_bounds:188) >> Cannot generate bounds for coordinate variable 'lon' which has a length <= 1 (singleton).\n",
      "2024-03-02 23:34:15,681 [WARNING]: bounds.py(add_missing_bounds:188) >> Cannot generate bounds for coordinate variable 'lon' which has a length <= 1 (singleton).\n",
      "2024-03-02 23:34:15,681 [WARNING]: bounds.py(add_missing_bounds:188) >> Cannot generate bounds for coordinate variable 'lon' which has a length <= 1 (singleton).\n"
     ]
    },
    {
     "name": "stdout",
     "output_type": "stream",
     "text": [
      "."
     ]
    },
    {
     "name": "stderr",
     "output_type": "stream",
     "text": [
      "2024-03-02 23:34:17,160 [WARNING]: bounds.py(add_missing_bounds:188) >> Cannot generate bounds for coordinate variable 'lon' which has a length <= 1 (singleton).\n",
      "2024-03-02 23:34:17,160 [WARNING]: bounds.py(add_missing_bounds:188) >> Cannot generate bounds for coordinate variable 'lon' which has a length <= 1 (singleton).\n"
     ]
    },
    {
     "name": "stdout",
     "output_type": "stream",
     "text": [
      ".."
     ]
    },
    {
     "name": "stderr",
     "output_type": "stream",
     "text": [
      "2024-03-02 23:34:18,819 [WARNING]: bounds.py(add_missing_bounds:188) >> Cannot generate bounds for coordinate variable 'lon' which has a length <= 1 (singleton).\n",
      "2024-03-02 23:34:18,819 [WARNING]: bounds.py(add_missing_bounds:188) >> Cannot generate bounds for coordinate variable 'lon' which has a length <= 1 (singleton).\n",
      "2024-03-02 23:34:20,364 [WARNING]: bounds.py(add_missing_bounds:188) >> Cannot generate bounds for coordinate variable 'lon' which has a length <= 1 (singleton).\n",
      "2024-03-02 23:34:20,364 [WARNING]: bounds.py(add_missing_bounds:188) >> Cannot generate bounds for coordinate variable 'lon' which has a length <= 1 (singleton).\n"
     ]
    },
    {
     "name": "stdout",
     "output_type": "stream",
     "text": [
      "."
     ]
    },
    {
     "name": "stderr",
     "output_type": "stream",
     "text": [
      "2024-03-02 23:34:21,887 [WARNING]: bounds.py(add_missing_bounds:188) >> Cannot generate bounds for coordinate variable 'lon' which has a length <= 1 (singleton).\n",
      "2024-03-02 23:34:21,887 [WARNING]: bounds.py(add_missing_bounds:188) >> Cannot generate bounds for coordinate variable 'lon' which has a length <= 1 (singleton).\n"
     ]
    },
    {
     "name": "stdout",
     "output_type": "stream",
     "text": [
      "."
     ]
    },
    {
     "name": "stderr",
     "output_type": "stream",
     "text": [
      "2024-03-02 23:34:23,493 [WARNING]: bounds.py(add_missing_bounds:188) >> Cannot generate bounds for coordinate variable 'lon' which has a length <= 1 (singleton).\n",
      "2024-03-02 23:34:23,493 [WARNING]: bounds.py(add_missing_bounds:188) >> Cannot generate bounds for coordinate variable 'lon' which has a length <= 1 (singleton).\n"
     ]
    },
    {
     "name": "stdout",
     "output_type": "stream",
     "text": [
      ".\n",
      "Time elapsed: 45.685871839523315 seconds\n",
      "\n"
     ]
    }
   ],
   "source": [
    "# get training models\n",
    "files = glob.glob(root_dir + '/Training/' + cmipTable[ncvar] + '/' + ncvar + '/*')\n",
    "models = [p.split('/')[-1] for p in files]\n",
    "\n",
    "# ensure directory exists to write out unforced time series\n",
    "if not os.path.exists('data/'):\n",
    "    os.mkdir('data')\n",
    "\n",
    "# initialize a list to store model ensemble mean time series\n",
    "model_mean_list = []\n",
    "\n",
    "# loop over training models\n",
    "for imodel, model in enumerate(models):\n",
    "    # start timer\n",
    "    stime = clocktime.time()\n",
    "    # get model files\n",
    "    mpath = root_dir + '/Training/' + cmipTable[ncvar] + '/' + ncvar + '/' + model\n",
    "    mfiles = glob.glob(mpath + '/*')\n",
    "    # parse file names to get list of model members\n",
    "    # CESM2 has a non-CMIP naming convention\n",
    "    if model == \"CESM2\":\n",
    "        members = [p.split(\"ssp370_\")[-1].split(\".1880\")[0] for p in mfiles]\n",
    "    else:\n",
    "        members = [p.split(\"_\")[-1].split(\".\")[0] for p in mfiles]\n",
    "    members.sort(key=natsort)\n",
    "    # print progress\n",
    "    print(str(imodel + 1) + \" / \" + str(len(models)) + \": \" + model + \" (\" + str(len(members)) + \" members)\")\n",
    "    # initialize model ensemble xarray dataset\n",
    "    ds_model = None\n",
    "    for im, member in enumerate(members):\n",
    "        # print member progress\n",
    "        print('.', end='')\n",
    "        # get member filename\n",
    "        fn = glob.glob(mpath + \"/*_\" + member + \".*.nc\")\n",
    "        # make sure filename is unique\n",
    "        if len(fn) != 1:\n",
    "            raise ValueError(\"Unexpected number of model members\")\n",
    "        else:\n",
    "            fn = fn[0]\n",
    "        # load data\n",
    "        ds = xc.open_dataset(fn)\n",
    "        # remove singletons / lon\n",
    "        ds = ds.squeeze()\n",
    "        ds = ds.bounds.add_missing_bounds(axes=['T','Z'])\n",
    "        \n",
    "        \n",
    "        #ds = ds.drop_vars('lon')\n",
    "        # subset data to user-specified time period\n",
    "        ds = ds.sel(time=slice(tv_time_period[0], tv_time_period[1]))\n",
    "        # calculate departures (relative to user-specified reference time period)\n",
    "        ds = ds.temporal.departures(vid, freq='month', reference_period=reference_period)\n",
    "        #print(ds.tas.shape)\n",
    "        # compute annual average temperature values\n",
    "        ##ds = ds.temporal.group_average(vid, freq='year')\n",
    "        ##print(ds.tas)\n",
    "        # # This block is to ensure all models have the same time axis since\n",
    "        # # we are concatenating models/members to the same xarray dataset.\n",
    "        # # Even if time steps are the same, differing calendars can create problems\n",
    "        # # during concatenation.\n",
    "        # #nt\n",
    "        # get reference time axis if it does not exist\n",
    "        if 'ref_time' not in locals():\n",
    "            ref_time = ds.time\n",
    "            #print(ref_time)\n",
    "        # validate model/member time is the same as reference time\n",
    "        #ref_time = ds.time\n",
    "        for i, t in enumerate(ds.time.values):\n",
    "            m = t.month; y = t.year\n",
    "            #print(m)\n",
    "            #print(y)\n",
    "            rt = ref_time.values[i]; rm = rt.month; ry = rt.year\n",
    "            #print(rt)\n",
    "            if ((ry != y) | (rm != m)):\n",
    "                raise ValueError(\"model time and reference time do not match\")\n",
    "        # set model/member time to reference time\n",
    "        #print(ref_time)\n",
    "        #print(ds.time)\n",
    "        ds[\"time\"] = ref_time.copy()\n",
    "        # add model realization to model ensemble dataset\n",
    "        if ds_model is None:\n",
    "            ds_model = ds\n",
    "        else:\n",
    "            ds_model = xr.concat((ds_model, ds), dim='member')\n",
    "    # after looping over members, compute model ensemble mean time series\n",
    "    ds_model_mean = ds_model.mean(dim='member', skipna=False)\n",
    "    # calculate model anomaly values\n",
    "    ###ds_model_anomaly = ds_model - ds_model_mean\n",
    "    # save unforced anomaly values for \"noise\" calculations\n",
    "    ###fnOut = 'data/' + ncvar + '_' + model + '_unforced.nc'\n",
    "    ###ds_model_anomaly.to_netcdf(fnOut)\n",
    "    # concatenate model ensemble mean to list\n",
    "    model_mean_list.append(ds_model_mean.load())\n",
    "    del ds_model, ds_model_mean #, ds_model_anomaly\n",
    "    # print time elapse for model\n",
    "    etime = clocktime.time()\n",
    "    print()\n",
    "    print(\"Time elapsed: \" + str(etime - stime) + \" seconds\")\n",
    "    print()\n",
    "\n",
    "# concatenate model means together\n",
    "# this will be used to produce the multimodel mean time series\n",
    "ds_multi_model = xr.concat(model_mean_list, dim='model')\n",
    "\n"
   ]
  },
  {
   "cell_type": "code",
   "execution_count": 5,
   "id": "f0cd11bd-446c-4c89-8d3f-d5419570ea11",
   "metadata": {
    "ExecuteTime": {
     "end_time": "2024-03-03T04:34:25.072628Z",
     "start_time": "2024-03-03T04:34:25.041414Z"
    }
   },
   "outputs": [],
   "source": [
    "#load mask file\n",
    "if ncvar == \"tas\" or ncvar == \"pr\" or ncvar == \"psl\" or ncvar == \"monmaxpr\" or ncvar == \"monmaxtasmax\" or ncvar == \"monmintasmin\":\n",
    "    maskfile = \"nomask.nc\"\n",
    "    missing_data_maskx = xr.open_dataset(maskfile)\n",
    "    missing_data = np.where(np.isnan(missing_data_maskx.tas.squeeze().transpose('lon', 'lat')), np.nan, 1)\n",
    "elif ncvar == \"tos\":\n",
    "    maskfile = \"maskland.nc\"\n",
    "    missing_data_maskx = xr.open_dataset(maskfile)\n",
    "    missing_data = np.where(np.isnan(missing_data_maskx.tos.squeeze().transpose('lon', 'lat')), np.nan, 1)\n",
    "else:\n",
    "    maskfile = \"zonmean_mask.nc\"\n",
    "    missing_data_maskx = xr.open_dataset(maskfile)\n",
    "    missing_data = np.where(np.isnan(missing_data_maskx.ta.squeeze().transpose('plev', 'lat')), np.nan, 1)\n",
    "    \n",
    "del maskfile\n",
    "#missing_data.shape"
   ]
  },
  {
   "cell_type": "code",
   "execution_count": 6,
   "id": "71a6e686-6910-4bf7-badc-dc5e5d643b4e",
   "metadata": {
    "ExecuteTime": {
     "end_time": "2024-03-03T04:34:25.163011Z",
     "start_time": "2024-03-03T04:34:25.074908Z"
    }
   },
   "outputs": [],
   "source": [
    "# multi-model mean and land mask\n",
    "index_array = xr.DataArray([0, 1, 2, 3, 4], dims=\"model\")\n",
    "ds_multi_model_mean5 = ds_multi_model.isel(model=index_array).mean(dim='model', skipna=False)\n",
    "ds_multi_model_mean5 = ds_multi_model_mean5.bounds.add_missing_bounds()\n",
    "\n",
    "lat_weights = ds_multi_model_mean5.spatial.get_weights(axis=['Y'])\n",
    "lat_weights0 = np.expand_dims(lat_weights, axis=0)\n",
    "lev_weights = ds_multi_model_mean5['plev_bnds'][:,0] - ds_multi_model_mean5['plev_bnds'][:,1]\n",
    "lev_weights0 = np.expand_dims(lev_weights, axis=1)\n",
    "weights = lat_weights0 * lev_weights0\n",
    "\n",
    "ds_multi_model_mean5[ncvar] = ds_multi_model_mean5[vid].transpose('time', 'plev', 'lat')\n",
    "#masked = ds_multi_model_mean5[ncvar] * np.tile( np.expand_dims(missing_data, axis=0), (ds_multi_model_mean5[ncvar].shape[0], 1, 1) )\n",
    "\n",
    "masked = ds_multi_model_mean5[ncvar] * np.tile( np.expand_dims(missing_data, axis=0), (ds_multi_model_mean5[ncvar].shape[0], 1, 1) )\n",
    "weights_ex = np.tile( np.expand_dims(weights, axis=0), (ds_multi_model_mean5[ncvar].shape[0], 1, 1) )"
   ]
  },
  {
   "cell_type": "code",
   "execution_count": 7,
   "id": "a6316b4d-4bfd-4226-afb7-448c2fcd22f1",
   "metadata": {
    "ExecuteTime": {
     "end_time": "2024-03-03T04:34:25.719645Z",
     "start_time": "2024-03-03T04:34:25.165811Z"
    }
   },
   "outputs": [],
   "source": [
    "# EOF\n",
    "solver = Eof(masked, weights=weights_ex) \n",
    "pcs = solver.pcs(npcs=5, pcscaling=0)\n",
    "eofs = solver.eofs(neofs=5)"
   ]
  },
  {
   "cell_type": "code",
   "execution_count": 8,
   "id": "c3ae1d46-666a-4243-a864-35c76de30244",
   "metadata": {
    "ExecuteTime": {
     "end_time": "2024-03-03T04:34:32.298685Z",
     "start_time": "2024-03-03T04:34:25.721672Z"
    },
    "scrolled": false
   },
   "outputs": [
    {
     "name": "stdout",
     "output_type": "stream",
     "text": [
      "1A\n",
      "['/Volumes/R1/ForceSMIP//Evaluation-Tier1/Amon/zmta/zmta_mon_1A.195001-202212.nc']\n",
      "<xarray.DataArray 'ta' (time: 876, plev: 17, lat: 72)>\n",
      "array([[[         nan,          nan,          nan, ...,          nan,\n",
      "                  nan,          nan],\n",
      "        [         nan,          nan,  -0.14218822, ...,  -1.88824445,\n",
      "          -1.9343132 ,  -1.56851896],\n",
      "        [         nan,          nan,   0.0565193 , ...,  -1.69016221,\n",
      "          -1.47338116,  -1.26608637],\n",
      "        ...,\n",
      "        [ -1.12028188,  -1.09047983,  -1.05526916, ...,  -3.64333826,\n",
      "          -3.69822983,  -3.71864235],\n",
      "        [ -1.43665567,  -1.42611542,  -1.36371971, ...,  -2.0720949 ,\n",
      "          -2.02027425,  -1.96419239],\n",
      "        [ -0.51104392,  -0.51436433,  -0.48581005, ...,   1.47700562,\n",
      "           1.75699954,   1.92790443]],\n",
      "\n",
      "       [[         nan,          nan,          nan, ...,          nan,\n",
      "                  nan,          nan],\n",
      "        [         nan,          nan,   1.25430593, ...,   0.03987255,\n",
      "           0.44078766,   0.73951763],\n",
      "        [         nan,          nan,   1.23886095, ...,   0.53271978,\n",
      "           0.45252526,   0.33592588],\n",
      "...\n",
      "        [ -5.33602956,  -5.22871569,  -5.0375237 , ...,  -4.17813203,\n",
      "          -4.24114806,  -4.27884708],\n",
      "        [ -5.06354157,  -4.96813195,  -4.81053509, ...,  -4.01169881,\n",
      "          -3.99931905,  -3.9838847 ],\n",
      "        [ -3.04398938,  -3.11765058,  -3.20738181, ...,  -2.64529827,\n",
      "          -2.48868492,  -2.37397991]],\n",
      "\n",
      "       [[         nan,          nan,          nan, ...,          nan,\n",
      "                  nan,          nan],\n",
      "        [         nan,          nan,  -1.15540081, ...,   6.16023152,\n",
      "           6.58385801,   6.86455316],\n",
      "        [         nan,          nan,  -1.06691897, ...,   5.13706308,\n",
      "           5.24860932,   5.34267971],\n",
      "        ...,\n",
      "        [ -0.9294711 ,  -1.05476971,  -1.14377596, ...,  -6.65548588,\n",
      "          -6.7468679 ,  -6.79476728],\n",
      "        [ -1.30359397,  -1.33856971,  -1.40321205, ...,  -6.51429805,\n",
      "          -6.65777691,  -6.76371325],\n",
      "        [ -1.25495171,  -1.27349469,  -1.31996356, ...,  -5.26444828,\n",
      "          -5.37081221,  -5.40929073]]])\n",
      "Coordinates:\n",
      "  * plev     (plev) float64 1e+05 9.25e+04 8.5e+04 7e+04 ... 3e+03 2e+03 1e+03\n",
      "  * lat      (lat) float64 -88.75 -86.25 -83.75 -81.25 ... 83.75 86.25 88.75\n",
      "  * time     (time) object 1950-01-16 12:00:00 ... 2022-12-16 12:00:00\n",
      "<xarray.DataArray 'pseudo_pcs' (time: 876, mode: 1)>\n",
      "array([[ 3.10255491e+03],\n",
      "       [ 1.47919790e+03],\n",
      "       [ 2.63355888e+03],\n",
      "       [ 3.98369501e+03],\n",
      "       [ 3.11364973e+03],\n",
      "       [ 4.67320322e+03],\n",
      "       [ 5.33499646e+03],\n",
      "       [ 4.70032815e+03],\n",
      "       [ 5.34780022e+03],\n",
      "       [ 4.69704644e+03],\n",
      "       [ 5.24959951e+03],\n",
      "       [ 4.66469115e+03],\n",
      "       [ 5.11468618e+03],\n",
      "       [ 3.83325724e+03],\n",
      "       [ 4.92808780e+03],\n",
      "       [ 3.09369724e+03],\n",
      "       [ 2.45629178e+03],\n",
      "       [ 2.82422077e+03],\n",
      "       [ 3.94711008e+03],\n",
      "       [ 4.18914239e+03],\n",
      "...\n",
      "       [-5.83908524e+03],\n",
      "       [-6.03175558e+03],\n",
      "       [-5.87966936e+03],\n",
      "       [-5.99230697e+03],\n",
      "       [-5.80703121e+03],\n",
      "       [-5.85593802e+03],\n",
      "       [-4.31815139e+03],\n",
      "       [-4.17735201e+03],\n",
      "       [-6.86847452e+03],\n",
      "       [-6.33255763e+03],\n",
      "       [-3.92399720e+03],\n",
      "       [-4.06709982e+03],\n",
      "       [-4.23078150e+03],\n",
      "       [-3.14200462e+03],\n",
      "       [-2.17003401e+03],\n",
      "       [-4.41471343e+03],\n",
      "       [-3.23147358e+03],\n",
      "       [-2.96341020e+03],\n",
      "       [-4.30812757e+03],\n",
      "       [-4.33581188e+03]])\n",
      "Coordinates:\n",
      "  * time     (time) object 1950-01-16 12:00:00 ... 2022-12-16 12:00:00\n",
      "  * mode     (mode) int64 0\n",
      "Attributes:\n",
      "    long_name:  ta_pseudo_pcs\n",
      "<xarray.DataArray 'pseudo_pcs' (time: 876)>\n",
      "array([ 3.10255491e+03,  1.47919790e+03,  2.63355888e+03,  3.98369501e+03,\n",
      "        3.11364973e+03,  4.67320322e+03,  5.33499646e+03,  4.70032815e+03,\n",
      "        5.34780022e+03,  4.69704644e+03,  5.24959951e+03,  4.66469115e+03,\n",
      "        5.11468618e+03,  3.83325724e+03,  4.92808780e+03,  3.09369724e+03,\n",
      "        2.45629178e+03,  2.82422077e+03,  3.94711008e+03,  4.18914239e+03,\n",
      "        4.77621885e+03,  5.71567459e+03,  3.80751594e+03,  4.34899677e+03,\n",
      "        5.11113371e+03,  3.05240066e+03,  3.15810785e+03,  2.67535876e+03,\n",
      "        4.40675476e+03,  3.16008235e+03,  3.78833548e+03,  3.63716604e+03,\n",
      "        3.37025652e+03,  4.61108133e+03,  2.81970387e+03,  4.35824641e+03,\n",
      "        3.22305675e+03,  2.95209157e+03,  4.19286303e+03,  3.08697269e+03,\n",
      "        2.55624670e+03,  2.29583506e+03,  3.31707670e+03,  3.81018140e+03,\n",
      "        1.62302022e+03,  2.35276987e+03,  3.79696690e+03,  3.67904353e+03,\n",
      "        1.54040999e+03,  1.95684422e+03,  1.42196700e+03,  1.02376769e+03,\n",
      "        2.15840046e+03,  4.66024108e+02,  8.38195485e+02,  2.49444328e+03,\n",
      "        1.91513800e+03,  2.85228463e+03,  1.98836464e+03,  1.64185902e+03,\n",
      "        9.31915228e+02,  6.87825843e+02,  5.70125993e+02,  9.64143306e+02,\n",
      "        1.79864754e+03,  3.15113654e+03,  1.88486227e+03,  1.94148499e+03,\n",
      "        2.32226604e+03,  1.59688562e+03,  1.59915214e+03,  3.03083586e+03,\n",
      "        2.11170902e+03,  1.74630106e+03,  3.12131729e+02,  2.24884727e+03,\n",
      "        1.37780147e+03,  1.42394797e+03,  3.53979539e+03,  1.43002597e+03,\n",
      "...\n",
      "       -3.06537425e+03, -3.14582672e+03, -2.06593294e+03, -2.29779897e+03,\n",
      "       -2.18788375e+03, -3.31946223e+03, -4.45628655e+03, -4.59034606e+03,\n",
      "       -4.05211250e+03, -5.21081762e+03, -4.28876041e+03, -5.20174147e+03,\n",
      "       -4.08308696e+03, -6.34457044e+03, -5.42539612e+03, -7.15939771e+03,\n",
      "       -6.36498190e+03, -6.72407319e+03, -6.11234183e+03, -7.08359175e+03,\n",
      "       -5.93823019e+03, -4.54582649e+03, -3.79232303e+03, -4.08121217e+03,\n",
      "       -4.96905576e+03, -3.73010925e+03, -4.94300088e+03, -4.60427199e+03,\n",
      "       -4.74419192e+03, -4.56265669e+03, -3.19177914e+03, -2.57362084e+03,\n",
      "       -3.78305636e+03, -4.00187843e+03, -1.93934312e+03, -1.84644146e+03,\n",
      "       -1.83999671e+03, -3.36406038e+03, -4.36400392e+03, -3.61940746e+03,\n",
      "       -3.22821435e+03, -3.57373276e+03, -4.81892165e+03, -3.70771658e+03,\n",
      "       -3.03129772e+03, -4.21663675e+03, -3.78199460e+03, -5.83848213e+03,\n",
      "       -6.48247038e+03, -5.98085743e+03, -6.60475552e+03, -6.19938482e+03,\n",
      "       -6.61501764e+03, -5.75342691e+03, -6.78492773e+03, -6.36713935e+03,\n",
      "       -5.05236192e+03, -8.46395931e+03, -6.45045070e+03, -4.77987844e+03,\n",
      "       -5.83908524e+03, -6.03175558e+03, -5.87966936e+03, -5.99230697e+03,\n",
      "       -5.80703121e+03, -5.85593802e+03, -4.31815139e+03, -4.17735201e+03,\n",
      "       -6.86847452e+03, -6.33255763e+03, -3.92399720e+03, -4.06709982e+03,\n",
      "       -4.23078150e+03, -3.14200462e+03, -2.17003401e+03, -4.41471343e+03,\n",
      "       -3.23147358e+03, -2.96341020e+03, -4.30812757e+03, -4.33581188e+03])\n",
      "Coordinates:\n",
      "  * time     (time) object 1950-01-16 12:00:00 ... 2022-12-16 12:00:00\n",
      "    mode     int64 0\n",
      "Attributes:\n",
      "    long_name:  ta_pseudo_pcs\n",
      "1072224\n",
      "1B\n",
      "['/Volumes/R1/ForceSMIP//Evaluation-Tier1/Amon/zmta/zmta_mon_1B.195001-202212.nc']\n",
      "<xarray.DataArray 'ta' (time: 876, plev: 17, lat: 72)>\n",
      "array([[[            nan,             nan,             nan, ...,\n",
      "                     nan,             nan,             nan],\n",
      "        [            nan,             nan,  1.69967832e+00, ...,\n",
      "          2.55146183e+00,  2.67553594e+00,  2.71984394e+00],\n",
      "        [            nan,             nan,  1.07018984e+00, ...,\n",
      "          3.27434573e+00,  3.65178034e+00,  4.03677713e+00],\n",
      "        ...,\n",
      "        [-3.74103363e-03,  2.52380146e-02,  8.54023789e-02, ...,\n",
      "         -2.45633303e-01, -4.32037856e-01, -5.23108402e-01],\n",
      "        [-4.56795978e-02, -5.81542336e-03,  6.47973403e-02, ...,\n",
      "          4.79276401e-01,  3.02200355e-01,  2.09078179e-01],\n",
      "        [ 1.16909218e+00,  1.19373168e+00,  1.23448702e+00, ...,\n",
      "          1.97358658e+00,  1.81943870e+00,  1.73626397e+00]],\n",
      "\n",
      "       [[            nan,             nan,             nan, ...,\n",
      "                     nan,             nan,             nan],\n",
      "        [            nan,             nan, -1.67648379e+00, ...,\n",
      "          2.84567166e+00,  2.65351108e+00,  2.47264341e+00],\n",
      "        [            nan,             nan, -6.68281364e-01, ...,\n",
      "          2.94169391e+00,  3.07871509e+00,  3.32184114e+00],\n",
      "...\n",
      "        [-2.99991708e+00, -2.89371354e+00, -2.66117497e+00, ...,\n",
      "         -4.36883081e+00, -4.54377164e+00, -4.64261502e+00],\n",
      "        [-3.37115792e+00, -3.18497773e+00, -2.83089518e+00, ...,\n",
      "         -4.63973081e+00, -4.83357778e+00, -4.94157960e+00],\n",
      "        [-3.68439666e+00, -3.49618671e+00, -3.16183464e+00, ...,\n",
      "         -4.98308965e+00, -5.20138493e+00, -5.31701152e+00]],\n",
      "\n",
      "       [[            nan,             nan,             nan, ...,\n",
      "                     nan,             nan,             nan],\n",
      "        [            nan,             nan,  2.39667488e+00, ...,\n",
      "          4.97176215e+00,  5.92070136e+00,  6.42516328e+00],\n",
      "        [            nan,             nan,  2.13350048e+00, ...,\n",
      "          3.49236591e+00,  4.23689043e+00,  4.79563076e+00],\n",
      "        ...,\n",
      "        [-1.88775830e+00, -1.84323522e+00, -1.77995712e+00, ...,\n",
      "         -7.53424901e+00, -7.49547128e+00, -7.46761966e+00],\n",
      "        [-2.17931883e+00, -2.09516056e+00, -1.94903376e+00, ...,\n",
      "         -8.60067847e+00, -8.59209940e+00, -8.57877536e+00],\n",
      "        [-2.13290374e+00, -2.05851928e+00, -1.96841802e+00, ...,\n",
      "         -1.00364294e+01, -1.01895306e+01, -1.02637664e+01]]])\n",
      "Coordinates:\n",
      "  * plev     (plev) float64 1e+05 9.25e+04 8.5e+04 7e+04 ... 3e+03 2e+03 1e+03\n",
      "  * lat      (lat) float64 -88.75 -86.25 -83.75 -81.25 ... 83.75 86.25 88.75\n",
      "  * time     (time) object 1950-01-16 12:00:00 ... 2022-12-16 12:00:00\n",
      "<xarray.DataArray 'pseudo_pcs' (time: 876, mode: 1)>\n",
      "array([[  1548.00980545],\n",
      "       [  2267.96101405],\n",
      "       [  2228.0158222 ],\n",
      "       [  1112.67610237],\n",
      "       [  2149.09431111],\n",
      "       [  2495.67563699],\n",
      "       [  1914.71997798],\n",
      "       [  2157.5899672 ],\n",
      "       [  1533.9781701 ],\n",
      "       [  2676.82790726],\n",
      "       [  2365.33591701],\n",
      "       [  3502.98139738],\n",
      "       [  2924.82514105],\n",
      "       [  3976.01608007],\n",
      "       [  3928.45746267],\n",
      "       [  4638.07096911],\n",
      "       [  2875.44795662],\n",
      "       [  2700.53143687],\n",
      "       [  4188.26935471],\n",
      "       [  4174.20224185],\n",
      "...\n",
      "       [ -9164.3895769 ],\n",
      "       [ -8953.49034587],\n",
      "       [-10286.47166133],\n",
      "       [-11211.90170554],\n",
      "       [-11001.9128279 ],\n",
      "       [ -9846.58673424],\n",
      "       [ -9280.82952783],\n",
      "       [ -9914.66951801],\n",
      "       [-10219.93541327],\n",
      "       [ -8810.18476077],\n",
      "       [ -9354.39139988],\n",
      "       [-10721.30227034],\n",
      "       [-10511.66814563],\n",
      "       [ -9304.97895541],\n",
      "       [ -9450.1493907 ],\n",
      "       [-11351.0417514 ],\n",
      "       [-10757.00979865],\n",
      "       [ -9180.52958776],\n",
      "       [ -9386.1433302 ],\n",
      "       [ -8510.58277755]])\n",
      "Coordinates:\n",
      "  * time     (time) object 1950-01-16 12:00:00 ... 2022-12-16 12:00:00\n",
      "  * mode     (mode) int64 0\n",
      "Attributes:\n",
      "    long_name:  ta_pseudo_pcs\n",
      "<xarray.DataArray 'pseudo_pcs' (time: 876)>\n",
      "array([  1548.00980545,   2267.96101405,   2228.0158222 ,   1112.67610237,\n",
      "         2149.09431111,   2495.67563699,   1914.71997798,   2157.5899672 ,\n",
      "         1533.9781701 ,   2676.82790726,   2365.33591701,   3502.98139738,\n",
      "         2924.82514105,   3976.01608007,   3928.45746267,   4638.07096911,\n",
      "         2875.44795662,   2700.53143687,   4188.26935471,   4174.20224185,\n",
      "         5441.84419303,   3121.45845811,   3534.83578605,   3172.07636805,\n",
      "         3436.687822  ,   4252.45363163,   3748.40227523,   3644.67997334,\n",
      "         3486.88534933,   3311.04646618,   2187.37689535,   2986.17695803,\n",
      "         2629.21305982,   2454.21726415,   3180.30708562,   2288.36017261,\n",
      "         1395.24419693,   2205.52736617,    281.48742768,    514.87370883,\n",
      "         2227.17654198,   3363.26621027,   3919.49562478,   3227.31138974,\n",
      "         2867.82250751,   2093.57690219,   1892.28386266,   1635.77507487,\n",
      "         2020.77070174,   2231.64631864,   2772.69756732,   2125.20389939,\n",
      "         1922.96919176,   2795.10400371,   3841.66574745,   3723.22626113,\n",
      "         2554.47464008,   2699.9742762 ,   2080.15838504,   2462.18694684,\n",
      "         3131.15600889,   2960.70509901,   3423.7621147 ,   4156.60853842,\n",
      "         3540.23587263,   2918.39043882,   3336.35564448,   3742.857529  ,\n",
      "         2786.20740017,   2887.85584292,   2358.50133742,   1712.66722363,\n",
      "          760.8116468 ,   1572.57413379,   2289.44617808,   3034.88587157,\n",
      "         2135.79826139,   2327.36078003,   2593.13230264,   2564.49005273,\n",
      "...\n",
      "        -8378.07122784,  -9166.77484328,  -8980.23576481,  -8378.4017404 ,\n",
      "        -8142.31934371,  -8228.92676831,  -6857.96001783,  -7894.19964181,\n",
      "        -8089.1305716 ,  -6841.82299364,  -8209.15586666,  -7285.6050202 ,\n",
      "        -7028.94409806,  -6416.21000797,  -7345.261729  ,  -7612.28191353,\n",
      "        -7881.14027621,  -7215.14495674,  -7443.37298185,  -7187.47419761,\n",
      "        -6478.42641688,  -5598.02976995,  -5563.55247711,  -3909.81436246,\n",
      "        -4050.97188826,  -5416.4785454 ,  -5866.56773721,  -7134.72720814,\n",
      "        -7314.42347335,  -7551.3675168 ,  -7203.44610934,  -6315.96304476,\n",
      "        -6381.29220908,  -8751.77415139,  -8325.86909023,  -8335.77759782,\n",
      "        -7761.06188344,  -9973.15174913,  -9542.84328765, -10318.97563446,\n",
      "        -8389.70305111,  -8113.93766342,  -8393.00487397,  -7823.77302091,\n",
      "        -7660.08268365,  -7240.52428619,  -8811.561093  ,  -8776.10925728,\n",
      "        -9381.90056069,  -8364.22493969,  -8464.20268146,  -8335.81587883,\n",
      "        -9680.31684565,  -8438.04814062,  -8318.06641785,  -9095.9942235 ,\n",
      "        -9497.18123625, -10070.99654399,  -8831.51216097,  -8787.45531827,\n",
      "        -9164.3895769 ,  -8953.49034587, -10286.47166133, -11211.90170554,\n",
      "       -11001.9128279 ,  -9846.58673424,  -9280.82952783,  -9914.66951801,\n",
      "       -10219.93541327,  -8810.18476077,  -9354.39139988, -10721.30227034,\n",
      "       -10511.66814563,  -9304.97895541,  -9450.1493907 , -11351.0417514 ,\n",
      "       -10757.00979865,  -9180.52958776,  -9386.1433302 ,  -8510.58277755])\n",
      "Coordinates:\n",
      "  * time     (time) object 1950-01-16 12:00:00 ... 2022-12-16 12:00:00\n",
      "    mode     int64 0\n",
      "Attributes:\n",
      "    long_name:  ta_pseudo_pcs\n",
      "1072224\n",
      "1C\n",
      "['/Volumes/R1/ForceSMIP//Evaluation-Tier1/Amon/zmta/zmta_mon_1C.195001-202212.nc']\n"
     ]
    },
    {
     "name": "stdout",
     "output_type": "stream",
     "text": [
      "<xarray.DataArray 'ta' (time: 876, plev: 17, lat: 72)>\n",
      "array([[[            nan,             nan,             nan, ...,\n",
      "                     nan,             nan,             nan],\n",
      "        [            nan,             nan, -9.15187608e-01, ...,\n",
      "          7.84162273e-01,  1.54797896e+00,  2.19056637e+00],\n",
      "        [            nan,             nan, -8.80001458e-01, ...,\n",
      "          8.07195872e-01,  1.19166280e+00,  1.49810510e+00],\n",
      "        ...,\n",
      "        [ 7.18388672e-02,  4.32231625e-02,  1.48758899e-02, ...,\n",
      "         -4.19870072e-01, -5.80662246e-01, -7.04429048e-01],\n",
      "        [-6.01659360e-02, -4.96663770e-02, -2.66380652e-02, ...,\n",
      "         -1.72707590e-01, -1.31175152e-02,  8.29835526e-02],\n",
      "        [ 7.61660700e-01,  7.70890811e-01,  7.80939932e-01, ...,\n",
      "          8.11903828e-01,  1.34784340e+00,  1.64153613e+00]],\n",
      "\n",
      "       [[            nan,             nan,             nan, ...,\n",
      "                     nan,             nan,             nan],\n",
      "        [            nan,             nan, -2.29464152e+00, ...,\n",
      "         -1.45975018e+00, -1.42532053e+00, -1.64980433e+00],\n",
      "        [            nan,             nan, -2.13335558e+00, ...,\n",
      "         -1.35539990e+00, -1.72184537e+00, -1.99155072e+00],\n",
      "...\n",
      "        [ 1.02209811e+01,  1.00102588e+01,  9.59726664e+00, ...,\n",
      "         -2.03528514e+00, -2.02600575e+00, -2.02439448e+00],\n",
      "        [ 9.82026288e+00,  9.61399612e+00,  9.13177532e+00, ...,\n",
      "         -1.71436765e+00, -1.64695005e+00, -1.59536707e+00],\n",
      "        [ 6.97541717e+00,  6.48612671e+00,  5.71364622e+00, ...,\n",
      "         -9.48739576e-01, -7.06021882e-01, -5.40944553e-01]],\n",
      "\n",
      "       [[            nan,             nan,             nan, ...,\n",
      "                     nan,             nan,             nan],\n",
      "        [            nan,             nan,  1.12595017e+00, ...,\n",
      "          5.62410057e+00,  6.17425093e+00,  6.52315084e+00],\n",
      "        [            nan,             nan,  1.07431768e+00, ...,\n",
      "          4.43403798e+00,  4.71038013e+00,  4.89410878e+00],\n",
      "        ...,\n",
      "        [-1.44408422e+00, -1.48815344e+00, -1.55839176e+00, ...,\n",
      "         -2.50172493e+00, -2.49476542e+00, -2.47818891e+00],\n",
      "        [-3.35171140e+00, -3.34802248e+00, -3.34525895e+00, ...,\n",
      "         -1.53831806e+00, -1.46238545e+00, -1.42295222e+00],\n",
      "        [-3.66446178e+00, -3.63346491e+00, -3.54984714e+00, ...,\n",
      "          4.48681055e-01,  7.37125610e-01,  8.56468934e-01]]])\n",
      "Coordinates:\n",
      "  * plev     (plev) float64 1e+05 9.25e+04 8.5e+04 7e+04 ... 3e+03 2e+03 1e+03\n",
      "  * lat      (lat) float64 -88.75 -86.25 -83.75 -81.25 ... 83.75 86.25 88.75\n",
      "  * time     (time) object 1950-01-16 12:00:00 ... 2022-12-16 12:00:00\n",
      "<xarray.DataArray 'pseudo_pcs' (time: 876, mode: 1)>\n",
      "array([[ 6.82861511e+03],\n",
      "       [ 6.22404012e+03],\n",
      "       [ 6.19028866e+03],\n",
      "       [ 7.77575730e+03],\n",
      "       [ 7.60280963e+03],\n",
      "       [ 8.12831110e+03],\n",
      "       [ 6.77074997e+03],\n",
      "       [ 6.78591626e+03],\n",
      "       [ 6.00735745e+03],\n",
      "       [ 6.37427163e+03],\n",
      "       [ 5.24062836e+03],\n",
      "       [ 6.40440015e+03],\n",
      "       [ 4.85932513e+03],\n",
      "       [ 4.43494684e+03],\n",
      "       [ 4.71614246e+03],\n",
      "       [ 5.69170038e+03],\n",
      "       [ 6.59264687e+03],\n",
      "       [ 6.49847510e+03],\n",
      "       [ 7.05827171e+03],\n",
      "       [ 6.86322483e+03],\n",
      "...\n",
      "       [-1.03334707e+04],\n",
      "       [-1.07959578e+04],\n",
      "       [-1.20555189e+04],\n",
      "       [-1.13589457e+04],\n",
      "       [-1.15664463e+04],\n",
      "       [-1.17250545e+04],\n",
      "       [-1.06213477e+04],\n",
      "       [-1.06569590e+04],\n",
      "       [-1.05353144e+04],\n",
      "       [-1.20072230e+04],\n",
      "       [-1.17207362e+04],\n",
      "       [-1.25918086e+04],\n",
      "       [-1.17664242e+04],\n",
      "       [-1.21128015e+04],\n",
      "       [-1.31089961e+04],\n",
      "       [-1.35969976e+04],\n",
      "       [-1.34059250e+04],\n",
      "       [-1.18247546e+04],\n",
      "       [-1.16228380e+04],\n",
      "       [-1.03244935e+04]])\n",
      "Coordinates:\n",
      "  * time     (time) object 1950-01-16 12:00:00 ... 2022-12-16 12:00:00\n",
      "  * mode     (mode) int64 0\n",
      "Attributes:\n",
      "    long_name:  ta_pseudo_pcs\n",
      "<xarray.DataArray 'pseudo_pcs' (time: 876)>\n",
      "array([ 6.82861511e+03,  6.22404012e+03,  6.19028866e+03,  7.77575730e+03,\n",
      "        7.60280963e+03,  8.12831110e+03,  6.77074997e+03,  6.78591626e+03,\n",
      "        6.00735745e+03,  6.37427163e+03,  5.24062836e+03,  6.40440015e+03,\n",
      "        4.85932513e+03,  4.43494684e+03,  4.71614246e+03,  5.69170038e+03,\n",
      "        6.59264687e+03,  6.49847510e+03,  7.05827171e+03,  6.86322483e+03,\n",
      "        6.38683302e+03,  6.83443322e+03,  7.05700632e+03,  5.71716409e+03,\n",
      "        6.66741322e+03,  6.96466152e+03,  7.30036081e+03,  7.20843380e+03,\n",
      "        7.71325895e+03,  7.69886135e+03,  6.91567017e+03,  7.84737511e+03,\n",
      "        7.97606016e+03,  6.67282236e+03,  7.19344941e+03,  7.42262712e+03,\n",
      "        7.31484236e+03,  5.77701418e+03,  5.70503121e+03,  5.19144853e+03,\n",
      "        6.01559090e+03,  5.82165488e+03,  4.93318611e+03,  4.88937216e+03,\n",
      "        4.24058228e+03,  4.86940971e+03,  4.53980866e+03,  4.02081220e+03,\n",
      "        4.16000245e+03,  6.26655570e+03,  4.89497385e+03,  4.88279678e+03,\n",
      "        5.03087364e+03,  5.68199155e+03,  6.26921214e+03,  7.04714462e+03,\n",
      "        6.59695049e+03,  7.41952336e+03,  5.81290051e+03,  5.30097220e+03,\n",
      "        5.40073516e+03,  4.99390054e+03,  5.53280947e+03,  4.75047682e+03,\n",
      "        5.45246090e+03,  4.61989461e+03,  5.09803165e+03,  4.38539478e+03,\n",
      "        3.42267511e+03,  4.52154017e+03,  5.04121526e+03,  4.66121097e+03,\n",
      "        6.37291640e+03,  5.38818182e+03,  6.16077330e+03,  5.70881726e+03,\n",
      "        5.47395059e+03,  5.82855305e+03,  6.21351686e+03,  5.06825166e+03,\n",
      "...\n",
      "       -6.94708235e+03, -6.27428576e+03, -6.83606032e+03, -8.37568972e+03,\n",
      "       -7.84397657e+03, -6.39258156e+03, -6.28010050e+03, -6.31341298e+03,\n",
      "       -5.75855868e+03, -5.19234818e+03, -7.51323118e+03, -6.36543446e+03,\n",
      "       -5.96756097e+03, -7.15862764e+03, -7.33606716e+03, -7.70904746e+03,\n",
      "       -8.32607521e+03, -6.76288595e+03, -7.57230319e+03, -8.00649582e+03,\n",
      "       -8.90862037e+03, -6.70986081e+03, -6.92420718e+03, -9.29439879e+03,\n",
      "       -7.68056242e+03, -8.58272147e+03, -8.34551656e+03, -9.25002225e+03,\n",
      "       -9.52139533e+03, -9.41799064e+03, -9.06907957e+03, -9.06887846e+03,\n",
      "       -1.01172785e+04, -1.00751512e+04, -8.84128398e+03, -9.27105797e+03,\n",
      "       -1.00491353e+04, -1.19489822e+04, -1.28401594e+04, -1.25488598e+04,\n",
      "       -1.18794983e+04, -1.20864747e+04, -1.03247009e+04, -1.08813309e+04,\n",
      "       -1.05833558e+04, -1.01185851e+04, -9.69222586e+03, -1.10084606e+04,\n",
      "       -1.03197806e+04, -1.12991777e+04, -1.14321023e+04, -1.04410283e+04,\n",
      "       -1.01115110e+04, -1.01100506e+04, -9.84121912e+03, -9.02879444e+03,\n",
      "       -1.17221845e+04, -1.10199094e+04, -1.17072588e+04, -1.16475856e+04,\n",
      "       -1.03334707e+04, -1.07959578e+04, -1.20555189e+04, -1.13589457e+04,\n",
      "       -1.15664463e+04, -1.17250545e+04, -1.06213477e+04, -1.06569590e+04,\n",
      "       -1.05353144e+04, -1.20072230e+04, -1.17207362e+04, -1.25918086e+04,\n",
      "       -1.17664242e+04, -1.21128015e+04, -1.31089961e+04, -1.35969976e+04,\n",
      "       -1.34059250e+04, -1.18247546e+04, -1.16228380e+04, -1.03244935e+04])\n",
      "Coordinates:\n",
      "  * time     (time) object 1950-01-16 12:00:00 ... 2022-12-16 12:00:00\n",
      "    mode     int64 0\n",
      "Attributes:\n",
      "    long_name:  ta_pseudo_pcs\n",
      "1072224\n",
      "1D\n",
      "['/Volumes/R1/ForceSMIP//Evaluation-Tier1/Amon/zmta/zmta_mon_1D.195001-202212.nc']\n",
      "<xarray.DataArray 'ta' (time: 876, plev: 17, lat: 72)>\n",
      "array([[[            nan,             nan,             nan, ...,\n",
      "                     nan,             nan,             nan],\n",
      "        [            nan,             nan,  3.54340830e-01, ...,\n",
      "          1.88059679e+00,  1.76425223e+00,  1.78157146e+00],\n",
      "        [            nan,             nan,  3.78538371e-01, ...,\n",
      "          1.46250520e+00,  1.26518344e+00,  1.19904915e+00],\n",
      "        ...,\n",
      "        [-2.97567764e-01, -1.85553414e-01, -2.00727549e-03, ...,\n",
      "          1.24546340e+01,  1.27803090e+01,  1.29441158e+01],\n",
      "        [-7.54900312e-01, -7.40699960e-01, -5.95446005e-01, ...,\n",
      "          1.27593688e+01,  1.30223644e+01,  1.31657728e+01],\n",
      "        [ 3.30826882e-01,  3.57884948e-01,  3.74653641e-01, ...,\n",
      "          1.04734432e+01,  1.06053870e+01,  1.06867061e+01]],\n",
      "\n",
      "       [[            nan,             nan,             nan, ...,\n",
      "                     nan,             nan,             nan],\n",
      "        [            nan,             nan, -1.83889980e+00, ...,\n",
      "          4.16671338e-01,  7.17956843e-01,  8.71294186e-01],\n",
      "        [            nan,             nan, -1.76072908e+00, ...,\n",
      "          3.84709778e-01,  7.46523739e-01,  8.12358508e-01],\n",
      "...\n",
      "        [-1.21485732e+01, -1.18208492e+01, -1.11860744e+01, ...,\n",
      "         -1.67483862e+00, -1.70203222e+00, -1.72071901e+00],\n",
      "        [-9.08332966e+00, -8.91565176e+00, -8.58715385e+00, ...,\n",
      "         -1.75237112e+00, -1.70372115e+00, -1.67667677e+00],\n",
      "        [-4.10126945e+00, -4.08241318e+00, -4.00589381e+00, ...,\n",
      "         -2.08601333e+00, -1.95727928e+00, -1.89673497e+00]],\n",
      "\n",
      "       [[            nan,             nan,             nan, ...,\n",
      "                     nan,             nan,             nan],\n",
      "        [            nan,             nan,  1.24271013e+00, ...,\n",
      "          4.65185472e+00,  4.90316738e+00,  4.86369003e+00],\n",
      "        [            nan,             nan,  1.22897635e+00, ...,\n",
      "          4.56868671e+00,  4.50043714e+00,  4.29967231e+00],\n",
      "        ...,\n",
      "        [-2.48123922e+00, -2.43613625e+00, -2.43392234e+00, ...,\n",
      "          5.39839263e+00,  5.44380096e+00,  5.45842569e+00],\n",
      "        [-1.77600425e+00, -1.84345404e+00, -1.98336976e+00, ...,\n",
      "          6.46304433e+00,  6.63637186e+00,  6.73405836e+00],\n",
      "        [-7.67288080e-01, -9.03455476e-01, -1.14602039e+00, ...,\n",
      "          7.40721643e+00,  7.51022914e+00,  7.56875994e+00]]])\n",
      "Coordinates:\n",
      "  * plev     (plev) float64 1e+05 9.25e+04 8.5e+04 7e+04 ... 3e+03 2e+03 1e+03\n",
      "  * lat      (lat) float64 -88.75 -86.25 -83.75 -81.25 ... 83.75 86.25 88.75\n",
      "  * time     (time) object 1950-01-16 12:00:00 ... 2022-12-16 12:00:00\n",
      "<xarray.DataArray 'pseudo_pcs' (time: 876, mode: 1)>\n",
      "array([[  5464.70262735],\n",
      "       [  3919.30827172],\n",
      "       [  4553.19343578],\n",
      "       [  4147.7720669 ],\n",
      "       [  4239.2574914 ],\n",
      "       [  5523.20833012],\n",
      "       [  4974.13943416],\n",
      "       [  5904.50399685],\n",
      "       [  4530.1057608 ],\n",
      "       [  4591.38202951],\n",
      "       [  4872.59510022],\n",
      "       [  4177.42407074],\n",
      "       [  4456.17329918],\n",
      "       [  4579.43030308],\n",
      "       [  5796.79943015],\n",
      "       [  3819.75961456],\n",
      "       [  4474.94819454],\n",
      "       [  4353.78727087],\n",
      "       [  4871.84731901],\n",
      "       [  2316.81299125],\n",
      "...\n",
      "       [-14047.39653304],\n",
      "       [-13274.19543451],\n",
      "       [-12485.53533503],\n",
      "       [-11333.80119506],\n",
      "       [-10388.22426309],\n",
      "       [-10367.95300856],\n",
      "       [ -9579.07027678],\n",
      "       [ -8836.8677466 ],\n",
      "       [ -8493.79339562],\n",
      "       [ -7486.23622798],\n",
      "       [ -5434.991752  ],\n",
      "       [ -6288.6240209 ],\n",
      "       [ -5654.28335403],\n",
      "       [ -5815.08983857],\n",
      "       [ -6658.03430319],\n",
      "       [ -6908.34083198],\n",
      "       [ -7236.337381  ],\n",
      "       [ -7407.61679375],\n",
      "       [ -7623.64978311],\n",
      "       [ -8163.09245574]])\n",
      "Coordinates:\n",
      "  * time     (time) object 1950-01-16 12:00:00 ... 2022-12-16 12:00:00\n",
      "  * mode     (mode) int64 0\n",
      "Attributes:\n",
      "    long_name:  ta_pseudo_pcs\n",
      "<xarray.DataArray 'pseudo_pcs' (time: 876)>\n",
      "array([  5464.70262735,   3919.30827172,   4553.19343578,   4147.7720669 ,\n",
      "         4239.2574914 ,   5523.20833012,   4974.13943416,   5904.50399685,\n",
      "         4530.1057608 ,   4591.38202951,   4872.59510022,   4177.42407074,\n",
      "         4456.17329918,   4579.43030308,   5796.79943015,   3819.75961456,\n",
      "         4474.94819454,   4353.78727087,   4871.84731901,   2316.81299125,\n",
      "         2569.90081554,   1635.59853784,   1531.71124379,    690.2188493 ,\n",
      "         1902.11775798,  -2409.99597487,  -1224.89723937,   1141.89850174,\n",
      "          281.21747114,   1591.46416093,   3437.27840119,   3324.43101911,\n",
      "         4623.6132253 ,   3612.33578985,   4058.77624084,   4133.06048291,\n",
      "         3625.04050624,   3178.60200138,   6564.40214153,   7422.82251971,\n",
      "         5708.60241845,   4284.76281021,   5450.87324134,   6589.10097939,\n",
      "         5714.91928567,   5635.1678877 ,   5505.35296986,   4429.44025591,\n",
      "         2350.54472217,   2961.86082972,   3246.94134395,   4581.16319181,\n",
      "         2943.7115875 ,   4622.06783284,   4202.44783355,   3346.11143943,\n",
      "         3014.06776268,   2846.94181236,   2908.28209456,   2908.85649123,\n",
      "         2339.34123016,   3996.38907568,   2485.05803619,   3023.60862841,\n",
      "         4088.45434491,   3602.55602425,   1327.72658209,   2117.37022211,\n",
      "         2548.72575086,   2188.39815894,   3280.497283  ,   5015.57383133,\n",
      "         4594.81616176,   5460.41252422,   5709.71442724,   4985.79392798,\n",
      "         5057.24746374,   5656.24297059,   4970.1381167 ,   6005.62061468,\n",
      "...\n",
      "        -7185.41243821,  -7113.40254223,  -8409.71313233,  -7747.62752768,\n",
      "        -6736.76007271,  -7355.33487014,  -6413.72284893,  -6364.31117429,\n",
      "        -7021.77812332,  -9126.53013198,  -9138.93200127, -10044.59605401,\n",
      "        -8098.67261167,  -6211.60792222,  -6799.9877777 ,  -8060.37010686,\n",
      "        -7794.24291861,  -5670.19077131,  -7063.7536854 ,  -3998.07764955,\n",
      "        -5392.64359196,  -6333.19980813,  -5063.20133035,  -3766.87411267,\n",
      "        -4014.86761841,  -6315.88288579,  -6478.05993492,  -5193.79063566,\n",
      "        -6296.92585572,  -6387.76507555,  -6045.57386989,  -5379.03760765,\n",
      "        -5115.19563684,  -6167.94507025,  -6754.54814514,  -5850.17254378,\n",
      "        -6266.85372153,  -7279.4948885 ,  -6489.33405897,  -7440.2678586 ,\n",
      "        -7932.30250957,  -7818.12190499,  -7768.62241872,  -8346.29629924,\n",
      "        -8859.36566872,  -7565.44807336,  -8020.20605752, -10117.07049185,\n",
      "        -8725.36657897,  -9875.23208809, -10783.2415877 , -10514.00918232,\n",
      "       -11706.85030781, -10842.02761806, -11120.47680018, -12715.71134278,\n",
      "       -11352.09588092, -16014.40360739, -16642.05361751, -14419.07271655,\n",
      "       -14047.39653304, -13274.19543451, -12485.53533503, -11333.80119506,\n",
      "       -10388.22426309, -10367.95300856,  -9579.07027678,  -8836.8677466 ,\n",
      "        -8493.79339562,  -7486.23622798,  -5434.991752  ,  -6288.6240209 ,\n",
      "        -5654.28335403,  -5815.08983857,  -6658.03430319,  -6908.34083198,\n",
      "        -7236.337381  ,  -7407.61679375,  -7623.64978311,  -8163.09245574])\n",
      "Coordinates:\n",
      "  * time     (time) object 1950-01-16 12:00:00 ... 2022-12-16 12:00:00\n",
      "    mode     int64 0\n",
      "Attributes:\n",
      "    long_name:  ta_pseudo_pcs\n",
      "1072224\n",
      "1E\n",
      "['/Volumes/R1/ForceSMIP//Evaluation-Tier1/Amon/zmta/zmta_mon_1E.195001-202212.nc']\n"
     ]
    },
    {
     "name": "stdout",
     "output_type": "stream",
     "text": [
      "<xarray.DataArray 'ta' (time: 876, plev: 17, lat: 72)>\n",
      "array([[[        nan,         nan,         nan, ...,         nan,\n",
      "                 nan,         nan],\n",
      "        [        nan,         nan,  0.41942232, ..., -2.34005651,\n",
      "         -2.43664698, -2.43033522],\n",
      "        [        nan,         nan, -0.15848722, ..., -2.56934992,\n",
      "         -2.6296602 , -2.8284757 ],\n",
      "        ...,\n",
      "        [ 0.40373368,  0.43534915,  0.48269438, ..., -0.36720776,\n",
      "         -0.34578544, -0.33493012],\n",
      "        [ 0.19180529,  0.20242941,  0.23367746, ...,  0.58154063,\n",
      "          0.60141359,  0.58011353],\n",
      "        [ 1.4189819 ,  1.39718513,  1.36483433, ...,  1.42543837,\n",
      "          1.76249162,  1.97335583]],\n",
      "\n",
      "       [[        nan,         nan,         nan, ...,         nan,\n",
      "                 nan,         nan],\n",
      "        [        nan,         nan, -0.85577044, ..., -0.15889488,\n",
      "          0.38076736,  0.93516486],\n",
      "        [        nan,         nan, -1.56446716, ...,  0.3789844 ,\n",
      "          0.92141706,  1.2850366 ],\n",
      "...\n",
      "        [-7.20041574, -6.84953819, -6.19542994, ...,  0.90595995,\n",
      "          1.02171227,  1.10589589],\n",
      "        [-4.63557559, -4.31295534, -3.82156651, ..., -0.04121462,\n",
      "          0.02167358,  0.05814286],\n",
      "        [ 0.88794078,  0.63020275,  0.28491963, ..., -1.29848088,\n",
      "         -1.21534558, -1.19991347]],\n",
      "\n",
      "       [[        nan,         nan,         nan, ...,         nan,\n",
      "                 nan,         nan],\n",
      "        [        nan,         nan,  3.28943103, ...,  2.82172016,\n",
      "          3.41767823,  3.7671028 ],\n",
      "        [        nan,         nan,  1.75465839, ...,  2.82277767,\n",
      "          3.53305471,  3.88203786],\n",
      "        ...,\n",
      "        [-0.37880793, -0.36466373, -0.37641455, ...,  0.43048733,\n",
      "          0.39355253,  0.35346648],\n",
      "        [-0.41170412, -0.3856172 , -0.36340048, ..., -1.15190176,\n",
      "         -1.1967174 , -1.22368506],\n",
      "        [-0.64922213, -0.63660764, -0.60847844, ..., -3.54333018,\n",
      "         -3.58194245, -3.60387617]]])\n",
      "Coordinates:\n",
      "  * plev     (plev) float64 1e+05 9.25e+04 8.5e+04 7e+04 ... 3e+03 2e+03 1e+03\n",
      "  * lat      (lat) float64 -88.75 -86.25 -83.75 -81.25 ... 83.75 86.25 88.75\n",
      "  * time     (time) object 1950-01-16 12:00:00 ... 2022-12-16 12:00:00\n",
      "<xarray.DataArray 'pseudo_pcs' (time: 876, mode: 1)>\n",
      "array([[ 3.82171751e+03],\n",
      "       [ 4.01181342e+03],\n",
      "       [ 2.04874182e+03],\n",
      "       [ 2.35737320e+03],\n",
      "       [ 2.64126496e+03],\n",
      "       [ 2.05448172e+03],\n",
      "       [ 2.01059539e+03],\n",
      "       [ 2.25911321e+03],\n",
      "       [ 2.98306894e+03],\n",
      "       [ 2.99197214e+03],\n",
      "       [ 2.44629514e+03],\n",
      "       [ 3.57226496e+03],\n",
      "       [ 2.58890274e+03],\n",
      "       [ 2.86179129e+03],\n",
      "       [ 2.48668614e+03],\n",
      "       [ 2.38161983e+03],\n",
      "       [ 3.91388571e+03],\n",
      "       [ 3.14810922e+03],\n",
      "       [ 3.21696207e+03],\n",
      "       [ 3.28930445e+03],\n",
      "...\n",
      "       [-8.05322922e+03],\n",
      "       [-8.01987023e+03],\n",
      "       [-7.77965407e+03],\n",
      "       [-9.79369872e+03],\n",
      "       [-8.40707218e+03],\n",
      "       [-8.06841909e+03],\n",
      "       [-7.13176694e+03],\n",
      "       [-7.89151928e+03],\n",
      "       [-7.90552227e+03],\n",
      "       [-8.55906426e+03],\n",
      "       [-8.69846079e+03],\n",
      "       [-8.20502523e+03],\n",
      "       [-8.31515268e+03],\n",
      "       [-7.43659720e+03],\n",
      "       [-8.62430276e+03],\n",
      "       [-9.25704035e+03],\n",
      "       [-8.41823473e+03],\n",
      "       [-8.65739831e+03],\n",
      "       [-8.66076164e+03],\n",
      "       [-8.77349605e+03]])\n",
      "Coordinates:\n",
      "  * time     (time) object 1950-01-16 12:00:00 ... 2022-12-16 12:00:00\n",
      "  * mode     (mode) int64 0\n",
      "Attributes:\n",
      "    long_name:  ta_pseudo_pcs\n",
      "<xarray.DataArray 'pseudo_pcs' (time: 876)>\n",
      "array([ 3.82171751e+03,  4.01181342e+03,  2.04874182e+03,  2.35737320e+03,\n",
      "        2.64126496e+03,  2.05448172e+03,  2.01059539e+03,  2.25911321e+03,\n",
      "        2.98306894e+03,  2.99197214e+03,  2.44629514e+03,  3.57226496e+03,\n",
      "        2.58890274e+03,  2.86179129e+03,  2.48668614e+03,  2.38161983e+03,\n",
      "        3.91388571e+03,  3.14810922e+03,  3.21696207e+03,  3.28930445e+03,\n",
      "        3.40291210e+03,  3.08814919e+03,  3.08241331e+03,  3.02786379e+03,\n",
      "        1.80892429e+03,  1.24009477e+03,  3.32157225e+03,  2.62631975e+03,\n",
      "        1.70807097e+03,  1.86261147e+03,  2.21573641e+03,  2.42912111e+03,\n",
      "        2.90379503e+03,  2.92062364e+03,  2.77768504e+03,  1.97403759e+03,\n",
      "        8.38432174e+02,  1.82803810e+03, -5.32670931e+02, -2.96989351e+02,\n",
      "        4.32070847e+02,  2.30641988e+02,  1.54742273e+03,  2.51804771e+03,\n",
      "        3.15162192e+03,  4.54965110e+03,  3.90120988e+03,  3.35230704e+03,\n",
      "        1.92821534e+03,  3.67108367e+03,  4.53398102e+03,  4.67059771e+03,\n",
      "        4.37726590e+03,  4.52706122e+03,  5.19537063e+03,  5.65852430e+03,\n",
      "        6.16976868e+03,  5.49602449e+03,  6.49179449e+03,  5.46903648e+03,\n",
      "        6.40821558e+03,  4.88697487e+03,  5.56188133e+03,  5.85463752e+03,\n",
      "        4.15344166e+03,  4.69185206e+03,  4.57554762e+03,  4.23673722e+03,\n",
      "        4.16241191e+03,  2.95883421e+03,  2.51978373e+03,  2.33359348e+03,\n",
      "        3.35985988e+03,  2.95572767e+03,  3.05834552e+03,  1.86292031e+03,\n",
      "        2.08711579e+03,  2.92214606e+03,  2.44908119e+03,  1.98694659e+03,\n",
      "...\n",
      "       -4.54584172e+03, -6.13813669e+03, -5.49402084e+03, -7.04100665e+03,\n",
      "       -7.30786562e+03, -6.57392040e+03, -4.72044678e+03, -4.51308101e+03,\n",
      "       -4.40719028e+03, -5.58151681e+03, -4.42660587e+03, -4.72524898e+03,\n",
      "       -4.99411127e+03, -5.81811681e+03, -6.26693740e+03, -7.22458038e+03,\n",
      "       -6.14655784e+03, -6.21090575e+03, -5.46628522e+03, -5.83909293e+03,\n",
      "       -4.58614084e+03, -5.22749950e+03, -5.66646400e+03, -6.13823826e+03,\n",
      "       -6.32690327e+03, -6.72259924e+03, -8.14615944e+03, -8.38828894e+03,\n",
      "       -9.23892423e+03, -7.61193454e+03, -7.44504860e+03, -7.33077157e+03,\n",
      "       -7.68832747e+03, -7.48126757e+03, -5.74948648e+03, -5.47179484e+03,\n",
      "       -6.29313406e+03, -6.76353649e+03, -8.64776031e+03, -8.17580139e+03,\n",
      "       -7.88024936e+03, -6.70029860e+03, -7.13278967e+03, -8.34103231e+03,\n",
      "       -6.75196830e+03, -6.76382936e+03, -6.18400660e+03, -6.82970758e+03,\n",
      "       -6.11838277e+03, -6.36879313e+03, -7.95266781e+03, -6.86277318e+03,\n",
      "       -6.65499981e+03, -6.99477309e+03, -4.75906253e+03, -6.06994872e+03,\n",
      "       -7.90819649e+03, -7.10889160e+03, -6.80265952e+03, -7.20831691e+03,\n",
      "       -8.05322922e+03, -8.01987023e+03, -7.77965407e+03, -9.79369872e+03,\n",
      "       -8.40707218e+03, -8.06841909e+03, -7.13176694e+03, -7.89151928e+03,\n",
      "       -7.90552227e+03, -8.55906426e+03, -8.69846079e+03, -8.20502523e+03,\n",
      "       -8.31515268e+03, -7.43659720e+03, -8.62430276e+03, -9.25704035e+03,\n",
      "       -8.41823473e+03, -8.65739831e+03, -8.66076164e+03, -8.77349605e+03])\n",
      "Coordinates:\n",
      "  * time     (time) object 1950-01-16 12:00:00 ... 2022-12-16 12:00:00\n",
      "    mode     int64 0\n",
      "Attributes:\n",
      "    long_name:  ta_pseudo_pcs\n",
      "1072224\n",
      "1F\n",
      "['/Volumes/R1/ForceSMIP//Evaluation-Tier1/Amon/zmta/zmta_mon_1F.195001-202212.nc']\n",
      "<xarray.DataArray 'ta' (time: 876, plev: 17, lat: 72)>\n",
      "array([[[         nan,          nan,          nan, ...,          nan,\n",
      "                  nan,          nan],\n",
      "        [         nan,          nan,   2.04936195, ...,   3.84806269,\n",
      "           5.15450262,   5.73594335],\n",
      "        [         nan,          nan,   2.13947835, ...,   3.57052776,\n",
      "           4.3441243 ,   4.41028292],\n",
      "        ...,\n",
      "        [ -0.72341257,  -0.66762087,  -0.56314994, ...,   4.22739195,\n",
      "           3.75039419,   3.41932176],\n",
      "        [ -0.2236912 ,  -0.17856835,  -0.08649133, ...,   5.04661436,\n",
      "           4.80520837,   4.60017225],\n",
      "        [  1.0368668 ,   1.05953309,   1.10323922, ...,   6.72291408,\n",
      "           7.62748121,   8.20831923]],\n",
      "\n",
      "       [[         nan,          nan,          nan, ...,          nan,\n",
      "                  nan,          nan],\n",
      "        [         nan,          nan,  -0.77756698, ...,  -4.36829116,\n",
      "          -5.48232899,  -5.90869901],\n",
      "        [         nan,          nan,  -0.68484432, ...,  -3.84855538,\n",
      "          -4.36152776,  -4.74881925],\n",
      "...\n",
      "        [ -4.34174277,  -4.31176252,  -4.21238092, ...,  -8.19628722,\n",
      "          -8.2475665 ,  -8.24797465],\n",
      "        [ -5.98235395,  -5.8614226 ,  -5.57968722, ...,  -9.31409505,\n",
      "          -9.4074823 ,  -9.43291135],\n",
      "        [ -8.84825774,  -8.46750603,  -7.66140499, ..., -11.07720918,\n",
      "         -11.34646494, -11.49503403]],\n",
      "\n",
      "       [[         nan,          nan,          nan, ...,          nan,\n",
      "                  nan,          nan],\n",
      "        [         nan,          nan,   0.90052206, ...,   2.59762488,\n",
      "           2.63534666,   2.47254884],\n",
      "        [         nan,          nan,   0.77626707, ...,   2.84601203,\n",
      "           2.84653628,   2.92512547],\n",
      "        ...,\n",
      "        [ -2.51386781,  -2.60850771,  -2.69936352, ...,   3.38137699,\n",
      "           2.8099532 ,   2.38314643],\n",
      "        [ -2.36487369,  -2.48607804,  -2.68926861, ...,   5.61947772,\n",
      "           5.64195576,   5.72993205],\n",
      "        [ -1.58264485,  -1.70521224,  -1.92221956, ...,   7.83417654,\n",
      "           8.72433421,   9.45648078]]])\n",
      "Coordinates:\n",
      "  * plev     (plev) float32 1e+05 9.25e+04 8.5e+04 7e+04 ... 3e+03 2e+03 1e+03\n",
      "  * lat      (lat) float64 -88.75 -86.25 -83.75 -81.25 ... 83.75 86.25 88.75\n",
      "  * time     (time) object 1950-01-16 12:00:00 ... 2022-12-16 12:00:00\n",
      "<xarray.DataArray 'pseudo_pcs' (time: 876, mode: 1)>\n",
      "array([[ 1.38035834e+03],\n",
      "       [ 1.56859492e+03],\n",
      "       [ 3.54149391e+03],\n",
      "       [ 4.64826980e+03],\n",
      "       [ 4.49446181e+03],\n",
      "       [ 3.37183699e+03],\n",
      "       [ 3.80097931e+03],\n",
      "       [ 2.73797776e+03],\n",
      "       [ 2.80614227e+03],\n",
      "       [ 3.01994686e+03],\n",
      "       [ 3.86041321e+03],\n",
      "       [ 5.11990985e+03],\n",
      "       [ 5.49976116e+03],\n",
      "       [ 6.21785475e+03],\n",
      "       [ 7.18303360e+03],\n",
      "       [ 6.65463750e+03],\n",
      "       [ 7.15396627e+03],\n",
      "       [ 6.74544166e+03],\n",
      "       [ 5.58127670e+03],\n",
      "       [ 4.85257001e+03],\n",
      "...\n",
      "       [-5.70392132e+03],\n",
      "       [-4.43792155e+03],\n",
      "       [-3.88389646e+03],\n",
      "       [-5.23350571e+03],\n",
      "       [-7.02340768e+03],\n",
      "       [-6.03048810e+03],\n",
      "       [-6.61039186e+03],\n",
      "       [-4.46990896e+03],\n",
      "       [-6.05943009e+03],\n",
      "       [-7.01499380e+03],\n",
      "       [-6.91181098e+03],\n",
      "       [-7.51255020e+03],\n",
      "       [-8.06219071e+03],\n",
      "       [-8.42196839e+03],\n",
      "       [-8.00779154e+03],\n",
      "       [-9.47421460e+03],\n",
      "       [-9.65656715e+03],\n",
      "       [-9.30087848e+03],\n",
      "       [-9.92307226e+03],\n",
      "       [-1.15000392e+04]])\n",
      "Coordinates:\n",
      "  * time     (time) object 1950-01-16 12:00:00 ... 2022-12-16 12:00:00\n",
      "  * mode     (mode) int64 0\n",
      "Attributes:\n",
      "    long_name:  ta_pseudo_pcs\n",
      "<xarray.DataArray 'pseudo_pcs' (time: 876)>\n",
      "array([ 1.38035834e+03,  1.56859492e+03,  3.54149391e+03,  4.64826980e+03,\n",
      "        4.49446181e+03,  3.37183699e+03,  3.80097931e+03,  2.73797776e+03,\n",
      "        2.80614227e+03,  3.01994686e+03,  3.86041321e+03,  5.11990985e+03,\n",
      "        5.49976116e+03,  6.21785475e+03,  7.18303360e+03,  6.65463750e+03,\n",
      "        7.15396627e+03,  6.74544166e+03,  5.58127670e+03,  4.85257001e+03,\n",
      "        5.22298536e+03,  4.61631598e+03,  4.65779090e+03,  5.43964968e+03,\n",
      "        5.81325545e+03,  6.16985402e+03,  4.67368162e+03,  6.47047428e+03,\n",
      "        5.13139652e+03,  5.69401187e+03,  4.12665311e+03,  3.22536582e+03,\n",
      "        3.92208692e+03,  3.34771650e+03,  4.12505577e+03,  2.47924119e+03,\n",
      "        2.20347767e+03,  3.23485434e+03,  7.74723655e+02,  3.31198417e+02,\n",
      "        8.06909961e+02,  1.19653150e+03,  1.47461060e+03,  2.25458186e+03,\n",
      "        1.24660200e+03,  1.12864112e+03,  1.22347049e+03,  1.70130900e+02,\n",
      "        7.73926232e+02, -7.86560968e+02, -6.66027006e+02,  1.08399796e+02,\n",
      "       -5.20749468e+02,  1.01935832e+03,  5.08375917e+01,  1.40394477e+03,\n",
      "        1.86369609e+03,  1.59494430e+03,  1.25948211e+03,  2.29075219e+03,\n",
      "        2.61437877e+03,  9.55684865e+02, -9.53266513e+02,  8.72016267e+02,\n",
      "        3.87677346e+02, -4.88871318e+02,  1.30065001e+03,  2.38907033e+03,\n",
      "        2.30273046e+03,  2.19883297e+03,  2.46255190e+03,  7.18966760e+02,\n",
      "        1.90858937e+03,  9.44113976e+02,  1.94489352e+03,  3.68448416e+03,\n",
      "        4.64084437e+03,  5.17646693e+03,  6.25458372e+03,  5.07155310e+03,\n",
      "...\n",
      "       -6.85039643e+03, -8.20103603e+03, -5.97309736e+03, -5.41694513e+03,\n",
      "       -5.84678140e+03, -5.89891069e+03, -6.80489680e+03, -6.23579539e+03,\n",
      "       -5.44869022e+03, -5.68374884e+03, -6.41826902e+03, -8.41807542e+03,\n",
      "       -7.07721201e+03, -7.11620561e+03, -8.11355795e+03, -7.93229157e+03,\n",
      "       -5.86892258e+03, -6.27559395e+03, -7.06964167e+03, -5.30624602e+03,\n",
      "       -7.10008960e+03, -8.16298530e+03, -6.64003360e+03, -8.53684265e+03,\n",
      "       -8.55700268e+03, -8.57024657e+03, -9.54172168e+03, -8.95291303e+03,\n",
      "       -7.19174658e+03, -6.74232117e+03, -7.46955001e+03, -6.86258775e+03,\n",
      "       -8.81379053e+03, -1.03862184e+04, -8.88680821e+03, -8.61768581e+03,\n",
      "       -8.54289718e+03, -8.50393666e+03, -8.30333096e+03, -7.95921870e+03,\n",
      "       -6.25027024e+03, -5.71231253e+03, -5.35988205e+03, -4.72969963e+03,\n",
      "       -4.79442463e+03, -6.47610787e+03, -6.68403807e+03, -5.12578166e+03,\n",
      "       -6.12333547e+03, -6.23969470e+03, -4.16152985e+03, -4.45576220e+03,\n",
      "       -6.40896046e+03, -5.51588557e+03, -4.54323548e+03, -3.04398380e+03,\n",
      "       -5.01046549e+03, -3.23906829e+03, -3.91961675e+03, -3.75272868e+03,\n",
      "       -5.70392132e+03, -4.43792155e+03, -3.88389646e+03, -5.23350571e+03,\n",
      "       -7.02340768e+03, -6.03048810e+03, -6.61039186e+03, -4.46990896e+03,\n",
      "       -6.05943009e+03, -7.01499380e+03, -6.91181098e+03, -7.51255020e+03,\n",
      "       -8.06219071e+03, -8.42196839e+03, -8.00779154e+03, -9.47421460e+03,\n",
      "       -9.65656715e+03, -9.30087848e+03, -9.92307226e+03, -1.15000392e+04])\n",
      "Coordinates:\n",
      "  * time     (time) object 1950-01-16 12:00:00 ... 2022-12-16 12:00:00\n",
      "    mode     int64 0\n",
      "Attributes:\n",
      "    long_name:  ta_pseudo_pcs\n",
      "1072224\n",
      "1G\n",
      "['/Volumes/R1/ForceSMIP//Evaluation-Tier1/Amon/zmta/zmta_mon_1G.195001-202212.nc']\n"
     ]
    },
    {
     "name": "stdout",
     "output_type": "stream",
     "text": [
      "<xarray.DataArray 'ta' (time: 876, plev: 17, lat: 72)>\n",
      "array([[[         nan,          nan,          nan, ...,          nan,\n",
      "                  nan,          nan],\n",
      "        [         nan,          nan,  -0.76940559, ...,   0.86989234,\n",
      "           1.07200797,   1.29186048],\n",
      "        [         nan,          nan,  -0.83704763, ...,   0.63692104,\n",
      "           0.77555383,   0.91920121],\n",
      "        ...,\n",
      "        [  0.88091694,   0.89902586,   0.92230955, ...,  14.64194888,\n",
      "          15.15098574,  15.45432603],\n",
      "        [  0.58503784,   0.60443058,   0.64302565, ...,  13.44416956,\n",
      "          13.90841841,  14.20010729],\n",
      "        [  1.32617142,   1.33044871,   1.35189025, ...,   8.02137976,\n",
      "           8.39355236,   8.6106549 ]],\n",
      "\n",
      "       [[         nan,          nan,          nan, ...,          nan,\n",
      "                  nan,          nan],\n",
      "        [         nan,          nan,  -0.2928603 , ...,  -2.5883451 ,\n",
      "          -2.18312392,  -1.97670588],\n",
      "        [         nan,          nan,  -0.09674317, ...,  -2.64438067,\n",
      "          -2.04937266,  -1.7499182 ],\n",
      "...\n",
      "        [ -7.82281755,  -7.67496434,  -7.36017497, ...,   5.12244912,\n",
      "           5.58050614,   5.84155236],\n",
      "        [ -5.14418059,  -5.03752577,  -4.82387922, ...,   3.5637877 ,\n",
      "           3.87673317,   4.02402769],\n",
      "        [ -1.34907893,  -1.40993823,  -1.46692414, ...,  -0.8374292 ,\n",
      "          -0.79606932,  -0.7906462 ]],\n",
      "\n",
      "       [[         nan,          nan,          nan, ...,          nan,\n",
      "                  nan,          nan],\n",
      "        [         nan,          nan,  -0.92379405, ...,   0.33440333,\n",
      "          -0.57457244,  -1.23475293],\n",
      "        [         nan,          nan,  -0.62992877, ...,   0.15996634,\n",
      "          -0.56891258,  -1.03299727],\n",
      "        ...,\n",
      "        [ -2.85845705,  -2.72105529,  -2.49255395, ...,  -3.88688584,\n",
      "          -3.79114317,  -3.75521963],\n",
      "        [ -0.88435738,  -0.85181189,  -0.79590098, ...,  -5.70529659,\n",
      "          -5.65986152,  -5.66445637],\n",
      "        [  0.26679162,   0.26091746,   0.24236365, ...,  -7.69947626,\n",
      "          -7.81872461,  -7.88130277]]])\n",
      "Coordinates:\n",
      "  * plev     (plev) float32 1e+05 9.25e+04 8.5e+04 7e+04 ... 3e+03 2e+03 1e+03\n",
      "  * lat      (lat) float64 -88.75 -86.25 -83.75 -81.25 ... 83.75 86.25 88.75\n",
      "  * time     (time) object 1950-01-16 12:00:00 ... 2022-12-16 12:00:00\n",
      "<xarray.DataArray 'pseudo_pcs' (time: 876, mode: 1)>\n",
      "array([[ 3.92378361e+03],\n",
      "       [ 4.68879598e+03],\n",
      "       [ 6.39903721e+03],\n",
      "       [ 5.95547107e+03],\n",
      "       [ 4.34559965e+03],\n",
      "       [ 4.57476458e+03],\n",
      "       [ 4.54273371e+03],\n",
      "       [ 5.04907689e+03],\n",
      "       [ 5.42895344e+03],\n",
      "       [ 5.59827241e+03],\n",
      "       [ 4.90427980e+03],\n",
      "       [ 4.85413023e+03],\n",
      "       [ 4.03457993e+03],\n",
      "       [ 5.48460658e+03],\n",
      "       [ 3.27175615e+03],\n",
      "       [ 4.57126239e+03],\n",
      "       [ 5.94389203e+03],\n",
      "       [ 7.04338200e+03],\n",
      "       [ 6.01411626e+03],\n",
      "       [ 5.40347934e+03],\n",
      "...\n",
      "       [-5.98311123e+03],\n",
      "       [-6.48721861e+03],\n",
      "       [-7.36718753e+03],\n",
      "       [-7.69696571e+03],\n",
      "       [-8.66316129e+03],\n",
      "       [-9.40138051e+03],\n",
      "       [-1.06018792e+04],\n",
      "       [-1.00051704e+04],\n",
      "       [-8.90780762e+03],\n",
      "       [-9.02189902e+03],\n",
      "       [-8.95312951e+03],\n",
      "       [-8.95774523e+03],\n",
      "       [-8.33034311e+03],\n",
      "       [-8.29323586e+03],\n",
      "       [-9.09568275e+03],\n",
      "       [-8.13073439e+03],\n",
      "       [-7.43166593e+03],\n",
      "       [-6.97002474e+03],\n",
      "       [-5.37914268e+03],\n",
      "       [-6.18875835e+03]])\n",
      "Coordinates:\n",
      "  * time     (time) object 1950-01-16 12:00:00 ... 2022-12-16 12:00:00\n",
      "  * mode     (mode) int64 0\n",
      "Attributes:\n",
      "    long_name:  ta_pseudo_pcs\n",
      "<xarray.DataArray 'pseudo_pcs' (time: 876)>\n",
      "array([ 3.92378361e+03,  4.68879598e+03,  6.39903721e+03,  5.95547107e+03,\n",
      "        4.34559965e+03,  4.57476458e+03,  4.54273371e+03,  5.04907689e+03,\n",
      "        5.42895344e+03,  5.59827241e+03,  4.90427980e+03,  4.85413023e+03,\n",
      "        4.03457993e+03,  5.48460658e+03,  3.27175615e+03,  4.57126239e+03,\n",
      "        5.94389203e+03,  7.04338200e+03,  6.01411626e+03,  5.40347934e+03,\n",
      "        5.33959563e+03,  6.62310881e+03,  6.58353158e+03,  5.66483029e+03,\n",
      "        5.74591525e+03,  5.30859641e+03,  6.41439055e+03,  6.66891914e+03,\n",
      "        6.93408287e+03,  6.66195968e+03,  7.40775600e+03,  7.23393248e+03,\n",
      "        6.87249659e+03,  8.47796881e+03,  6.47317845e+03,  6.77893526e+03,\n",
      "        6.26068704e+03,  5.84651509e+03,  4.97531062e+03,  4.46732633e+03,\n",
      "        3.97227746e+03,  3.20499668e+03,  4.00238554e+03,  3.58489480e+03,\n",
      "        3.51428398e+03,  3.62095004e+03,  2.07418535e+03,  3.01811244e+03,\n",
      "        2.85597460e+03,  4.17141051e+03,  3.30137148e+03,  8.76580874e+02,\n",
      "        1.34885081e+03,  1.80349312e+03,  2.25202078e+03,  2.17655502e+03,\n",
      "        7.06754541e+02,  3.75293599e+02, -7.02796185e+02,  6.14262747e+02,\n",
      "        1.05724408e+03,  3.18812359e+03,  2.68006784e+03,  3.41748928e+03,\n",
      "        3.92080741e+03,  3.35284862e+03,  4.13061779e+03,  4.53647906e+03,\n",
      "        4.96415084e+03,  4.85339213e+03,  6.03083555e+03,  6.19263407e+03,\n",
      "        4.79197152e+03,  3.82100508e+03,  3.57874225e+03,  1.15355522e+03,\n",
      "        2.18834990e+03,  2.61710618e+03,  2.41284846e+03,  2.29248117e+03,\n",
      "...\n",
      "       -7.38050805e+03, -4.58119688e+03, -5.33961741e+03, -5.36913571e+03,\n",
      "       -6.18713063e+03, -7.22550221e+03, -6.59344362e+03, -7.53933481e+03,\n",
      "       -9.02454712e+03, -9.05933903e+03, -9.73491697e+03, -9.37985161e+03,\n",
      "       -8.22031456e+03, -8.73539633e+03, -8.11667756e+03, -7.86478930e+03,\n",
      "       -7.83900481e+03, -7.32759917e+03, -7.90805389e+03, -7.11340284e+03,\n",
      "       -6.67059581e+03, -6.34328131e+03, -6.59850227e+03, -6.82424922e+03,\n",
      "       -7.79949062e+03, -8.65629412e+03, -7.59254649e+03, -7.56017778e+03,\n",
      "       -7.54701224e+03, -7.91066592e+03, -7.32636556e+03, -7.69897421e+03,\n",
      "       -7.13988857e+03, -6.35281230e+03, -7.23422756e+03, -7.40622897e+03,\n",
      "       -7.17985738e+03, -5.63958774e+03, -5.32429512e+03, -6.94453765e+03,\n",
      "       -7.61035160e+03, -7.51755443e+03, -7.67366568e+03, -7.39957237e+03,\n",
      "       -7.04839416e+03, -5.54185108e+03, -6.13135470e+03, -5.58436517e+03,\n",
      "       -5.50341162e+03, -4.84911159e+03, -5.25727636e+03, -5.35874203e+03,\n",
      "       -6.23553247e+03, -5.20554365e+03, -5.27400652e+03, -4.12780609e+03,\n",
      "       -4.26342832e+03, -5.10019251e+03, -5.17943691e+03, -6.13496779e+03,\n",
      "       -5.98311123e+03, -6.48721861e+03, -7.36718753e+03, -7.69696571e+03,\n",
      "       -8.66316129e+03, -9.40138051e+03, -1.06018792e+04, -1.00051704e+04,\n",
      "       -8.90780762e+03, -9.02189902e+03, -8.95312951e+03, -8.95774523e+03,\n",
      "       -8.33034311e+03, -8.29323586e+03, -9.09568275e+03, -8.13073439e+03,\n",
      "       -7.43166593e+03, -6.97002474e+03, -5.37914268e+03, -6.18875835e+03])\n",
      "Coordinates:\n",
      "  * time     (time) object 1950-01-16 12:00:00 ... 2022-12-16 12:00:00\n",
      "    mode     int64 0\n",
      "Attributes:\n",
      "    long_name:  ta_pseudo_pcs\n",
      "1072224\n",
      "1H\n",
      "['/Volumes/R1/ForceSMIP//Evaluation-Tier1/Amon/zmta/zmta_mon_1H.195001-202212.nc']\n",
      "<xarray.DataArray 'ta' (time: 876, plev: 17, lat: 72)>\n",
      "array([[[            nan,             nan,             nan, ...,\n",
      "                     nan,             nan,             nan],\n",
      "        [            nan,             nan,  4.76260499e-01, ...,\n",
      "         -5.96344810e-01, -7.49704705e-01, -8.67636467e-01],\n",
      "        [            nan,             nan,  1.24617766e-01, ...,\n",
      "         -1.46096982e+00, -1.54494797e+00, -1.52132542e+00],\n",
      "        ...,\n",
      "        [-5.89341124e-02, -3.54740147e-02,  1.38671493e-02, ...,\n",
      "          1.58702762e+00,  1.69947233e+00,  1.74862769e+00],\n",
      "        [-4.15145284e-01, -3.77396586e-01, -3.00024607e-01, ...,\n",
      "         -6.00189232e-01, -4.36648197e-01, -3.30923263e-01],\n",
      "        [ 1.00187802e+00,  1.01180024e+00,  1.03216487e+00, ...,\n",
      "         -4.50102970e+00, -4.21991357e+00, -4.06587528e+00]],\n",
      "\n",
      "       [[            nan,             nan,             nan, ...,\n",
      "                     nan,             nan,             nan],\n",
      "        [            nan,             nan, -1.40537124e+00, ...,\n",
      "         -4.73378629e+00, -4.66312452e+00, -4.52030368e+00],\n",
      "        [            nan,             nan, -1.27516827e+00, ...,\n",
      "         -4.32510679e+00, -4.26917450e+00, -4.21720004e+00],\n",
      "...\n",
      "        [-5.09047623e+00, -4.98278412e+00, -4.82873448e+00, ...,\n",
      "         -2.48486614e+00, -2.53016936e+00, -2.53132836e+00],\n",
      "        [-5.54875352e+00, -5.55675867e+00, -5.49659807e+00, ...,\n",
      "         -2.06658834e+00, -2.10791493e+00, -2.09030194e+00],\n",
      "        [-4.73536497e+00, -4.71271478e+00, -4.59101066e+00, ...,\n",
      "         -1.10084334e+00, -1.09319145e+00, -1.08153443e+00]],\n",
      "\n",
      "       [[            nan,             nan,             nan, ...,\n",
      "                     nan,             nan,             nan],\n",
      "        [            nan,             nan,  7.42515009e-01, ...,\n",
      "          1.14066003e+00,  6.30743482e-01,  4.14306015e-01],\n",
      "        [            nan,             nan,  6.29781295e-01, ...,\n",
      "          5.58440351e-01,  2.67258425e-01, -9.52908794e-02],\n",
      "        ...,\n",
      "        [-2.38159578e+00, -2.36377619e+00, -2.35290903e+00, ...,\n",
      "          8.51789513e+00,  8.60149886e+00,  8.59507101e+00],\n",
      "        [-2.06647642e+00, -2.04107926e+00, -2.04704356e+00, ...,\n",
      "          1.13169754e+01,  1.14575633e+01,  1.15077591e+01],\n",
      "        [-2.28166175e+00, -2.29146151e+00, -2.30091743e+00, ...,\n",
      "          1.47738066e+01,  1.50295398e+01,  1.51623245e+01]]])\n",
      "Coordinates:\n",
      "  * plev     (plev) float64 1e+05 9.25e+04 8.5e+04 7e+04 ... 3e+03 2e+03 1e+03\n",
      "  * lat      (lat) float64 -88.75 -86.25 -83.75 -81.25 ... 83.75 86.25 88.75\n",
      "  * time     (time) object 1950-01-16 12:00:00 ... 2022-12-16 12:00:00\n",
      "<xarray.DataArray 'pseudo_pcs' (time: 876, mode: 1)>\n",
      "array([[ 3.64291861e+03],\n",
      "       [ 3.99459680e+03],\n",
      "       [ 3.23001398e+03],\n",
      "       [ 3.29290336e+03],\n",
      "       [ 3.71827971e+03],\n",
      "       [ 3.64439049e+03],\n",
      "       [ 3.69874910e+03],\n",
      "       [ 4.26096391e+03],\n",
      "       [ 3.57842496e+03],\n",
      "       [ 4.72822006e+03],\n",
      "       [ 5.08984277e+03],\n",
      "       [ 5.16292000e+03],\n",
      "       [ 3.50705216e+03],\n",
      "       [ 3.22063540e+03],\n",
      "       [ 3.80923951e+03],\n",
      "       [ 4.97334585e+03],\n",
      "       [ 4.96964360e+03],\n",
      "       [ 5.62816492e+03],\n",
      "       [ 5.37635834e+03],\n",
      "       [ 3.71599175e+03],\n",
      "...\n",
      "       [-4.22172940e+03],\n",
      "       [-6.46273446e+03],\n",
      "       [-5.88783570e+03],\n",
      "       [-4.62453930e+03],\n",
      "       [-5.04175584e+03],\n",
      "       [-5.27692984e+03],\n",
      "       [-4.45503710e+03],\n",
      "       [-3.53718180e+03],\n",
      "       [-4.58335795e+03],\n",
      "       [-4.50938193e+03],\n",
      "       [-3.20707084e+03],\n",
      "       [-3.31450484e+03],\n",
      "       [-5.07202172e+03],\n",
      "       [-4.75791630e+03],\n",
      "       [-5.09549110e+03],\n",
      "       [-5.79368745e+03],\n",
      "       [-5.08923706e+03],\n",
      "       [-5.61724129e+03],\n",
      "       [-6.09354080e+03],\n",
      "       [-4.44942919e+03]])\n",
      "Coordinates:\n",
      "  * time     (time) object 1950-01-16 12:00:00 ... 2022-12-16 12:00:00\n",
      "  * mode     (mode) int64 0\n",
      "Attributes:\n",
      "    long_name:  ta_pseudo_pcs\n",
      "<xarray.DataArray 'pseudo_pcs' (time: 876)>\n",
      "array([ 3.64291861e+03,  3.99459680e+03,  3.23001398e+03,  3.29290336e+03,\n",
      "        3.71827971e+03,  3.64439049e+03,  3.69874910e+03,  4.26096391e+03,\n",
      "        3.57842496e+03,  4.72822006e+03,  5.08984277e+03,  5.16292000e+03,\n",
      "        3.50705216e+03,  3.22063540e+03,  3.80923951e+03,  4.97334585e+03,\n",
      "        4.96964360e+03,  5.62816492e+03,  5.37635834e+03,  3.71599175e+03,\n",
      "        4.01755480e+03,  5.19307336e+03,  3.59172105e+03,  4.76180903e+03,\n",
      "        4.13703859e+03,  2.93664595e+03,  4.20816602e+03,  3.87774036e+03,\n",
      "        2.61568539e+03,  4.00749272e+03,  4.14271058e+03,  2.99689246e+03,\n",
      "        3.46972346e+03,  3.19183824e+03,  3.96643949e+03,  4.92947468e+03,\n",
      "        2.54254586e+03,  2.23440564e+03,  1.44969603e+03,  1.65241513e+03,\n",
      "        1.57759598e+03,  9.88786927e+02,  1.20950079e+03,  4.47671339e+02,\n",
      "       -1.16391790e+02, -3.20724076e+02,  8.68703896e+02, -1.13749097e+03,\n",
      "       -4.36249039e+03, -4.51500564e+03, -6.22304260e+03, -5.94167645e+03,\n",
      "       -5.47694193e+03, -3.33770253e+03, -2.51265822e+03, -1.69113891e+03,\n",
      "       -1.44208690e+03, -2.86384277e+02, -2.94845816e+02,  3.15188320e+02,\n",
      "        1.22772654e+03,  1.46497904e+03,  2.07284452e+03,  2.43685187e+03,\n",
      "        2.50086894e+03,  3.60503449e+03,  3.16331285e+03,  3.34748781e+03,\n",
      "        2.70913519e+03,  2.81649682e+03,  3.46064146e+03,  4.04594713e+03,\n",
      "        2.68446625e+03,  5.35636262e+03,  4.14979133e+03,  3.59733296e+03,\n",
      "        3.52217347e+03,  4.56093335e+03,  4.50918043e+03,  3.49894619e+03,\n",
      "...\n",
      "       -3.58452482e+03, -5.14840309e+03, -5.93798462e+03, -6.02135032e+03,\n",
      "       -5.18753054e+03, -4.87836527e+03, -5.58050283e+03, -4.72340000e+03,\n",
      "       -6.61885222e+03, -4.88362965e+03, -6.29952677e+03, -6.69286046e+03,\n",
      "       -6.52469351e+03, -8.19048162e+03, -8.05083237e+03, -7.64525818e+03,\n",
      "       -6.94699585e+03, -6.24412076e+03, -7.51705186e+03, -7.35949609e+03,\n",
      "       -8.06512637e+03, -7.31514651e+03, -7.47747269e+03, -1.00903629e+04,\n",
      "       -9.33354058e+03, -9.47775328e+03, -8.03032860e+03, -6.50477094e+03,\n",
      "       -5.51710104e+03, -5.42193803e+03, -5.57722917e+03, -4.30249306e+03,\n",
      "       -5.22945606e+03, -6.05626349e+03, -3.78414448e+03, -4.68893571e+03,\n",
      "       -4.60358809e+03, -3.83196233e+03, -3.65297870e+03, -3.87544016e+03,\n",
      "       -4.22384990e+03, -3.64039042e+03, -2.37145893e+03, -1.68164412e+03,\n",
      "       -2.26138508e+03, -3.25312857e+03, -1.16249464e+03, -3.64764949e+02,\n",
      "       -1.68845204e+03, -1.33558394e+03, -2.00036723e+03, -3.23132166e+03,\n",
      "       -2.72581186e+03, -3.13228837e+03, -3.88152999e+03, -5.14675128e+03,\n",
      "       -6.55724260e+03, -3.86300268e+03, -3.70328827e+03, -4.12739287e+03,\n",
      "       -4.22172940e+03, -6.46273446e+03, -5.88783570e+03, -4.62453930e+03,\n",
      "       -5.04175584e+03, -5.27692984e+03, -4.45503710e+03, -3.53718180e+03,\n",
      "       -4.58335795e+03, -4.50938193e+03, -3.20707084e+03, -3.31450484e+03,\n",
      "       -5.07202172e+03, -4.75791630e+03, -5.09549110e+03, -5.79368745e+03,\n",
      "       -5.08923706e+03, -5.61724129e+03, -6.09354080e+03, -4.44942919e+03])\n",
      "Coordinates:\n",
      "  * time     (time) object 1950-01-16 12:00:00 ... 2022-12-16 12:00:00\n",
      "    mode     int64 0\n",
      "Attributes:\n",
      "    long_name:  ta_pseudo_pcs\n",
      "1072224\n",
      "1I\n",
      "['/Volumes/R1/ForceSMIP//Evaluation-Tier1/Amon/zmta/zmta_mon_1I.195001-202212.nc']\n"
     ]
    },
    {
     "name": "stdout",
     "output_type": "stream",
     "text": [
      "<xarray.DataArray 'ta' (time: 876, plev: 17, lat: 72)>\n",
      "array([[[            nan,             nan,             nan, ...,\n",
      "                     nan,             nan,             nan],\n",
      "        [            nan,             nan, -5.57744456e-01, ...,\n",
      "         -1.37503447e+00, -1.74358331e+00, -2.06888404e+00],\n",
      "        [            nan,             nan, -4.05868493e-01, ...,\n",
      "         -6.27898690e-01, -7.93865441e-01, -8.20337584e-01],\n",
      "        ...,\n",
      "        [ 1.02195993e+00,  1.03893399e+00,  1.07084048e+00, ...,\n",
      "         -4.59310597e+00, -4.88105148e+00, -4.99256011e+00],\n",
      "        [ 1.93346648e+00,  1.86002827e+00,  1.81519939e+00, ...,\n",
      "         -8.31896621e+00, -8.59089992e+00, -8.72874722e+00],\n",
      "        [ 1.97893808e+00,  2.03663363e+00,  2.03356287e+00, ...,\n",
      "         -9.51142045e+00, -9.08594232e+00, -8.88325042e+00]],\n",
      "\n",
      "       [[            nan,             nan,             nan, ...,\n",
      "                     nan,             nan,             nan],\n",
      "        [            nan,             nan, -1.80964832e-01, ...,\n",
      "         -3.64481525e+00, -4.19441915e+00, -4.58710403e+00],\n",
      "        [            nan,             nan, -1.51290034e-03, ...,\n",
      "         -2.53985035e+00, -2.93408412e+00, -3.19660905e+00],\n",
      "...\n",
      "        [-9.73288163e+00, -9.52542919e+00, -9.06244528e+00, ...,\n",
      "         -3.18246003e+00, -3.27160539e+00, -3.31206421e+00],\n",
      "        [-5.45824434e+00, -5.20827865e+00, -4.69813887e+00, ...,\n",
      "         -4.27712266e+00, -4.36870304e+00, -4.38578608e+00],\n",
      "        [ 2.08672507e+00,  2.09940618e+00,  2.09433557e+00, ...,\n",
      "         -5.70808578e+00, -5.89161610e+00, -6.00975011e+00]],\n",
      "\n",
      "       [[            nan,             nan,             nan, ...,\n",
      "                     nan,             nan,             nan],\n",
      "        [            nan,             nan,  4.41110620e-01, ...,\n",
      "          2.62260975e+00,  2.22453240e+00,  1.85273013e+00],\n",
      "        [            nan,             nan,  3.47037384e-01, ...,\n",
      "          2.44059850e+00,  2.09366634e+00,  1.71036418e+00],\n",
      "        ...,\n",
      "        [ 3.92618779e+00,  3.81101882e+00,  3.56699316e+00, ...,\n",
      "         -3.59553461e+00, -3.46960352e+00, -3.39002059e+00],\n",
      "        [ 2.94521838e+00,  2.89239578e+00,  2.78511464e+00, ...,\n",
      "         -6.40594580e+00, -6.34142726e+00, -6.29455368e+00],\n",
      "        [ 1.26788919e+00,  1.25645832e+00,  1.19847771e+00, ...,\n",
      "         -1.08961298e+01, -1.11531418e+01, -1.12827550e+01]]])\n",
      "Coordinates:\n",
      "  * plev     (plev) float64 1e+05 9.25e+04 8.5e+04 7e+04 ... 3e+03 2e+03 1e+03\n",
      "  * lat      (lat) float64 -88.75 -86.25 -83.75 -81.25 ... 83.75 86.25 88.75\n",
      "  * time     (time) object 1950-01-16 12:00:00 ... 2022-12-16 12:00:00\n",
      "<xarray.DataArray 'pseudo_pcs' (time: 876, mode: 1)>\n",
      "array([[ 4.10436293e+03],\n",
      "       [ 3.52955813e+03],\n",
      "       [ 4.07411724e+03],\n",
      "       [ 3.48139578e+03],\n",
      "       [ 3.90587254e+03],\n",
      "       [ 3.25977740e+03],\n",
      "       [ 3.93449541e+03],\n",
      "       [ 4.31509097e+03],\n",
      "       [ 3.08252363e+03],\n",
      "       [ 4.16253320e+03],\n",
      "       [ 4.03498542e+03],\n",
      "       [ 2.85578631e+03],\n",
      "       [ 4.36013148e+03],\n",
      "       [ 4.38657269e+03],\n",
      "       [ 1.98995084e+03],\n",
      "       [ 3.81990472e+03],\n",
      "       [ 2.20400464e+03],\n",
      "       [ 2.02063707e+03],\n",
      "       [ 2.14399363e+03],\n",
      "       [-1.90512920e+01],\n",
      "...\n",
      "       [-3.77154161e+03],\n",
      "       [-3.27212399e+03],\n",
      "       [-4.88095417e+03],\n",
      "       [-4.36532452e+03],\n",
      "       [-4.97693247e+03],\n",
      "       [-5.99049711e+03],\n",
      "       [-4.40539563e+03],\n",
      "       [-5.18289312e+03],\n",
      "       [-3.56839166e+03],\n",
      "       [-3.32035903e+03],\n",
      "       [-4.19868637e+03],\n",
      "       [-4.29240846e+03],\n",
      "       [-3.94804510e+03],\n",
      "       [-2.49628162e+03],\n",
      "       [-5.25451174e+03],\n",
      "       [-4.35834407e+03],\n",
      "       [-4.51883499e+03],\n",
      "       [-4.53857973e+03],\n",
      "       [-3.64285841e+03],\n",
      "       [-2.81726265e+03]])\n",
      "Coordinates:\n",
      "  * time     (time) object 1950-01-16 12:00:00 ... 2022-12-16 12:00:00\n",
      "  * mode     (mode) int64 0\n",
      "Attributes:\n",
      "    long_name:  ta_pseudo_pcs\n",
      "<xarray.DataArray 'pseudo_pcs' (time: 876)>\n",
      "array([ 4.10436293e+03,  3.52955813e+03,  4.07411724e+03,  3.48139578e+03,\n",
      "        3.90587254e+03,  3.25977740e+03,  3.93449541e+03,  4.31509097e+03,\n",
      "        3.08252363e+03,  4.16253320e+03,  4.03498542e+03,  2.85578631e+03,\n",
      "        4.36013148e+03,  4.38657269e+03,  1.98995084e+03,  3.81990472e+03,\n",
      "        2.20400464e+03,  2.02063707e+03,  2.14399363e+03, -1.90512920e+01,\n",
      "        8.99892083e+01,  5.56634152e+02, -5.01543925e+01,  8.47982604e+02,\n",
      "       -3.40428242e+02,  2.12512795e+02,  9.34216170e+02,  1.05681149e+03,\n",
      "        2.01800157e+03,  1.55830377e+03,  7.61145476e+02,  1.59310132e+03,\n",
      "        1.84230383e+03,  9.89706660e+02,  2.72546914e+03,  3.18031722e+03,\n",
      "        2.77453000e+03,  1.86211428e+03,  1.43449131e+03,  1.64435656e+03,\n",
      "        1.48841213e+03,  1.70380481e+02,  1.12769070e+03,  3.04526608e+02,\n",
      "        1.57243929e+03,  2.02654026e+03,  1.59445135e+03,  1.78647043e+03,\n",
      "        2.95788605e+03,  3.51055170e+03,  2.75763890e+03,  2.79886368e+03,\n",
      "        2.90827974e+03,  2.90798430e+03,  3.64135747e+03,  2.63932064e+03,\n",
      "        2.76190807e+03,  4.63679063e+03,  3.91490325e+03,  4.51820115e+03,\n",
      "        4.45070263e+03,  2.41139318e+03,  3.92993252e+03,  4.98505922e+03,\n",
      "        3.19024106e+03,  3.64451313e+03,  3.31129537e+03,  2.93705478e+03,\n",
      "        2.10064696e+03,  2.24913181e+03,  3.60593532e+03,  4.74097737e+03,\n",
      "        4.28119398e+03,  5.02488700e+03,  3.24009717e+03,  3.57985569e+03,\n",
      "        3.79197542e+03,  4.31019354e+03,  5.32448745e+03,  4.90675561e+03,\n",
      "...\n",
      "       -5.64917497e+03, -4.56163536e+03, -4.68245812e+03, -5.01686505e+03,\n",
      "       -4.75979186e+03, -4.49163284e+03, -4.60601965e+03, -3.96828801e+03,\n",
      "       -4.19994761e+03, -4.49275587e+03, -3.44317459e+03, -4.03704811e+03,\n",
      "       -4.87613125e+03, -4.22035339e+03, -4.48923790e+03, -4.80403675e+03,\n",
      "       -5.46011797e+03, -5.63804100e+03, -3.90293486e+03, -4.76024744e+03,\n",
      "       -3.55055923e+03, -2.83182626e+03, -3.91838756e+03, -2.67277654e+03,\n",
      "       -3.08794014e+03, -3.58991887e+03, -4.29917608e+03, -3.29161976e+03,\n",
      "       -3.17034687e+03, -3.39187194e+03, -4.23265082e+03, -4.33018612e+03,\n",
      "       -5.24604788e+03, -4.64043934e+03, -4.32431261e+03, -5.42532859e+03,\n",
      "       -4.45424315e+03, -5.79955218e+03, -5.09421008e+03, -5.10568881e+03,\n",
      "       -5.63854883e+03, -3.73893629e+03, -5.16123382e+03, -6.06845742e+03,\n",
      "       -6.70788609e+03, -7.73852699e+03, -6.18874960e+03, -4.87887479e+03,\n",
      "       -6.32974932e+03, -5.31599547e+03, -5.28413833e+03, -5.79666861e+03,\n",
      "       -5.74259531e+03, -5.61009968e+03, -5.84345494e+03, -4.30530395e+03,\n",
      "       -4.41858059e+03, -4.42715592e+03, -2.54026532e+03, -2.52662977e+03,\n",
      "       -3.77154161e+03, -3.27212399e+03, -4.88095417e+03, -4.36532452e+03,\n",
      "       -4.97693247e+03, -5.99049711e+03, -4.40539563e+03, -5.18289312e+03,\n",
      "       -3.56839166e+03, -3.32035903e+03, -4.19868637e+03, -4.29240846e+03,\n",
      "       -3.94804510e+03, -2.49628162e+03, -5.25451174e+03, -4.35834407e+03,\n",
      "       -4.51883499e+03, -4.53857973e+03, -3.64285841e+03, -2.81726265e+03])\n",
      "Coordinates:\n",
      "  * time     (time) object 1950-01-16 12:00:00 ... 2022-12-16 12:00:00\n",
      "    mode     int64 0\n",
      "Attributes:\n",
      "    long_name:  ta_pseudo_pcs\n",
      "1072224\n",
      "1J\n",
      "['/Volumes/R1/ForceSMIP//Evaluation-Tier1/Amon/zmta/zmta_mon_1J.195001-202212.nc']\n",
      "<xarray.DataArray 'ta' (time: 876, plev: 17, lat: 72)>\n",
      "array([[[         nan,          nan,          nan, ...,          nan,\n",
      "                  nan,          nan],\n",
      "        [         nan,          nan,  -1.09057213, ...,   1.92154245,\n",
      "           1.35243678,   1.26636057],\n",
      "        [         nan,          nan,  -1.14876523, ...,   1.42860731,\n",
      "           0.92450429,   0.56031217],\n",
      "        ...,\n",
      "        [ -0.97193913,  -0.96051526,  -0.93369343, ...,   1.64663384,\n",
      "           1.90324394,   2.04942395],\n",
      "        [ -1.13435137,  -1.09827045,  -1.02423784, ...,  -0.19484687,\n",
      "           0.10779632,   0.27424196],\n",
      "        [ -0.39062675,  -0.35703959,  -0.28372867, ...,  -2.90776745,\n",
      "          -2.77669584,  -2.7080735 ]],\n",
      "\n",
      "       [[         nan,          nan,          nan, ...,          nan,\n",
      "                  nan,          nan],\n",
      "        [         nan,          nan,  -1.10252938, ...,  -1.05709198,\n",
      "          -1.4954423 ,  -1.64153324],\n",
      "        [         nan,          nan,  -0.91543943, ...,  -1.50211561,\n",
      "          -1.51054604,  -1.42609718],\n",
      "...\n",
      "        [ -1.24469611,  -0.92398343,  -0.34254865, ...,   0.06170139,\n",
      "           0.23933074,   0.30746802],\n",
      "        [  2.1727135 ,   2.24711038,   2.34231258, ...,  -0.02489758,\n",
      "           0.3051514 ,   0.4707874 ],\n",
      "        [  4.93139627,   4.50490873,   3.78077891, ...,  -0.75775666,\n",
      "          -0.38029318,  -0.18764131]],\n",
      "\n",
      "       [[         nan,          nan,          nan, ...,          nan,\n",
      "                  nan,          nan],\n",
      "        [         nan,          nan,   0.36242045, ...,  -2.21630405,\n",
      "          -1.94105614,  -1.91876126],\n",
      "        [         nan,          nan,   0.38503273, ...,  -1.83839279,\n",
      "          -1.50907512,  -1.31165074],\n",
      "        ...,\n",
      "        [-11.6327407 , -11.1223631 , -10.11920961, ...,  -0.96716761,\n",
      "          -0.77967004,  -0.7357227 ],\n",
      "        [ -6.97587754,  -6.61195905,  -5.91658327, ...,  -2.289687  ,\n",
      "          -2.22002741,  -2.23135393],\n",
      "        [ -0.55573307,  -0.52988401,  -0.48025264, ...,  -3.73243102,\n",
      "          -3.69463131,  -3.67571878]]])\n",
      "Coordinates:\n",
      "  * plev     (plev) float64 1e+05 9.25e+04 8.5e+04 7e+04 ... 3e+03 2e+03 1e+03\n",
      "  * lat      (lat) float64 -88.75 -86.25 -83.75 -81.25 ... 83.75 86.25 88.75\n",
      "  * time     (time) object 1950-01-16 12:00:00 ... 2022-12-16 12:00:00\n",
      "<xarray.DataArray 'pseudo_pcs' (time: 876, mode: 1)>\n",
      "array([[ 4.19197092e+03],\n",
      "       [ 2.98016985e+03],\n",
      "       [ 4.39996467e+03],\n",
      "       [ 2.03844535e+03],\n",
      "       [ 3.33222030e+03],\n",
      "       [ 3.22255487e+03],\n",
      "       [ 2.00193571e+03],\n",
      "       [ 2.22651564e+03],\n",
      "       [ 4.24749904e+03],\n",
      "       [ 3.78212441e+03],\n",
      "       [ 2.58533460e+03],\n",
      "       [ 2.76032468e+03],\n",
      "       [ 1.64400075e+03],\n",
      "       [ 1.72614547e+03],\n",
      "       [ 1.86747417e+03],\n",
      "       [ 1.87145380e+03],\n",
      "       [ 3.09199989e+03],\n",
      "       [ 3.19742913e+03],\n",
      "       [ 4.09537870e+03],\n",
      "       [ 3.39724777e+03],\n",
      "...\n",
      "       [-4.74094671e+03],\n",
      "       [-6.52476980e+03],\n",
      "       [-6.25671140e+03],\n",
      "       [-5.87438226e+03],\n",
      "       [-6.54165787e+03],\n",
      "       [-5.07095817e+03],\n",
      "       [-5.04691852e+03],\n",
      "       [-6.76032615e+03],\n",
      "       [-6.93062360e+03],\n",
      "       [-8.75430087e+03],\n",
      "       [-7.61659779e+03],\n",
      "       [-7.53440228e+03],\n",
      "       [-6.00427748e+03],\n",
      "       [-5.78225927e+03],\n",
      "       [-5.72798947e+03],\n",
      "       [-5.35520787e+03],\n",
      "       [-5.10906805e+03],\n",
      "       [-5.57717527e+03],\n",
      "       [-3.84194309e+03],\n",
      "       [-2.96868006e+03]])\n",
      "Coordinates:\n",
      "  * time     (time) object 1950-01-16 12:00:00 ... 2022-12-16 12:00:00\n",
      "  * mode     (mode) int64 0\n",
      "Attributes:\n",
      "    long_name:  ta_pseudo_pcs\n",
      "<xarray.DataArray 'pseudo_pcs' (time: 876)>\n",
      "array([ 4.19197092e+03,  2.98016985e+03,  4.39996467e+03,  2.03844535e+03,\n",
      "        3.33222030e+03,  3.22255487e+03,  2.00193571e+03,  2.22651564e+03,\n",
      "        4.24749904e+03,  3.78212441e+03,  2.58533460e+03,  2.76032468e+03,\n",
      "        1.64400075e+03,  1.72614547e+03,  1.86747417e+03,  1.87145380e+03,\n",
      "        3.09199989e+03,  3.19742913e+03,  4.09537870e+03,  3.39724777e+03,\n",
      "        3.43448711e+03,  2.21682266e+03,  1.19275302e+03,  3.16971624e+03,\n",
      "        2.60126175e+03,  2.73262360e+03,  1.98756074e+03,  1.99898847e+03,\n",
      "        3.23247963e+03,  2.89633687e+03,  4.35233033e+03,  3.73384021e+03,\n",
      "        2.87607607e+03,  2.65944005e+03,  2.92476410e+03,  2.71080630e+03,\n",
      "        4.64738773e+03,  2.38394476e+03,  3.28384652e+03,  2.76259342e+03,\n",
      "        3.38344258e+03,  4.34912911e+03,  3.26834155e+03,  1.19606683e+03,\n",
      "        2.22931918e+03,  3.47347481e+03,  3.18026423e+03,  4.36504487e+03,\n",
      "        1.99900859e+03,  1.81655987e+03,  2.03935290e+03,  2.48733875e+03,\n",
      "        1.42259640e+03,  1.63540491e+03,  1.52167802e+03,  1.58791796e+03,\n",
      "        2.30052978e+03,  2.32971032e+03,  2.96247480e+03,  4.76333850e+03,\n",
      "        2.92631546e+03,  2.85528404e+03,  2.23438064e+03,  2.21062142e+03,\n",
      "        2.68061863e+03,  3.26159553e+03,  2.91693612e+03,  2.51746373e+03,\n",
      "        2.41611290e+03,  2.67444978e+02,  3.38464900e+03,  2.10225866e+03,\n",
      "        1.55285100e+03,  1.26369702e+03,  8.06938032e+02, -1.46141360e+03,\n",
      "        9.31002121e+01,  1.42513810e+03,  1.13289528e+03,  1.74405695e+03,\n",
      "...\n",
      "       -3.02368424e+03, -3.37888587e+03, -3.92268582e+03, -2.18758162e+03,\n",
      "       -3.45333271e+03, -2.24286060e+03, -2.99085291e+03, -4.43799519e+03,\n",
      "       -4.08237558e+03, -4.89989752e+03, -2.41965545e+03, -2.50338750e+03,\n",
      "       -2.82523619e+03, -2.01081513e+03, -2.90962457e+03, -3.97110145e+03,\n",
      "       -4.29225135e+03, -3.86622924e+03, -4.49219853e+03, -4.09190087e+03,\n",
      "       -5.02587670e+03, -3.30758914e+03, -3.31900207e+03, -2.75710491e+03,\n",
      "       -3.86553875e+03, -5.40964472e+03, -4.76993721e+03, -3.50895989e+03,\n",
      "       -4.43133677e+03, -4.48924032e+03, -4.26884744e+03, -5.11735627e+03,\n",
      "       -3.99695391e+03, -3.83655964e+03, -3.62611302e+03, -3.55702621e+03,\n",
      "       -3.57993815e+03, -4.21355261e+03, -4.68443453e+03, -4.73731343e+03,\n",
      "       -4.60343852e+03, -5.63888480e+03, -4.19806928e+03, -5.38952723e+03,\n",
      "       -5.36857394e+03, -5.85453651e+03, -4.46259751e+03, -5.04569656e+03,\n",
      "       -6.39536144e+03, -5.89881024e+03, -5.87646502e+03, -5.69411445e+03,\n",
      "       -5.32506842e+03, -5.65498902e+03, -5.53313035e+03, -7.01542428e+03,\n",
      "       -5.55907376e+03, -4.72962665e+03, -4.47248833e+03, -4.55193350e+03,\n",
      "       -4.74094671e+03, -6.52476980e+03, -6.25671140e+03, -5.87438226e+03,\n",
      "       -6.54165787e+03, -5.07095817e+03, -5.04691852e+03, -6.76032615e+03,\n",
      "       -6.93062360e+03, -8.75430087e+03, -7.61659779e+03, -7.53440228e+03,\n",
      "       -6.00427748e+03, -5.78225927e+03, -5.72798947e+03, -5.35520787e+03,\n",
      "       -5.10906805e+03, -5.57717527e+03, -3.84194309e+03, -2.96868006e+03])\n",
      "Coordinates:\n",
      "  * time     (time) object 1950-01-16 12:00:00 ... 2022-12-16 12:00:00\n",
      "    mode     int64 0\n",
      "Attributes:\n",
      "    long_name:  ta_pseudo_pcs\n",
      "1072224\n"
     ]
    }
   ],
   "source": [
    "# get evaluation models\n",
    "eval_dir = root_dir + '/Evaluation-' + eval_tier + '/' + cmipTable[ncvar] + '/' + ncvar\n",
    "eval_models = glob.glob(eval_dir + '/*')\n",
    "eval_models = [p.split('_')[-1].split('.')[0] for p in eval_models]\n",
    "eval_models.sort(key=natsort)\n",
    "\n",
    "# initialize output dataset\n",
    "eval_model_climatology = None\n",
    "# We also will define a reference plev (used to ensure all models are on the same plev axis)\n",
    "ref_plev = None\n",
    "\n",
    "# loop over evaluation models\n",
    "for model in eval_models:\n",
    "    print(model)\n",
    "    # get file for model\n",
    "    fn = glob.glob(eval_dir + '/*_' + model + '.*.nc')\n",
    "    print(fn)\n",
    "    # make sure filename is unique\n",
    "    if len(fn) != 1:\n",
    "        raise ValueError(\"Unexpected number of model members\")\n",
    "    else:\n",
    "        fn = fn[0]\n",
    "    # open dataset\n",
    "    ds = xc.open_dataset(fn)\n",
    "    #ds = ds.drop_vars('lon')\n",
    "    ds = ds.squeeze()\n",
    "    ds = ds.bounds.add_missing_bounds(axes=['T','Z'])\n",
    "    # remove singletons\n",
    "\n",
    "    # compute annual average temperature values\n",
    "    #ds = ds.temporal.group_average(vid, freq='year')\n",
    "    # subset data to user-specified time period\n",
    "    ds = ds.sel(time=slice(tv_time_period[0], tv_time_period[1]))\n",
    "    #print(ds)\n",
    "    ds = ds.temporal.departures(vid, freq='month', reference_period=reference_period)\n",
    "    \n",
    "    target = ds[vid].transpose('time', 'plev', 'lat') * np.tile( np.expand_dims(missing_data, axis=0), (ds[vid].shape[0], 1, 1) )\n",
    "    print(target)\n",
    "    pseudo_pcs = solver.projectField(target - target.mean(dim=\"time\") ,neofs=1) #solver.projectField(data, neofs=4)\n",
    "    print(pseudo_pcs)\n",
    "    \n",
    "    pseudo_pcs_new = pseudo_pcs.squeeze()\n",
    "    pseudo_pcs_new\n",
    "    print(pseudo_pcs_new)\n",
    "    tmp1 = pseudo_pcs_new * eofs[0,:,:]\n",
    "    print(tmp1.size)\n",
    "    tmp2 = tmp1 / weights\n",
    "    tmp3 = tmp2.transpose('time', 'plev', 'lat')\n",
    "    \n",
    "    tmp4 = tmp3 * np.tile( np.expand_dims(missing_data, axis=0), (tmp3.shape[0], 1, 1) )\n",
    "    tmp4.attrs['_FillValue'] = 1e20\n",
    "    \n",
    "    output = xr.Dataset({vid: tmp4}) #output = xr.Dataset({\"recon\": tmp4, \"pseudo_pcs\": -pseudo_pcs_new}) \n",
    "    output = output.fillna(1e20)\n",
    "    output.to_netcdf(ncvar + '_' + model + '_' + eval_tier + '_AllFinger_TheFingerprinters.nc')\n",
    "    "
   ]
  },
  {
   "cell_type": "code",
   "execution_count": null,
   "id": "25fb87c8-bcf7-49b4-a75c-61cdd71fcbf4",
   "metadata": {},
   "outputs": [],
   "source": []
  }
 ],
 "metadata": {
  "kernelspec": {
   "display_name": "Python 3 (ipykernel)",
   "language": "python",
   "name": "python3"
  },
  "language_info": {
   "codemirror_mode": {
    "name": "ipython",
    "version": 3
   },
   "file_extension": ".py",
   "mimetype": "text/x-python",
   "name": "python",
   "nbconvert_exporter": "python",
   "pygments_lexer": "ipython3",
   "version": "3.11.7"
  },
  "toc": {
   "base_numbering": 1,
   "nav_menu": {},
   "number_sections": true,
   "sideBar": true,
   "skip_h1_title": false,
   "title_cell": "Table of Contents",
   "title_sidebar": "Contents",
   "toc_cell": false,
   "toc_position": {},
   "toc_section_display": true,
   "toc_window_display": false
  },
  "varInspector": {
   "cols": {
    "lenName": 16,
    "lenType": 16,
    "lenVar": 40
   },
   "kernels_config": {
    "python": {
     "delete_cmd_postfix": "",
     "delete_cmd_prefix": "del ",
     "library": "var_list.py",
     "varRefreshCmd": "print(var_dic_list())"
    },
    "r": {
     "delete_cmd_postfix": ") ",
     "delete_cmd_prefix": "rm(",
     "library": "var_list.r",
     "varRefreshCmd": "cat(var_dic_list()) "
    }
   },
   "types_to_exclude": [
    "module",
    "function",
    "builtin_function_or_method",
    "instance",
    "_Feature"
   ],
   "window_display": false
  }
 },
 "nbformat": 4,
 "nbformat_minor": 5
}
